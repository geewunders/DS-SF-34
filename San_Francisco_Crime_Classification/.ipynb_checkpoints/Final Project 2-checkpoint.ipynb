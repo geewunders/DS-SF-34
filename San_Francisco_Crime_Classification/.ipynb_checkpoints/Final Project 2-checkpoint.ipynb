{
 "cells": [
  {
   "cell_type": "markdown",
   "metadata": {},
   "source": [
    "# Final Project 2"
   ]
  },
  {
   "cell_type": "markdown",
   "metadata": {},
   "source": [
    "## San Francisco Crime Classification"
   ]
  },
  {
   "cell_type": "markdown",
   "metadata": {},
   "source": [
    "### Project Problem and Hypothesis"
   ]
  },
  {
   "cell_type": "markdown",
   "metadata": {},
   "source": [
    "##### The following is an excerpt from Kaggle San Francisco Crime Classification: \n",
    "\n",
    "##### With rising wealth inequality, housing shortages, and a proliferation of expensive digital toys riding BART to work, there is no scarcity of crime in the city by the bay\n",
    "\n",
    "##### My overall summary:\n",
    "By using this dataset, predict the category of crimes that occurred in the city. To keep this project manageable, I've reduced to the number of categories I'm allowed to predict: predict whether the crime will fall under \"LARCENY/THEFT\" or not. One example of how this prediction  could help in the future is to allocate enough law enforcement at the right place and right time to prevent theft. Through some exploratory data analysis (and looking at the test set), I'll keep the columns,\"ID\", \"Dates\", \"Category\", \"PdDistrict\", \"Address\",\"X\", and \"Y\". Overall with the limited amount of columns to work with, with some data minpulation, I think PDdistrict, Dates, X, and Y will have the biggest impact in predictive power."
   ]
  },
  {
   "cell_type": "markdown",
   "metadata": {},
   "source": [
    "### Datasets\n",
    "\n",
    "Dates - timestamp of the crime incident. I will try to break into more columns for Day, Year, Month, and time.\n",
    "\n",
    "Category - category of the crime incident (only in train.csv). This is the target variable I will try to predict.\n",
    "\n",
    "Descript - detailed description of the crime incident (only in train.csv). I am dropping this column.\n",
    "\n",
    "DayOfWeek - the day of the week, Sunday through Saturday. I created dummy variables for this.\n",
    "\n",
    "PdDistrict - name of the Police Department District\n",
    "\n",
    "Resolution - how the crime incident was resolved (only in train.csv). I might drop this column.\n",
    "\n",
    "Address - the approximate street address of the crime incident\n",
    "\n",
    "X - Longitude\n",
    "\n",
    "Y - Latitude\n",
    "\n",
    "I'll also create dummy variables for DayOfWeek and Address."
   ]
  },
  {
   "cell_type": "markdown",
   "metadata": {},
   "source": [
    "### Domain knowledge\n",
    "\n",
    "Thankfully, if I google \"San Francisco Crime Classification github,\" there is a lot of work that has already been done on this, so I was leverage other ideas if I get stuck or need help creating a model.\n",
    "    \n",
    "<b>Benchmark</b>: \n",
    "\n",
    "After doing some google searches, it looks like the best model for this classifier is from a decision tree, which we haven't covered yet in class. I read someone online that someone got a rank of 1149 with a score of 2.64. I'm not sure what this means, I'm I am adding this comment as part of the document writeup."
   ]
  },
  {
   "cell_type": "markdown",
   "metadata": {},
   "source": [
    "### Project Concerns\n",
    "\n",
    "I'm not sure where to start. I plan on working with the same model my group had used for the class assignment, titantic, and work from there to see what can be done. I'm also reading from other folks who used predicitive models that we haven't covered in class (yet at least). Some of these include Naïve Bayes and decision trees. While there are other models out there that were used for this dataset, I'd like to stick with materials we learned in class as much as possible. I need help determining what would be the best route. \n",
    "\n",
    "I don't what to do with X and Y variables, although I think they're important to keep.\n",
    "\n",
    "<b>Assumptions</b>: \n",
    "\n",
    "The only high level assumption I can think of for this is that the data entered is as accurate as possible. \n",
    "\n",
    "<b>Data I wish I had</b>:\n",
    "\n",
    "Not to get carried away, but I read from another person had data for nearby police stations. I think this is possible to get, but would take a lot of time to do as I would take ages to figure out how to pull this information together.\n",
    "\n",
    "Also, if I could somehow understand how coordinates work, I could create a range of coordinates and add it into my data to add more classifications.\n",
    "\n",
    "<b>Risks</b>:\n",
    "\n",
    "At the moment, the only risk I can think of is that the data entry is already biased. At the same time, I think this risk is low, because I don't need the folks entering data have an agenda to skew it, unless the data released by SFPD was manipulated.\n",
    "\n"
   ]
  },
  {
   "cell_type": "markdown",
   "metadata": {},
   "source": [
    "### Outcomes\n",
    "\n",
    "I'm hoping to train the training set and when compared back to the test set, my goal to get a good percentage of them predicted correctly. Given that I'm obviously new to data science, I will try to keep my model as simple as possible using material from class. My definition of success would be to come up with predictions utilizing class material. My best case sceanrio for success is a high score for predictions.\n",
    "\n"
   ]
  },
  {
   "cell_type": "code",
   "execution_count": 1,
   "metadata": {
    "collapsed": false
   },
   "outputs": [
    {
     "name": "stderr",
     "output_type": "stream",
     "text": [
      "/Users/grady/anaconda/lib/python2.7/site-packages/sklearn/cross_validation.py:44: DeprecationWarning: This module was deprecated in version 0.18 in favor of the model_selection module into which all the refactored classes and functions are moved. Also note that the interface of the new CV iterators are different from that of this module. This module will be removed in 0.20.\n",
      "  \"This module will be removed in 0.20.\", DeprecationWarning)\n"
     ]
    }
   ],
   "source": [
    "import os\n",
    "\n",
    "import math\n",
    "\n",
    "import numpy as np\n",
    "import pandas as pd\n",
    "from datetime import datetime as dt\n",
    "pd.set_option('display.max_rows', 10)\n",
    "pd.set_option('display.notebook_repr_html', True)\n",
    "pd.set_option('display.max_columns', 12)\n",
    "\n",
    "from sklearn import linear_model, cross_validation, tree, ensemble, metrics, model_selection, externals\n",
    "import statsmodels.api as sm\n",
    "import statsmodels.formula.api as smf\n",
    "from sklearn.model_selection import GridSearchCV\n",
    "\n",
    "import matplotlib.pyplot as plt\n",
    "%matplotlib inline\n",
    "plt.style.use('ggplot')\n",
    "\n",
    "#take out x and y because it's probably not useful\n",
    "#probably use logisitic regression.\n",
    "#will go into decision trees so this might work.\n",
    "#You can plot x and y."
   ]
  },
  {
   "cell_type": "code",
   "execution_count": 2,
   "metadata": {
    "collapsed": false
   },
   "outputs": [],
   "source": [
    "df = pd.read_csv(\"train.csv\")"
   ]
  },
  {
   "cell_type": "code",
   "execution_count": 3,
   "metadata": {
    "collapsed": false
   },
   "outputs": [
    {
     "data": {
      "text/html": [
       "<div>\n",
       "<table border=\"1\" class=\"dataframe\">\n",
       "  <thead>\n",
       "    <tr style=\"text-align: right;\">\n",
       "      <th></th>\n",
       "      <th>Dates</th>\n",
       "      <th>Category</th>\n",
       "      <th>Descript</th>\n",
       "      <th>DayOfWeek</th>\n",
       "      <th>PdDistrict</th>\n",
       "      <th>Resolution</th>\n",
       "      <th>Address</th>\n",
       "      <th>X</th>\n",
       "      <th>Y</th>\n",
       "    </tr>\n",
       "  </thead>\n",
       "  <tbody>\n",
       "    <tr>\n",
       "      <th>0</th>\n",
       "      <td>2015-05-13 23:53:00</td>\n",
       "      <td>WARRANTS</td>\n",
       "      <td>WARRANT ARREST</td>\n",
       "      <td>Wednesday</td>\n",
       "      <td>NORTHERN</td>\n",
       "      <td>ARREST, BOOKED</td>\n",
       "      <td>OAK ST / LAGUNA ST</td>\n",
       "      <td>-122.425892</td>\n",
       "      <td>37.774599</td>\n",
       "    </tr>\n",
       "    <tr>\n",
       "      <th>1</th>\n",
       "      <td>2015-05-13 23:53:00</td>\n",
       "      <td>OTHER OFFENSES</td>\n",
       "      <td>TRAFFIC VIOLATION ARREST</td>\n",
       "      <td>Wednesday</td>\n",
       "      <td>NORTHERN</td>\n",
       "      <td>ARREST, BOOKED</td>\n",
       "      <td>OAK ST / LAGUNA ST</td>\n",
       "      <td>-122.425892</td>\n",
       "      <td>37.774599</td>\n",
       "    </tr>\n",
       "    <tr>\n",
       "      <th>2</th>\n",
       "      <td>2015-05-13 23:33:00</td>\n",
       "      <td>OTHER OFFENSES</td>\n",
       "      <td>TRAFFIC VIOLATION ARREST</td>\n",
       "      <td>Wednesday</td>\n",
       "      <td>NORTHERN</td>\n",
       "      <td>ARREST, BOOKED</td>\n",
       "      <td>VANNESS AV / GREENWICH ST</td>\n",
       "      <td>-122.424363</td>\n",
       "      <td>37.800414</td>\n",
       "    </tr>\n",
       "    <tr>\n",
       "      <th>3</th>\n",
       "      <td>2015-05-13 23:30:00</td>\n",
       "      <td>LARCENY/THEFT</td>\n",
       "      <td>GRAND THEFT FROM LOCKED AUTO</td>\n",
       "      <td>Wednesday</td>\n",
       "      <td>NORTHERN</td>\n",
       "      <td>NONE</td>\n",
       "      <td>1500 Block of LOMBARD ST</td>\n",
       "      <td>-122.426995</td>\n",
       "      <td>37.800873</td>\n",
       "    </tr>\n",
       "    <tr>\n",
       "      <th>4</th>\n",
       "      <td>2015-05-13 23:30:00</td>\n",
       "      <td>LARCENY/THEFT</td>\n",
       "      <td>GRAND THEFT FROM LOCKED AUTO</td>\n",
       "      <td>Wednesday</td>\n",
       "      <td>PARK</td>\n",
       "      <td>NONE</td>\n",
       "      <td>100 Block of BRODERICK ST</td>\n",
       "      <td>-122.438738</td>\n",
       "      <td>37.771541</td>\n",
       "    </tr>\n",
       "    <tr>\n",
       "      <th>...</th>\n",
       "      <td>...</td>\n",
       "      <td>...</td>\n",
       "      <td>...</td>\n",
       "      <td>...</td>\n",
       "      <td>...</td>\n",
       "      <td>...</td>\n",
       "      <td>...</td>\n",
       "      <td>...</td>\n",
       "      <td>...</td>\n",
       "    </tr>\n",
       "    <tr>\n",
       "      <th>878044</th>\n",
       "      <td>2003-01-06 00:15:00</td>\n",
       "      <td>ROBBERY</td>\n",
       "      <td>ROBBERY ON THE STREET WITH A GUN</td>\n",
       "      <td>Monday</td>\n",
       "      <td>TARAVAL</td>\n",
       "      <td>NONE</td>\n",
       "      <td>FARALLONES ST / CAPITOL AV</td>\n",
       "      <td>-122.459033</td>\n",
       "      <td>37.714056</td>\n",
       "    </tr>\n",
       "    <tr>\n",
       "      <th>878045</th>\n",
       "      <td>2003-01-06 00:01:00</td>\n",
       "      <td>LARCENY/THEFT</td>\n",
       "      <td>GRAND THEFT FROM LOCKED AUTO</td>\n",
       "      <td>Monday</td>\n",
       "      <td>INGLESIDE</td>\n",
       "      <td>NONE</td>\n",
       "      <td>600 Block of EDNA ST</td>\n",
       "      <td>-122.447364</td>\n",
       "      <td>37.731948</td>\n",
       "    </tr>\n",
       "    <tr>\n",
       "      <th>878046</th>\n",
       "      <td>2003-01-06 00:01:00</td>\n",
       "      <td>LARCENY/THEFT</td>\n",
       "      <td>GRAND THEFT FROM LOCKED AUTO</td>\n",
       "      <td>Monday</td>\n",
       "      <td>SOUTHERN</td>\n",
       "      <td>NONE</td>\n",
       "      <td>5TH ST / FOLSOM ST</td>\n",
       "      <td>-122.403390</td>\n",
       "      <td>37.780266</td>\n",
       "    </tr>\n",
       "    <tr>\n",
       "      <th>878047</th>\n",
       "      <td>2003-01-06 00:01:00</td>\n",
       "      <td>VANDALISM</td>\n",
       "      <td>MALICIOUS MISCHIEF, VANDALISM OF VEHICLES</td>\n",
       "      <td>Monday</td>\n",
       "      <td>SOUTHERN</td>\n",
       "      <td>NONE</td>\n",
       "      <td>TOWNSEND ST / 2ND ST</td>\n",
       "      <td>-122.390531</td>\n",
       "      <td>37.780607</td>\n",
       "    </tr>\n",
       "    <tr>\n",
       "      <th>878048</th>\n",
       "      <td>2003-01-06 00:01:00</td>\n",
       "      <td>FORGERY/COUNTERFEITING</td>\n",
       "      <td>CHECKS, FORGERY (FELONY)</td>\n",
       "      <td>Monday</td>\n",
       "      <td>BAYVIEW</td>\n",
       "      <td>NONE</td>\n",
       "      <td>1800 Block of NEWCOMB AV</td>\n",
       "      <td>-122.394926</td>\n",
       "      <td>37.738212</td>\n",
       "    </tr>\n",
       "  </tbody>\n",
       "</table>\n",
       "<p>878049 rows × 9 columns</p>\n",
       "</div>"
      ],
      "text/plain": [
       "                      Dates                Category  \\\n",
       "0       2015-05-13 23:53:00                WARRANTS   \n",
       "1       2015-05-13 23:53:00          OTHER OFFENSES   \n",
       "2       2015-05-13 23:33:00          OTHER OFFENSES   \n",
       "3       2015-05-13 23:30:00           LARCENY/THEFT   \n",
       "4       2015-05-13 23:30:00           LARCENY/THEFT   \n",
       "...                     ...                     ...   \n",
       "878044  2003-01-06 00:15:00                 ROBBERY   \n",
       "878045  2003-01-06 00:01:00           LARCENY/THEFT   \n",
       "878046  2003-01-06 00:01:00           LARCENY/THEFT   \n",
       "878047  2003-01-06 00:01:00               VANDALISM   \n",
       "878048  2003-01-06 00:01:00  FORGERY/COUNTERFEITING   \n",
       "\n",
       "                                         Descript  DayOfWeek PdDistrict  \\\n",
       "0                                  WARRANT ARREST  Wednesday   NORTHERN   \n",
       "1                        TRAFFIC VIOLATION ARREST  Wednesday   NORTHERN   \n",
       "2                        TRAFFIC VIOLATION ARREST  Wednesday   NORTHERN   \n",
       "3                    GRAND THEFT FROM LOCKED AUTO  Wednesday   NORTHERN   \n",
       "4                    GRAND THEFT FROM LOCKED AUTO  Wednesday       PARK   \n",
       "...                                           ...        ...        ...   \n",
       "878044           ROBBERY ON THE STREET WITH A GUN     Monday    TARAVAL   \n",
       "878045               GRAND THEFT FROM LOCKED AUTO     Monday  INGLESIDE   \n",
       "878046               GRAND THEFT FROM LOCKED AUTO     Monday   SOUTHERN   \n",
       "878047  MALICIOUS MISCHIEF, VANDALISM OF VEHICLES     Monday   SOUTHERN   \n",
       "878048                   CHECKS, FORGERY (FELONY)     Monday    BAYVIEW   \n",
       "\n",
       "            Resolution                     Address           X          Y  \n",
       "0       ARREST, BOOKED          OAK ST / LAGUNA ST -122.425892  37.774599  \n",
       "1       ARREST, BOOKED          OAK ST / LAGUNA ST -122.425892  37.774599  \n",
       "2       ARREST, BOOKED   VANNESS AV / GREENWICH ST -122.424363  37.800414  \n",
       "3                 NONE    1500 Block of LOMBARD ST -122.426995  37.800873  \n",
       "4                 NONE   100 Block of BRODERICK ST -122.438738  37.771541  \n",
       "...                ...                         ...         ...        ...  \n",
       "878044            NONE  FARALLONES ST / CAPITOL AV -122.459033  37.714056  \n",
       "878045            NONE        600 Block of EDNA ST -122.447364  37.731948  \n",
       "878046            NONE          5TH ST / FOLSOM ST -122.403390  37.780266  \n",
       "878047            NONE        TOWNSEND ST / 2ND ST -122.390531  37.780607  \n",
       "878048            NONE    1800 Block of NEWCOMB AV -122.394926  37.738212  \n",
       "\n",
       "[878049 rows x 9 columns]"
      ]
     },
     "execution_count": 3,
     "metadata": {},
     "output_type": "execute_result"
    }
   ],
   "source": [
    "df"
   ]
  },
  {
   "cell_type": "markdown",
   "metadata": {},
   "source": [
    "### Exploratory analysis"
   ]
  },
  {
   "cell_type": "code",
   "execution_count": 4,
   "metadata": {
    "collapsed": false
   },
   "outputs": [
    {
     "data": {
      "text/plain": [
       "800 Block of BRYANT ST      26533\n",
       "800 Block of MARKET ST       6581\n",
       "2000 Block of MISSION ST     5097\n",
       "1000 Block of POTRERO AV     4063\n",
       "900 Block of MARKET ST       3251\n",
       "                            ...  \n",
       "2600 Block of TARAVAL ST        1\n",
       "0 Block of PALOALTO AV          1\n",
       "ALEMANY BL / RAMSELL ST         1\n",
       "2800 Block of MARKET ST         1\n",
       "KRAMER PL / GREENWICH ST        1\n",
       "Name: Address, dtype: int64"
      ]
     },
     "execution_count": 4,
     "metadata": {},
     "output_type": "execute_result"
    }
   ],
   "source": [
    "df.Address.value_counts() #count the number of times an address occurs.\n",
    "# Most crime occurs on Bryant ST"
   ]
  },
  {
   "cell_type": "code",
   "execution_count": 5,
   "metadata": {
    "collapsed": false
   },
   "outputs": [
    {
     "data": {
      "text/plain": [
       "Index([u'Dates', u'Category', u'Descript', u'DayOfWeek', u'PdDistrict',\n",
       "       u'Resolution', u'Address', u'X', u'Y'],\n",
       "      dtype='object')"
      ]
     },
     "execution_count": 5,
     "metadata": {},
     "output_type": "execute_result"
    }
   ],
   "source": [
    "df.columns # see all features"
   ]
  },
  {
   "cell_type": "code",
   "execution_count": 6,
   "metadata": {
    "collapsed": false
   },
   "outputs": [
    {
     "data": {
      "text/plain": [
       "array(['ARREST, BOOKED', 'NONE', 'ARREST, CITED', 'PSYCHOPATHIC CASE',\n",
       "       'JUVENILE BOOKED', 'UNFOUNDED', 'EXCEPTIONAL CLEARANCE', 'LOCATED',\n",
       "       'CLEARED-CONTACT JUVENILE FOR MORE INFO', 'NOT PROSECUTED',\n",
       "       'JUVENILE DIVERTED', 'COMPLAINANT REFUSES TO PROSECUTE',\n",
       "       'JUVENILE ADMONISHED', 'JUVENILE CITED',\n",
       "       'DISTRICT ATTORNEY REFUSES TO PROSECUTE',\n",
       "       'PROSECUTED BY OUTSIDE AGENCY', 'PROSECUTED FOR LESSER OFFENSE'], dtype=object)"
      ]
     },
     "execution_count": 6,
     "metadata": {},
     "output_type": "execute_result"
    }
   ],
   "source": [
    "df.Resolution.unique() # see all unique resolutions "
   ]
  },
  {
   "cell_type": "code",
   "execution_count": 7,
   "metadata": {
    "collapsed": false
   },
   "outputs": [
    {
     "data": {
      "text/plain": [
       "array(['WARRANTS', 'OTHER OFFENSES', 'LARCENY/THEFT', 'VEHICLE THEFT',\n",
       "       'VANDALISM', 'NON-CRIMINAL', 'ROBBERY', 'ASSAULT', 'WEAPON LAWS',\n",
       "       'BURGLARY', 'SUSPICIOUS OCC', 'DRUNKENNESS',\n",
       "       'FORGERY/COUNTERFEITING', 'DRUG/NARCOTIC', 'STOLEN PROPERTY',\n",
       "       'SECONDARY CODES', 'TRESPASS', 'MISSING PERSON', 'FRAUD',\n",
       "       'KIDNAPPING', 'RUNAWAY', 'DRIVING UNDER THE INFLUENCE',\n",
       "       'SEX OFFENSES FORCIBLE', 'PROSTITUTION', 'DISORDERLY CONDUCT',\n",
       "       'ARSON', 'FAMILY OFFENSES', 'LIQUOR LAWS', 'BRIBERY',\n",
       "       'EMBEZZLEMENT', 'SUICIDE', 'LOITERING', 'SEX OFFENSES NON FORCIBLE',\n",
       "       'EXTORTION', 'GAMBLING', 'BAD CHECKS', 'TREA', 'RECOVERED VEHICLE',\n",
       "       'PORNOGRAPHY/OBSCENE MAT'], dtype=object)"
      ]
     },
     "execution_count": 7,
     "metadata": {},
     "output_type": "execute_result"
    }
   ],
   "source": [
    "df.Category.unique() # see all unique categories of crimes "
   ]
  },
  {
   "cell_type": "code",
   "execution_count": 8,
   "metadata": {
    "collapsed": false
   },
   "outputs": [
    {
     "data": {
      "text/plain": [
       "LARCENY/THEFT                174900\n",
       "OTHER OFFENSES               126182\n",
       "NON-CRIMINAL                  92304\n",
       "ASSAULT                       76876\n",
       "DRUG/NARCOTIC                 53971\n",
       "                              ...  \n",
       "EXTORTION                       256\n",
       "SEX OFFENSES NON FORCIBLE       148\n",
       "GAMBLING                        146\n",
       "PORNOGRAPHY/OBSCENE MAT          22\n",
       "TREA                              6\n",
       "Name: Category, dtype: int64"
      ]
     },
     "execution_count": 8,
     "metadata": {},
     "output_type": "execute_result"
    }
   ],
   "source": [
    "df.Category.value_counts() # see 5 most popular crimes"
   ]
  },
  {
   "cell_type": "code",
   "execution_count": 9,
   "metadata": {
    "collapsed": true
   },
   "outputs": [],
   "source": [
    "df = df.drop(['Descript'], axis = 1) # drop Descript column"
   ]
  },
  {
   "cell_type": "code",
   "execution_count": 10,
   "metadata": {
    "collapsed": false
   },
   "outputs": [
    {
     "data": {
      "text/html": [
       "<div>\n",
       "<table border=\"1\" class=\"dataframe\">\n",
       "  <thead>\n",
       "    <tr style=\"text-align: right;\">\n",
       "      <th></th>\n",
       "      <th>Dates</th>\n",
       "      <th>Category</th>\n",
       "      <th>DayOfWeek</th>\n",
       "      <th>PdDistrict</th>\n",
       "      <th>Resolution</th>\n",
       "      <th>Address</th>\n",
       "      <th>X</th>\n",
       "      <th>Y</th>\n",
       "    </tr>\n",
       "  </thead>\n",
       "  <tbody>\n",
       "    <tr>\n",
       "      <th>0</th>\n",
       "      <td>2015-05-13 23:53:00</td>\n",
       "      <td>WARRANTS</td>\n",
       "      <td>Wednesday</td>\n",
       "      <td>NORTHERN</td>\n",
       "      <td>ARREST, BOOKED</td>\n",
       "      <td>OAK ST / LAGUNA ST</td>\n",
       "      <td>-122.425892</td>\n",
       "      <td>37.774599</td>\n",
       "    </tr>\n",
       "    <tr>\n",
       "      <th>1</th>\n",
       "      <td>2015-05-13 23:53:00</td>\n",
       "      <td>OTHER OFFENSES</td>\n",
       "      <td>Wednesday</td>\n",
       "      <td>NORTHERN</td>\n",
       "      <td>ARREST, BOOKED</td>\n",
       "      <td>OAK ST / LAGUNA ST</td>\n",
       "      <td>-122.425892</td>\n",
       "      <td>37.774599</td>\n",
       "    </tr>\n",
       "    <tr>\n",
       "      <th>2</th>\n",
       "      <td>2015-05-13 23:33:00</td>\n",
       "      <td>OTHER OFFENSES</td>\n",
       "      <td>Wednesday</td>\n",
       "      <td>NORTHERN</td>\n",
       "      <td>ARREST, BOOKED</td>\n",
       "      <td>VANNESS AV / GREENWICH ST</td>\n",
       "      <td>-122.424363</td>\n",
       "      <td>37.800414</td>\n",
       "    </tr>\n",
       "    <tr>\n",
       "      <th>3</th>\n",
       "      <td>2015-05-13 23:30:00</td>\n",
       "      <td>LARCENY/THEFT</td>\n",
       "      <td>Wednesday</td>\n",
       "      <td>NORTHERN</td>\n",
       "      <td>NONE</td>\n",
       "      <td>1500 Block of LOMBARD ST</td>\n",
       "      <td>-122.426995</td>\n",
       "      <td>37.800873</td>\n",
       "    </tr>\n",
       "    <tr>\n",
       "      <th>4</th>\n",
       "      <td>2015-05-13 23:30:00</td>\n",
       "      <td>LARCENY/THEFT</td>\n",
       "      <td>Wednesday</td>\n",
       "      <td>PARK</td>\n",
       "      <td>NONE</td>\n",
       "      <td>100 Block of BRODERICK ST</td>\n",
       "      <td>-122.438738</td>\n",
       "      <td>37.771541</td>\n",
       "    </tr>\n",
       "  </tbody>\n",
       "</table>\n",
       "</div>"
      ],
      "text/plain": [
       "                 Dates        Category  DayOfWeek PdDistrict      Resolution  \\\n",
       "0  2015-05-13 23:53:00        WARRANTS  Wednesday   NORTHERN  ARREST, BOOKED   \n",
       "1  2015-05-13 23:53:00  OTHER OFFENSES  Wednesday   NORTHERN  ARREST, BOOKED   \n",
       "2  2015-05-13 23:33:00  OTHER OFFENSES  Wednesday   NORTHERN  ARREST, BOOKED   \n",
       "3  2015-05-13 23:30:00   LARCENY/THEFT  Wednesday   NORTHERN            NONE   \n",
       "4  2015-05-13 23:30:00   LARCENY/THEFT  Wednesday       PARK            NONE   \n",
       "\n",
       "                     Address           X          Y  \n",
       "0         OAK ST / LAGUNA ST -122.425892  37.774599  \n",
       "1         OAK ST / LAGUNA ST -122.425892  37.774599  \n",
       "2  VANNESS AV / GREENWICH ST -122.424363  37.800414  \n",
       "3   1500 Block of LOMBARD ST -122.426995  37.800873  \n",
       "4  100 Block of BRODERICK ST -122.438738  37.771541  "
      ]
     },
     "execution_count": 10,
     "metadata": {},
     "output_type": "execute_result"
    }
   ],
   "source": [
    "df.head() # check columns"
   ]
  },
  {
   "cell_type": "code",
   "execution_count": 11,
   "metadata": {
    "collapsed": false
   },
   "outputs": [
    {
     "data": {
      "text/plain": [
       "['NORTHERN',\n",
       " 'PARK',\n",
       " 'INGLESIDE',\n",
       " 'BAYVIEW',\n",
       " 'RICHMOND',\n",
       " 'CENTRAL',\n",
       " 'TARAVAL',\n",
       " 'TENDERLOIN',\n",
       " 'MISSION',\n",
       " 'SOUTHERN']"
      ]
     },
     "execution_count": 11,
     "metadata": {},
     "output_type": "execute_result"
    }
   ],
   "source": [
    "df.PdDistrict.unique().tolist() # show all unique districts"
   ]
  },
  {
   "cell_type": "code",
   "execution_count": 12,
   "metadata": {
    "collapsed": true
   },
   "outputs": [],
   "source": [
    "#No longer created dummy variables. Left code below as point of reference.\n",
    "#PdDistrict_df = pd.get_dummies(df.PdDistrict, prefix = 'District') "
   ]
  },
  {
   "cell_type": "code",
   "execution_count": 13,
   "metadata": {
    "collapsed": true
   },
   "outputs": [],
   "source": [
    "#No longer creating dummy variable columns. Left code below as point of reference.\n",
    "#df = df.join(PdDistrict_df)"
   ]
  },
  {
   "cell_type": "code",
   "execution_count": 14,
   "metadata": {
    "collapsed": false
   },
   "outputs": [
    {
     "data": {
      "text/html": [
       "<div>\n",
       "<table border=\"1\" class=\"dataframe\">\n",
       "  <thead>\n",
       "    <tr style=\"text-align: right;\">\n",
       "      <th></th>\n",
       "      <th>Dates</th>\n",
       "      <th>Category</th>\n",
       "      <th>DayOfWeek</th>\n",
       "      <th>PdDistrict</th>\n",
       "      <th>Resolution</th>\n",
       "      <th>Address</th>\n",
       "      <th>X</th>\n",
       "      <th>Y</th>\n",
       "    </tr>\n",
       "  </thead>\n",
       "  <tbody>\n",
       "    <tr>\n",
       "      <th>0</th>\n",
       "      <td>2015-05-13 23:53:00</td>\n",
       "      <td>WARRANTS</td>\n",
       "      <td>Wednesday</td>\n",
       "      <td>NORTHERN</td>\n",
       "      <td>ARREST, BOOKED</td>\n",
       "      <td>OAK ST / LAGUNA ST</td>\n",
       "      <td>-122.425892</td>\n",
       "      <td>37.774599</td>\n",
       "    </tr>\n",
       "    <tr>\n",
       "      <th>1</th>\n",
       "      <td>2015-05-13 23:53:00</td>\n",
       "      <td>OTHER OFFENSES</td>\n",
       "      <td>Wednesday</td>\n",
       "      <td>NORTHERN</td>\n",
       "      <td>ARREST, BOOKED</td>\n",
       "      <td>OAK ST / LAGUNA ST</td>\n",
       "      <td>-122.425892</td>\n",
       "      <td>37.774599</td>\n",
       "    </tr>\n",
       "    <tr>\n",
       "      <th>2</th>\n",
       "      <td>2015-05-13 23:33:00</td>\n",
       "      <td>OTHER OFFENSES</td>\n",
       "      <td>Wednesday</td>\n",
       "      <td>NORTHERN</td>\n",
       "      <td>ARREST, BOOKED</td>\n",
       "      <td>VANNESS AV / GREENWICH ST</td>\n",
       "      <td>-122.424363</td>\n",
       "      <td>37.800414</td>\n",
       "    </tr>\n",
       "    <tr>\n",
       "      <th>3</th>\n",
       "      <td>2015-05-13 23:30:00</td>\n",
       "      <td>LARCENY/THEFT</td>\n",
       "      <td>Wednesday</td>\n",
       "      <td>NORTHERN</td>\n",
       "      <td>NONE</td>\n",
       "      <td>1500 Block of LOMBARD ST</td>\n",
       "      <td>-122.426995</td>\n",
       "      <td>37.800873</td>\n",
       "    </tr>\n",
       "    <tr>\n",
       "      <th>4</th>\n",
       "      <td>2015-05-13 23:30:00</td>\n",
       "      <td>LARCENY/THEFT</td>\n",
       "      <td>Wednesday</td>\n",
       "      <td>PARK</td>\n",
       "      <td>NONE</td>\n",
       "      <td>100 Block of BRODERICK ST</td>\n",
       "      <td>-122.438738</td>\n",
       "      <td>37.771541</td>\n",
       "    </tr>\n",
       "  </tbody>\n",
       "</table>\n",
       "</div>"
      ],
      "text/plain": [
       "                 Dates        Category  DayOfWeek PdDistrict      Resolution  \\\n",
       "0  2015-05-13 23:53:00        WARRANTS  Wednesday   NORTHERN  ARREST, BOOKED   \n",
       "1  2015-05-13 23:53:00  OTHER OFFENSES  Wednesday   NORTHERN  ARREST, BOOKED   \n",
       "2  2015-05-13 23:33:00  OTHER OFFENSES  Wednesday   NORTHERN  ARREST, BOOKED   \n",
       "3  2015-05-13 23:30:00   LARCENY/THEFT  Wednesday   NORTHERN            NONE   \n",
       "4  2015-05-13 23:30:00   LARCENY/THEFT  Wednesday       PARK            NONE   \n",
       "\n",
       "                     Address           X          Y  \n",
       "0         OAK ST / LAGUNA ST -122.425892  37.774599  \n",
       "1         OAK ST / LAGUNA ST -122.425892  37.774599  \n",
       "2  VANNESS AV / GREENWICH ST -122.424363  37.800414  \n",
       "3   1500 Block of LOMBARD ST -122.426995  37.800873  \n",
       "4  100 Block of BRODERICK ST -122.438738  37.771541  "
      ]
     },
     "execution_count": 14,
     "metadata": {},
     "output_type": "execute_result"
    }
   ],
   "source": [
    "df.head()"
   ]
  },
  {
   "cell_type": "code",
   "execution_count": 15,
   "metadata": {
    "collapsed": true
   },
   "outputs": [],
   "source": [
    "#No longer created dummy variables. Left code below as point of reference.\n",
    "#DayOfWeek_df = pd.get_dummies(df.DayOfWeek, prefix = 'DayOfWeek')"
   ]
  },
  {
   "cell_type": "code",
   "execution_count": 16,
   "metadata": {
    "collapsed": false
   },
   "outputs": [],
   "source": [
    "#No longer created dummy variables. Left code below as point of reference.\n",
    "#df = df.join(DayOfWeek_df)\n",
    "\n",
    "#df.head()"
   ]
  },
  {
   "cell_type": "code",
   "execution_count": 17,
   "metadata": {
    "collapsed": false
   },
   "outputs": [
    {
     "name": "stdout",
     "output_type": "stream",
     "text": [
      "2017-06-23 15:26:53.157128\n"
     ]
    },
    {
     "data": {
      "text/plain": [
       "'2017-06-23_15:26:53.157017'"
      ]
     },
     "execution_count": 17,
     "metadata": {},
     "output_type": "execute_result"
    }
   ],
   "source": [
    "#testing out daytime package. Run the time right now.\n",
    "now = dt.now().strftime(\"%Y-%m-%d_%H:%M:%S.%f\")\n",
    "\n",
    "print dt.now()\n",
    "\n",
    "now"
   ]
  },
  {
   "cell_type": "code",
   "execution_count": 18,
   "metadata": {
    "collapsed": true
   },
   "outputs": [],
   "source": [
    "df['Dates'] = pd.to_datetime(df['Dates']) # Convert original Date column to correct type to use striftime below"
   ]
  },
  {
   "cell_type": "code",
   "execution_count": 19,
   "metadata": {
    "collapsed": false
   },
   "outputs": [],
   "source": [
    "#df['Dates2'] = df['Dates'].map(lambda x: x.strftime('%Y-%m-%d')) this code works\n",
    "df['Year'] = df['Dates'].map(lambda x: x.strftime('%Y'))"
   ]
  },
  {
   "cell_type": "code",
   "execution_count": 20,
   "metadata": {
    "collapsed": false
   },
   "outputs": [
    {
     "data": {
      "text/plain": [
       "0         2015\n",
       "1         2015\n",
       "2         2015\n",
       "3         2015\n",
       "4         2015\n",
       "          ... \n",
       "878044    2003\n",
       "878045    2003\n",
       "878046    2003\n",
       "878047    2003\n",
       "878048    2003\n",
       "Name: Year, dtype: object"
      ]
     },
     "execution_count": 20,
     "metadata": {},
     "output_type": "execute_result"
    }
   ],
   "source": [
    "df['Year']"
   ]
  },
  {
   "cell_type": "code",
   "execution_count": 21,
   "metadata": {
    "collapsed": false
   },
   "outputs": [
    {
     "data": {
      "text/html": [
       "<div>\n",
       "<table border=\"1\" class=\"dataframe\">\n",
       "  <thead>\n",
       "    <tr style=\"text-align: right;\">\n",
       "      <th></th>\n",
       "      <th>Dates</th>\n",
       "      <th>Category</th>\n",
       "      <th>DayOfWeek</th>\n",
       "      <th>PdDistrict</th>\n",
       "      <th>Resolution</th>\n",
       "      <th>Address</th>\n",
       "      <th>X</th>\n",
       "      <th>Y</th>\n",
       "      <th>Year</th>\n",
       "    </tr>\n",
       "  </thead>\n",
       "  <tbody>\n",
       "    <tr>\n",
       "      <th>0</th>\n",
       "      <td>2015-05-13 23:53:00</td>\n",
       "      <td>WARRANTS</td>\n",
       "      <td>Wednesday</td>\n",
       "      <td>NORTHERN</td>\n",
       "      <td>ARREST, BOOKED</td>\n",
       "      <td>OAK ST / LAGUNA ST</td>\n",
       "      <td>-122.425892</td>\n",
       "      <td>37.774599</td>\n",
       "      <td>2015</td>\n",
       "    </tr>\n",
       "    <tr>\n",
       "      <th>1</th>\n",
       "      <td>2015-05-13 23:53:00</td>\n",
       "      <td>OTHER OFFENSES</td>\n",
       "      <td>Wednesday</td>\n",
       "      <td>NORTHERN</td>\n",
       "      <td>ARREST, BOOKED</td>\n",
       "      <td>OAK ST / LAGUNA ST</td>\n",
       "      <td>-122.425892</td>\n",
       "      <td>37.774599</td>\n",
       "      <td>2015</td>\n",
       "    </tr>\n",
       "    <tr>\n",
       "      <th>2</th>\n",
       "      <td>2015-05-13 23:33:00</td>\n",
       "      <td>OTHER OFFENSES</td>\n",
       "      <td>Wednesday</td>\n",
       "      <td>NORTHERN</td>\n",
       "      <td>ARREST, BOOKED</td>\n",
       "      <td>VANNESS AV / GREENWICH ST</td>\n",
       "      <td>-122.424363</td>\n",
       "      <td>37.800414</td>\n",
       "      <td>2015</td>\n",
       "    </tr>\n",
       "    <tr>\n",
       "      <th>3</th>\n",
       "      <td>2015-05-13 23:30:00</td>\n",
       "      <td>LARCENY/THEFT</td>\n",
       "      <td>Wednesday</td>\n",
       "      <td>NORTHERN</td>\n",
       "      <td>NONE</td>\n",
       "      <td>1500 Block of LOMBARD ST</td>\n",
       "      <td>-122.426995</td>\n",
       "      <td>37.800873</td>\n",
       "      <td>2015</td>\n",
       "    </tr>\n",
       "    <tr>\n",
       "      <th>4</th>\n",
       "      <td>2015-05-13 23:30:00</td>\n",
       "      <td>LARCENY/THEFT</td>\n",
       "      <td>Wednesday</td>\n",
       "      <td>PARK</td>\n",
       "      <td>NONE</td>\n",
       "      <td>100 Block of BRODERICK ST</td>\n",
       "      <td>-122.438738</td>\n",
       "      <td>37.771541</td>\n",
       "      <td>2015</td>\n",
       "    </tr>\n",
       "  </tbody>\n",
       "</table>\n",
       "</div>"
      ],
      "text/plain": [
       "                Dates        Category  DayOfWeek PdDistrict      Resolution  \\\n",
       "0 2015-05-13 23:53:00        WARRANTS  Wednesday   NORTHERN  ARREST, BOOKED   \n",
       "1 2015-05-13 23:53:00  OTHER OFFENSES  Wednesday   NORTHERN  ARREST, BOOKED   \n",
       "2 2015-05-13 23:33:00  OTHER OFFENSES  Wednesday   NORTHERN  ARREST, BOOKED   \n",
       "3 2015-05-13 23:30:00   LARCENY/THEFT  Wednesday   NORTHERN            NONE   \n",
       "4 2015-05-13 23:30:00   LARCENY/THEFT  Wednesday       PARK            NONE   \n",
       "\n",
       "                     Address           X          Y  Year  \n",
       "0         OAK ST / LAGUNA ST -122.425892  37.774599  2015  \n",
       "1         OAK ST / LAGUNA ST -122.425892  37.774599  2015  \n",
       "2  VANNESS AV / GREENWICH ST -122.424363  37.800414  2015  \n",
       "3   1500 Block of LOMBARD ST -122.426995  37.800873  2015  \n",
       "4  100 Block of BRODERICK ST -122.438738  37.771541  2015  "
      ]
     },
     "execution_count": 21,
     "metadata": {},
     "output_type": "execute_result"
    }
   ],
   "source": [
    "df.head()"
   ]
  },
  {
   "cell_type": "code",
   "execution_count": 22,
   "metadata": {
    "collapsed": true
   },
   "outputs": [],
   "source": [
    "df['Month'] = df['Dates'].map(lambda x: x.strftime('%m'))"
   ]
  },
  {
   "cell_type": "code",
   "execution_count": 23,
   "metadata": {
    "collapsed": false
   },
   "outputs": [
    {
     "data": {
      "text/plain": [
       "0         05\n",
       "1         05\n",
       "2         05\n",
       "3         05\n",
       "4         05\n",
       "          ..\n",
       "878044    01\n",
       "878045    01\n",
       "878046    01\n",
       "878047    01\n",
       "878048    01\n",
       "Name: Month, dtype: object"
      ]
     },
     "execution_count": 23,
     "metadata": {},
     "output_type": "execute_result"
    }
   ],
   "source": [
    "df['Month']"
   ]
  },
  {
   "cell_type": "code",
   "execution_count": 24,
   "metadata": {
    "collapsed": false
   },
   "outputs": [
    {
     "data": {
      "text/html": [
       "<div>\n",
       "<table border=\"1\" class=\"dataframe\">\n",
       "  <thead>\n",
       "    <tr style=\"text-align: right;\">\n",
       "      <th></th>\n",
       "      <th>Dates</th>\n",
       "      <th>Category</th>\n",
       "      <th>DayOfWeek</th>\n",
       "      <th>PdDistrict</th>\n",
       "      <th>Resolution</th>\n",
       "      <th>Address</th>\n",
       "      <th>X</th>\n",
       "      <th>Y</th>\n",
       "      <th>Year</th>\n",
       "      <th>Month</th>\n",
       "    </tr>\n",
       "  </thead>\n",
       "  <tbody>\n",
       "    <tr>\n",
       "      <th>0</th>\n",
       "      <td>2015-05-13 23:53:00</td>\n",
       "      <td>WARRANTS</td>\n",
       "      <td>Wednesday</td>\n",
       "      <td>NORTHERN</td>\n",
       "      <td>ARREST, BOOKED</td>\n",
       "      <td>OAK ST / LAGUNA ST</td>\n",
       "      <td>-122.425892</td>\n",
       "      <td>37.774599</td>\n",
       "      <td>2015</td>\n",
       "      <td>05</td>\n",
       "    </tr>\n",
       "    <tr>\n",
       "      <th>1</th>\n",
       "      <td>2015-05-13 23:53:00</td>\n",
       "      <td>OTHER OFFENSES</td>\n",
       "      <td>Wednesday</td>\n",
       "      <td>NORTHERN</td>\n",
       "      <td>ARREST, BOOKED</td>\n",
       "      <td>OAK ST / LAGUNA ST</td>\n",
       "      <td>-122.425892</td>\n",
       "      <td>37.774599</td>\n",
       "      <td>2015</td>\n",
       "      <td>05</td>\n",
       "    </tr>\n",
       "    <tr>\n",
       "      <th>2</th>\n",
       "      <td>2015-05-13 23:33:00</td>\n",
       "      <td>OTHER OFFENSES</td>\n",
       "      <td>Wednesday</td>\n",
       "      <td>NORTHERN</td>\n",
       "      <td>ARREST, BOOKED</td>\n",
       "      <td>VANNESS AV / GREENWICH ST</td>\n",
       "      <td>-122.424363</td>\n",
       "      <td>37.800414</td>\n",
       "      <td>2015</td>\n",
       "      <td>05</td>\n",
       "    </tr>\n",
       "    <tr>\n",
       "      <th>3</th>\n",
       "      <td>2015-05-13 23:30:00</td>\n",
       "      <td>LARCENY/THEFT</td>\n",
       "      <td>Wednesday</td>\n",
       "      <td>NORTHERN</td>\n",
       "      <td>NONE</td>\n",
       "      <td>1500 Block of LOMBARD ST</td>\n",
       "      <td>-122.426995</td>\n",
       "      <td>37.800873</td>\n",
       "      <td>2015</td>\n",
       "      <td>05</td>\n",
       "    </tr>\n",
       "    <tr>\n",
       "      <th>4</th>\n",
       "      <td>2015-05-13 23:30:00</td>\n",
       "      <td>LARCENY/THEFT</td>\n",
       "      <td>Wednesday</td>\n",
       "      <td>PARK</td>\n",
       "      <td>NONE</td>\n",
       "      <td>100 Block of BRODERICK ST</td>\n",
       "      <td>-122.438738</td>\n",
       "      <td>37.771541</td>\n",
       "      <td>2015</td>\n",
       "      <td>05</td>\n",
       "    </tr>\n",
       "  </tbody>\n",
       "</table>\n",
       "</div>"
      ],
      "text/plain": [
       "                Dates        Category  DayOfWeek PdDistrict      Resolution  \\\n",
       "0 2015-05-13 23:53:00        WARRANTS  Wednesday   NORTHERN  ARREST, BOOKED   \n",
       "1 2015-05-13 23:53:00  OTHER OFFENSES  Wednesday   NORTHERN  ARREST, BOOKED   \n",
       "2 2015-05-13 23:33:00  OTHER OFFENSES  Wednesday   NORTHERN  ARREST, BOOKED   \n",
       "3 2015-05-13 23:30:00   LARCENY/THEFT  Wednesday   NORTHERN            NONE   \n",
       "4 2015-05-13 23:30:00   LARCENY/THEFT  Wednesday       PARK            NONE   \n",
       "\n",
       "                     Address           X          Y  Year Month  \n",
       "0         OAK ST / LAGUNA ST -122.425892  37.774599  2015    05  \n",
       "1         OAK ST / LAGUNA ST -122.425892  37.774599  2015    05  \n",
       "2  VANNESS AV / GREENWICH ST -122.424363  37.800414  2015    05  \n",
       "3   1500 Block of LOMBARD ST -122.426995  37.800873  2015    05  \n",
       "4  100 Block of BRODERICK ST -122.438738  37.771541  2015    05  "
      ]
     },
     "execution_count": 24,
     "metadata": {},
     "output_type": "execute_result"
    }
   ],
   "source": [
    "df.head()"
   ]
  },
  {
   "cell_type": "code",
   "execution_count": 25,
   "metadata": {
    "collapsed": true
   },
   "outputs": [],
   "source": [
    "df['Day'] = df['Dates'].map(lambda x: x.strftime('%d'))"
   ]
  },
  {
   "cell_type": "code",
   "execution_count": 26,
   "metadata": {
    "collapsed": false
   },
   "outputs": [
    {
     "data": {
      "text/plain": [
       "0         13\n",
       "1         13\n",
       "2         13\n",
       "3         13\n",
       "4         13\n",
       "          ..\n",
       "878044    06\n",
       "878045    06\n",
       "878046    06\n",
       "878047    06\n",
       "878048    06\n",
       "Name: Day, dtype: object"
      ]
     },
     "execution_count": 26,
     "metadata": {},
     "output_type": "execute_result"
    }
   ],
   "source": [
    "df['Day']"
   ]
  },
  {
   "cell_type": "code",
   "execution_count": 27,
   "metadata": {
    "collapsed": false
   },
   "outputs": [
    {
     "data": {
      "text/html": [
       "<div>\n",
       "<table border=\"1\" class=\"dataframe\">\n",
       "  <thead>\n",
       "    <tr style=\"text-align: right;\">\n",
       "      <th></th>\n",
       "      <th>Dates</th>\n",
       "      <th>Category</th>\n",
       "      <th>DayOfWeek</th>\n",
       "      <th>PdDistrict</th>\n",
       "      <th>Resolution</th>\n",
       "      <th>Address</th>\n",
       "      <th>X</th>\n",
       "      <th>Y</th>\n",
       "      <th>Year</th>\n",
       "      <th>Month</th>\n",
       "      <th>Day</th>\n",
       "    </tr>\n",
       "  </thead>\n",
       "  <tbody>\n",
       "    <tr>\n",
       "      <th>0</th>\n",
       "      <td>2015-05-13 23:53:00</td>\n",
       "      <td>WARRANTS</td>\n",
       "      <td>Wednesday</td>\n",
       "      <td>NORTHERN</td>\n",
       "      <td>ARREST, BOOKED</td>\n",
       "      <td>OAK ST / LAGUNA ST</td>\n",
       "      <td>-122.425892</td>\n",
       "      <td>37.774599</td>\n",
       "      <td>2015</td>\n",
       "      <td>05</td>\n",
       "      <td>13</td>\n",
       "    </tr>\n",
       "    <tr>\n",
       "      <th>1</th>\n",
       "      <td>2015-05-13 23:53:00</td>\n",
       "      <td>OTHER OFFENSES</td>\n",
       "      <td>Wednesday</td>\n",
       "      <td>NORTHERN</td>\n",
       "      <td>ARREST, BOOKED</td>\n",
       "      <td>OAK ST / LAGUNA ST</td>\n",
       "      <td>-122.425892</td>\n",
       "      <td>37.774599</td>\n",
       "      <td>2015</td>\n",
       "      <td>05</td>\n",
       "      <td>13</td>\n",
       "    </tr>\n",
       "    <tr>\n",
       "      <th>2</th>\n",
       "      <td>2015-05-13 23:33:00</td>\n",
       "      <td>OTHER OFFENSES</td>\n",
       "      <td>Wednesday</td>\n",
       "      <td>NORTHERN</td>\n",
       "      <td>ARREST, BOOKED</td>\n",
       "      <td>VANNESS AV / GREENWICH ST</td>\n",
       "      <td>-122.424363</td>\n",
       "      <td>37.800414</td>\n",
       "      <td>2015</td>\n",
       "      <td>05</td>\n",
       "      <td>13</td>\n",
       "    </tr>\n",
       "    <tr>\n",
       "      <th>3</th>\n",
       "      <td>2015-05-13 23:30:00</td>\n",
       "      <td>LARCENY/THEFT</td>\n",
       "      <td>Wednesday</td>\n",
       "      <td>NORTHERN</td>\n",
       "      <td>NONE</td>\n",
       "      <td>1500 Block of LOMBARD ST</td>\n",
       "      <td>-122.426995</td>\n",
       "      <td>37.800873</td>\n",
       "      <td>2015</td>\n",
       "      <td>05</td>\n",
       "      <td>13</td>\n",
       "    </tr>\n",
       "    <tr>\n",
       "      <th>4</th>\n",
       "      <td>2015-05-13 23:30:00</td>\n",
       "      <td>LARCENY/THEFT</td>\n",
       "      <td>Wednesday</td>\n",
       "      <td>PARK</td>\n",
       "      <td>NONE</td>\n",
       "      <td>100 Block of BRODERICK ST</td>\n",
       "      <td>-122.438738</td>\n",
       "      <td>37.771541</td>\n",
       "      <td>2015</td>\n",
       "      <td>05</td>\n",
       "      <td>13</td>\n",
       "    </tr>\n",
       "  </tbody>\n",
       "</table>\n",
       "</div>"
      ],
      "text/plain": [
       "                Dates        Category  DayOfWeek PdDistrict      Resolution  \\\n",
       "0 2015-05-13 23:53:00        WARRANTS  Wednesday   NORTHERN  ARREST, BOOKED   \n",
       "1 2015-05-13 23:53:00  OTHER OFFENSES  Wednesday   NORTHERN  ARREST, BOOKED   \n",
       "2 2015-05-13 23:33:00  OTHER OFFENSES  Wednesday   NORTHERN  ARREST, BOOKED   \n",
       "3 2015-05-13 23:30:00   LARCENY/THEFT  Wednesday   NORTHERN            NONE   \n",
       "4 2015-05-13 23:30:00   LARCENY/THEFT  Wednesday       PARK            NONE   \n",
       "\n",
       "                     Address           X          Y  Year Month Day  \n",
       "0         OAK ST / LAGUNA ST -122.425892  37.774599  2015    05  13  \n",
       "1         OAK ST / LAGUNA ST -122.425892  37.774599  2015    05  13  \n",
       "2  VANNESS AV / GREENWICH ST -122.424363  37.800414  2015    05  13  \n",
       "3   1500 Block of LOMBARD ST -122.426995  37.800873  2015    05  13  \n",
       "4  100 Block of BRODERICK ST -122.438738  37.771541  2015    05  13  "
      ]
     },
     "execution_count": 27,
     "metadata": {},
     "output_type": "execute_result"
    }
   ],
   "source": [
    "df.head()"
   ]
  },
  {
   "cell_type": "code",
   "execution_count": 28,
   "metadata": {
    "collapsed": true
   },
   "outputs": [],
   "source": [
    "df['Hour'] = df['Dates'].map(lambda x: x.strftime('%H'))\n",
    "df['Minute'] = df['Dates'].map(lambda x: x.strftime('%M'))"
   ]
  },
  {
   "cell_type": "code",
   "execution_count": 29,
   "metadata": {
    "collapsed": false
   },
   "outputs": [
    {
     "data": {
      "text/html": [
       "<div>\n",
       "<table border=\"1\" class=\"dataframe\">\n",
       "  <thead>\n",
       "    <tr style=\"text-align: right;\">\n",
       "      <th></th>\n",
       "      <th>Dates</th>\n",
       "      <th>Category</th>\n",
       "      <th>DayOfWeek</th>\n",
       "      <th>PdDistrict</th>\n",
       "      <th>Resolution</th>\n",
       "      <th>Address</th>\n",
       "      <th>...</th>\n",
       "      <th>Y</th>\n",
       "      <th>Year</th>\n",
       "      <th>Month</th>\n",
       "      <th>Day</th>\n",
       "      <th>Hour</th>\n",
       "      <th>Minute</th>\n",
       "    </tr>\n",
       "  </thead>\n",
       "  <tbody>\n",
       "    <tr>\n",
       "      <th>0</th>\n",
       "      <td>2015-05-13 23:53:00</td>\n",
       "      <td>WARRANTS</td>\n",
       "      <td>Wednesday</td>\n",
       "      <td>NORTHERN</td>\n",
       "      <td>ARREST, BOOKED</td>\n",
       "      <td>OAK ST / LAGUNA ST</td>\n",
       "      <td>...</td>\n",
       "      <td>37.774599</td>\n",
       "      <td>2015</td>\n",
       "      <td>05</td>\n",
       "      <td>13</td>\n",
       "      <td>23</td>\n",
       "      <td>53</td>\n",
       "    </tr>\n",
       "    <tr>\n",
       "      <th>1</th>\n",
       "      <td>2015-05-13 23:53:00</td>\n",
       "      <td>OTHER OFFENSES</td>\n",
       "      <td>Wednesday</td>\n",
       "      <td>NORTHERN</td>\n",
       "      <td>ARREST, BOOKED</td>\n",
       "      <td>OAK ST / LAGUNA ST</td>\n",
       "      <td>...</td>\n",
       "      <td>37.774599</td>\n",
       "      <td>2015</td>\n",
       "      <td>05</td>\n",
       "      <td>13</td>\n",
       "      <td>23</td>\n",
       "      <td>53</td>\n",
       "    </tr>\n",
       "    <tr>\n",
       "      <th>2</th>\n",
       "      <td>2015-05-13 23:33:00</td>\n",
       "      <td>OTHER OFFENSES</td>\n",
       "      <td>Wednesday</td>\n",
       "      <td>NORTHERN</td>\n",
       "      <td>ARREST, BOOKED</td>\n",
       "      <td>VANNESS AV / GREENWICH ST</td>\n",
       "      <td>...</td>\n",
       "      <td>37.800414</td>\n",
       "      <td>2015</td>\n",
       "      <td>05</td>\n",
       "      <td>13</td>\n",
       "      <td>23</td>\n",
       "      <td>33</td>\n",
       "    </tr>\n",
       "    <tr>\n",
       "      <th>3</th>\n",
       "      <td>2015-05-13 23:30:00</td>\n",
       "      <td>LARCENY/THEFT</td>\n",
       "      <td>Wednesday</td>\n",
       "      <td>NORTHERN</td>\n",
       "      <td>NONE</td>\n",
       "      <td>1500 Block of LOMBARD ST</td>\n",
       "      <td>...</td>\n",
       "      <td>37.800873</td>\n",
       "      <td>2015</td>\n",
       "      <td>05</td>\n",
       "      <td>13</td>\n",
       "      <td>23</td>\n",
       "      <td>30</td>\n",
       "    </tr>\n",
       "    <tr>\n",
       "      <th>4</th>\n",
       "      <td>2015-05-13 23:30:00</td>\n",
       "      <td>LARCENY/THEFT</td>\n",
       "      <td>Wednesday</td>\n",
       "      <td>PARK</td>\n",
       "      <td>NONE</td>\n",
       "      <td>100 Block of BRODERICK ST</td>\n",
       "      <td>...</td>\n",
       "      <td>37.771541</td>\n",
       "      <td>2015</td>\n",
       "      <td>05</td>\n",
       "      <td>13</td>\n",
       "      <td>23</td>\n",
       "      <td>30</td>\n",
       "    </tr>\n",
       "  </tbody>\n",
       "</table>\n",
       "<p>5 rows × 13 columns</p>\n",
       "</div>"
      ],
      "text/plain": [
       "                Dates        Category  DayOfWeek PdDistrict      Resolution  \\\n",
       "0 2015-05-13 23:53:00        WARRANTS  Wednesday   NORTHERN  ARREST, BOOKED   \n",
       "1 2015-05-13 23:53:00  OTHER OFFENSES  Wednesday   NORTHERN  ARREST, BOOKED   \n",
       "2 2015-05-13 23:33:00  OTHER OFFENSES  Wednesday   NORTHERN  ARREST, BOOKED   \n",
       "3 2015-05-13 23:30:00   LARCENY/THEFT  Wednesday   NORTHERN            NONE   \n",
       "4 2015-05-13 23:30:00   LARCENY/THEFT  Wednesday       PARK            NONE   \n",
       "\n",
       "                     Address  ...            Y  Year Month Day Hour Minute  \n",
       "0         OAK ST / LAGUNA ST  ...    37.774599  2015    05  13   23     53  \n",
       "1         OAK ST / LAGUNA ST  ...    37.774599  2015    05  13   23     53  \n",
       "2  VANNESS AV / GREENWICH ST  ...    37.800414  2015    05  13   23     33  \n",
       "3   1500 Block of LOMBARD ST  ...    37.800873  2015    05  13   23     30  \n",
       "4  100 Block of BRODERICK ST  ...    37.771541  2015    05  13   23     30  \n",
       "\n",
       "[5 rows x 13 columns]"
      ]
     },
     "execution_count": 29,
     "metadata": {},
     "output_type": "execute_result"
    }
   ],
   "source": [
    "df.head()"
   ]
  },
  {
   "cell_type": "code",
   "execution_count": 30,
   "metadata": {
    "collapsed": false
   },
   "outputs": [
    {
     "data": {
      "text/plain": [
       "['WARRANTS',\n",
       " 'OTHER OFFENSES',\n",
       " 'LARCENY/THEFT',\n",
       " 'VEHICLE THEFT',\n",
       " 'VANDALISM',\n",
       " 'NON-CRIMINAL',\n",
       " 'ROBBERY',\n",
       " 'ASSAULT',\n",
       " 'WEAPON LAWS',\n",
       " 'BURGLARY',\n",
       " 'SUSPICIOUS OCC',\n",
       " 'DRUNKENNESS',\n",
       " 'FORGERY/COUNTERFEITING',\n",
       " 'DRUG/NARCOTIC',\n",
       " 'STOLEN PROPERTY',\n",
       " 'SECONDARY CODES',\n",
       " 'TRESPASS',\n",
       " 'MISSING PERSON',\n",
       " 'FRAUD',\n",
       " 'KIDNAPPING',\n",
       " 'RUNAWAY',\n",
       " 'DRIVING UNDER THE INFLUENCE',\n",
       " 'SEX OFFENSES FORCIBLE',\n",
       " 'PROSTITUTION',\n",
       " 'DISORDERLY CONDUCT',\n",
       " 'ARSON',\n",
       " 'FAMILY OFFENSES',\n",
       " 'LIQUOR LAWS',\n",
       " 'BRIBERY',\n",
       " 'EMBEZZLEMENT',\n",
       " 'SUICIDE',\n",
       " 'LOITERING',\n",
       " 'SEX OFFENSES NON FORCIBLE',\n",
       " 'EXTORTION',\n",
       " 'GAMBLING',\n",
       " 'BAD CHECKS',\n",
       " 'TREA',\n",
       " 'RECOVERED VEHICLE',\n",
       " 'PORNOGRAPHY/OBSCENE MAT']"
      ]
     },
     "execution_count": 30,
     "metadata": {},
     "output_type": "execute_result"
    }
   ],
   "source": [
    "df.Category.unique().tolist() # show all unique Categories"
   ]
  },
  {
   "cell_type": "code",
   "execution_count": 31,
   "metadata": {
    "collapsed": false
   },
   "outputs": [],
   "source": [
    "#recategorize boarder categories\n",
    "\n",
    "#df['HighLevelCategory'] = df.Category.apply(lambda NameOfCategory:\"Theft\" if NameOfCategory ==\"LARCENY/THEFT\" else \"Other\")\n",
    "\n",
    "#df['HighLevelCategory'] = df.Category.apply(lambda NameOfCategory:\"Theft\" \n",
    "                                            #if NameOfCategory ==\"LARCENY/THEFT\" or NameOfCategory == \"VEHICLE THEFT\" or NameOfCategory == \"BURGLARY\" or NameOfCategory == \"STOLEN PROPERTY\" or NameOfCategory == \"Fraud\" \n",
    "                                            #else \"Other\")\n",
    "\n",
    "#df['HighLevelCategory'] = df.Category.apply(lambda NameOfCategory:\"Theft\" \n",
    "                                           # if NameOfCategory ==\"LARCENY/THEFT\" or NameOfCategory == \"VEHICLE THEFT\" or NameOfCategory == \"BURGLARY\" or NameOfCategory == \"STOLEN PROPERTY\" or NameOfCategory == \"Fraud\" \n",
    "                                            #else (\"ASSAULT\" if NameOfCategory == \"ASSAULT\" else (\"NARCOTIC\" if NameOfCategory == \"NARCOTIC\" else \"Other\")))\n",
    "        \n",
    "def category_to_high_level(Category):\n",
    "    if Category in [\"LARCENY/THEFT\", \"VEHICLE THEFT\", \"BURGLARY\", \"STOLEN PROPERTY\", \"FRAUD\"]:\n",
    "       return \"Theft\"\n",
    "    elif Category in [\"ASSAULT\"]:\n",
    "       return \"Assault\"\n",
    "    elif Category in [\"DRUG/NARCOTIC\"]:\n",
    "       return \"Drug/Narcotic\"               \n",
    "    else:\n",
    "       return \"Other\"\n",
    "                    \n",
    "df['HighLevelCategory'] = df.Category.apply(category_to_high_level)\n",
    "\n",
    "def DayOfWeek_to_numbers(week):\n",
    "    if week in [\"Sunday\"]:\n",
    "       return \"1\"\n",
    "    elif week in [\"Monday\"]:\n",
    "       return \"2\"\n",
    "    elif week in [\"Tuesday\"]:\n",
    "       return \"3\"\n",
    "    elif week in [\"Wednesday\"]:\n",
    "       return \"4\"\n",
    "    elif week in [\"Thursday\"]:\n",
    "       return \"5\"\n",
    "    elif week in [\"Friday\"]:\n",
    "       return \"6\"             \n",
    "    else:\n",
    "       return \"7\"\n",
    "                    \n",
    "df['DayInNumber'] = df.DayOfWeek.apply(DayOfWeek_to_numbers)\n",
    "\n"
   ]
  },
  {
   "cell_type": "code",
   "execution_count": 32,
   "metadata": {
    "collapsed": false
   },
   "outputs": [
    {
     "data": {
      "text/plain": [
       "['Other', 'Theft', 'Assault', 'Drug/Narcotic']"
      ]
     },
     "execution_count": 32,
     "metadata": {},
     "output_type": "execute_result"
    }
   ],
   "source": [
    "df.HighLevelCategory.unique().tolist() #check"
   ]
  },
  {
   "cell_type": "code",
   "execution_count": 33,
   "metadata": {
    "collapsed": false
   },
   "outputs": [
    {
     "data": {
      "text/plain": [
       "['4', '3', '2', '1', '7', '6', '5']"
      ]
     },
     "execution_count": 33,
     "metadata": {},
     "output_type": "execute_result"
    }
   ],
   "source": [
    "df.DayInNumber.unique().tolist() #check"
   ]
  },
  {
   "cell_type": "code",
   "execution_count": 34,
   "metadata": {
    "collapsed": false
   },
   "outputs": [],
   "source": [
    "#df = df.drop(['HighLevelCategory'], axis = 1)"
   ]
  },
  {
   "cell_type": "code",
   "execution_count": 35,
   "metadata": {
    "collapsed": false
   },
   "outputs": [
    {
     "data": {
      "text/html": [
       "<div>\n",
       "<table border=\"1\" class=\"dataframe\">\n",
       "  <thead>\n",
       "    <tr style=\"text-align: right;\">\n",
       "      <th></th>\n",
       "      <th>Dates</th>\n",
       "      <th>Category</th>\n",
       "      <th>DayOfWeek</th>\n",
       "      <th>PdDistrict</th>\n",
       "      <th>Resolution</th>\n",
       "      <th>Address</th>\n",
       "      <th>...</th>\n",
       "      <th>Month</th>\n",
       "      <th>Day</th>\n",
       "      <th>Hour</th>\n",
       "      <th>Minute</th>\n",
       "      <th>HighLevelCategory</th>\n",
       "      <th>DayInNumber</th>\n",
       "    </tr>\n",
       "  </thead>\n",
       "  <tbody>\n",
       "    <tr>\n",
       "      <th>0</th>\n",
       "      <td>2015-05-13 23:53:00</td>\n",
       "      <td>WARRANTS</td>\n",
       "      <td>Wednesday</td>\n",
       "      <td>NORTHERN</td>\n",
       "      <td>ARREST, BOOKED</td>\n",
       "      <td>OAK ST / LAGUNA ST</td>\n",
       "      <td>...</td>\n",
       "      <td>05</td>\n",
       "      <td>13</td>\n",
       "      <td>23</td>\n",
       "      <td>53</td>\n",
       "      <td>Other</td>\n",
       "      <td>4</td>\n",
       "    </tr>\n",
       "    <tr>\n",
       "      <th>1</th>\n",
       "      <td>2015-05-13 23:53:00</td>\n",
       "      <td>OTHER OFFENSES</td>\n",
       "      <td>Wednesday</td>\n",
       "      <td>NORTHERN</td>\n",
       "      <td>ARREST, BOOKED</td>\n",
       "      <td>OAK ST / LAGUNA ST</td>\n",
       "      <td>...</td>\n",
       "      <td>05</td>\n",
       "      <td>13</td>\n",
       "      <td>23</td>\n",
       "      <td>53</td>\n",
       "      <td>Other</td>\n",
       "      <td>4</td>\n",
       "    </tr>\n",
       "    <tr>\n",
       "      <th>2</th>\n",
       "      <td>2015-05-13 23:33:00</td>\n",
       "      <td>OTHER OFFENSES</td>\n",
       "      <td>Wednesday</td>\n",
       "      <td>NORTHERN</td>\n",
       "      <td>ARREST, BOOKED</td>\n",
       "      <td>VANNESS AV / GREENWICH ST</td>\n",
       "      <td>...</td>\n",
       "      <td>05</td>\n",
       "      <td>13</td>\n",
       "      <td>23</td>\n",
       "      <td>33</td>\n",
       "      <td>Other</td>\n",
       "      <td>4</td>\n",
       "    </tr>\n",
       "    <tr>\n",
       "      <th>3</th>\n",
       "      <td>2015-05-13 23:30:00</td>\n",
       "      <td>LARCENY/THEFT</td>\n",
       "      <td>Wednesday</td>\n",
       "      <td>NORTHERN</td>\n",
       "      <td>NONE</td>\n",
       "      <td>1500 Block of LOMBARD ST</td>\n",
       "      <td>...</td>\n",
       "      <td>05</td>\n",
       "      <td>13</td>\n",
       "      <td>23</td>\n",
       "      <td>30</td>\n",
       "      <td>Theft</td>\n",
       "      <td>4</td>\n",
       "    </tr>\n",
       "    <tr>\n",
       "      <th>4</th>\n",
       "      <td>2015-05-13 23:30:00</td>\n",
       "      <td>LARCENY/THEFT</td>\n",
       "      <td>Wednesday</td>\n",
       "      <td>PARK</td>\n",
       "      <td>NONE</td>\n",
       "      <td>100 Block of BRODERICK ST</td>\n",
       "      <td>...</td>\n",
       "      <td>05</td>\n",
       "      <td>13</td>\n",
       "      <td>23</td>\n",
       "      <td>30</td>\n",
       "      <td>Theft</td>\n",
       "      <td>4</td>\n",
       "    </tr>\n",
       "  </tbody>\n",
       "</table>\n",
       "<p>5 rows × 15 columns</p>\n",
       "</div>"
      ],
      "text/plain": [
       "                Dates        Category  DayOfWeek PdDistrict      Resolution  \\\n",
       "0 2015-05-13 23:53:00        WARRANTS  Wednesday   NORTHERN  ARREST, BOOKED   \n",
       "1 2015-05-13 23:53:00  OTHER OFFENSES  Wednesday   NORTHERN  ARREST, BOOKED   \n",
       "2 2015-05-13 23:33:00  OTHER OFFENSES  Wednesday   NORTHERN  ARREST, BOOKED   \n",
       "3 2015-05-13 23:30:00   LARCENY/THEFT  Wednesday   NORTHERN            NONE   \n",
       "4 2015-05-13 23:30:00   LARCENY/THEFT  Wednesday       PARK            NONE   \n",
       "\n",
       "                     Address     ...      Month  Day Hour Minute  \\\n",
       "0         OAK ST / LAGUNA ST     ...         05   13   23     53   \n",
       "1         OAK ST / LAGUNA ST     ...         05   13   23     53   \n",
       "2  VANNESS AV / GREENWICH ST     ...         05   13   23     33   \n",
       "3   1500 Block of LOMBARD ST     ...         05   13   23     30   \n",
       "4  100 Block of BRODERICK ST     ...         05   13   23     30   \n",
       "\n",
       "  HighLevelCategory DayInNumber  \n",
       "0             Other           4  \n",
       "1             Other           4  \n",
       "2             Other           4  \n",
       "3             Theft           4  \n",
       "4             Theft           4  \n",
       "\n",
       "[5 rows x 15 columns]"
      ]
     },
     "execution_count": 35,
     "metadata": {},
     "output_type": "execute_result"
    }
   ],
   "source": [
    "df.head()"
   ]
  },
  {
   "cell_type": "code",
   "execution_count": 36,
   "metadata": {
    "collapsed": false
   },
   "outputs": [
    {
     "data": {
      "text/plain": [
       "Other            460547\n",
       "Theft            286655\n",
       "Assault           76876\n",
       "Drug/Narcotic     53971\n",
       "Name: HighLevelCategory, dtype: int64"
      ]
     },
     "execution_count": 36,
     "metadata": {},
     "output_type": "execute_result"
    }
   ],
   "source": [
    "df.HighLevelCategory.value_counts()"
   ]
  },
  {
   "cell_type": "code",
   "execution_count": 37,
   "metadata": {
    "collapsed": false
   },
   "outputs": [
    {
     "data": {
      "text/html": [
       "<div>\n",
       "<table border=\"1\" class=\"dataframe\">\n",
       "  <thead>\n",
       "    <tr style=\"text-align: right;\">\n",
       "      <th></th>\n",
       "      <th>X</th>\n",
       "      <th>Y</th>\n",
       "      <th>Year</th>\n",
       "      <th>Month</th>\n",
       "      <th>Day</th>\n",
       "      <th>Hour</th>\n",
       "      <th>Minute</th>\n",
       "      <th>DayInNumber</th>\n",
       "    </tr>\n",
       "  </thead>\n",
       "  <tbody>\n",
       "    <tr>\n",
       "      <th>0</th>\n",
       "      <td>-122.425892</td>\n",
       "      <td>37.774599</td>\n",
       "      <td>2015</td>\n",
       "      <td>05</td>\n",
       "      <td>13</td>\n",
       "      <td>23</td>\n",
       "      <td>53</td>\n",
       "      <td>4</td>\n",
       "    </tr>\n",
       "    <tr>\n",
       "      <th>1</th>\n",
       "      <td>-122.425892</td>\n",
       "      <td>37.774599</td>\n",
       "      <td>2015</td>\n",
       "      <td>05</td>\n",
       "      <td>13</td>\n",
       "      <td>23</td>\n",
       "      <td>53</td>\n",
       "      <td>4</td>\n",
       "    </tr>\n",
       "    <tr>\n",
       "      <th>2</th>\n",
       "      <td>-122.424363</td>\n",
       "      <td>37.800414</td>\n",
       "      <td>2015</td>\n",
       "      <td>05</td>\n",
       "      <td>13</td>\n",
       "      <td>23</td>\n",
       "      <td>33</td>\n",
       "      <td>4</td>\n",
       "    </tr>\n",
       "    <tr>\n",
       "      <th>3</th>\n",
       "      <td>-122.426995</td>\n",
       "      <td>37.800873</td>\n",
       "      <td>2015</td>\n",
       "      <td>05</td>\n",
       "      <td>13</td>\n",
       "      <td>23</td>\n",
       "      <td>30</td>\n",
       "      <td>4</td>\n",
       "    </tr>\n",
       "    <tr>\n",
       "      <th>4</th>\n",
       "      <td>-122.438738</td>\n",
       "      <td>37.771541</td>\n",
       "      <td>2015</td>\n",
       "      <td>05</td>\n",
       "      <td>13</td>\n",
       "      <td>23</td>\n",
       "      <td>30</td>\n",
       "      <td>4</td>\n",
       "    </tr>\n",
       "    <tr>\n",
       "      <th>...</th>\n",
       "      <td>...</td>\n",
       "      <td>...</td>\n",
       "      <td>...</td>\n",
       "      <td>...</td>\n",
       "      <td>...</td>\n",
       "      <td>...</td>\n",
       "      <td>...</td>\n",
       "      <td>...</td>\n",
       "    </tr>\n",
       "    <tr>\n",
       "      <th>878044</th>\n",
       "      <td>-122.459033</td>\n",
       "      <td>37.714056</td>\n",
       "      <td>2003</td>\n",
       "      <td>01</td>\n",
       "      <td>06</td>\n",
       "      <td>00</td>\n",
       "      <td>15</td>\n",
       "      <td>2</td>\n",
       "    </tr>\n",
       "    <tr>\n",
       "      <th>878045</th>\n",
       "      <td>-122.447364</td>\n",
       "      <td>37.731948</td>\n",
       "      <td>2003</td>\n",
       "      <td>01</td>\n",
       "      <td>06</td>\n",
       "      <td>00</td>\n",
       "      <td>01</td>\n",
       "      <td>2</td>\n",
       "    </tr>\n",
       "    <tr>\n",
       "      <th>878046</th>\n",
       "      <td>-122.403390</td>\n",
       "      <td>37.780266</td>\n",
       "      <td>2003</td>\n",
       "      <td>01</td>\n",
       "      <td>06</td>\n",
       "      <td>00</td>\n",
       "      <td>01</td>\n",
       "      <td>2</td>\n",
       "    </tr>\n",
       "    <tr>\n",
       "      <th>878047</th>\n",
       "      <td>-122.390531</td>\n",
       "      <td>37.780607</td>\n",
       "      <td>2003</td>\n",
       "      <td>01</td>\n",
       "      <td>06</td>\n",
       "      <td>00</td>\n",
       "      <td>01</td>\n",
       "      <td>2</td>\n",
       "    </tr>\n",
       "    <tr>\n",
       "      <th>878048</th>\n",
       "      <td>-122.394926</td>\n",
       "      <td>37.738212</td>\n",
       "      <td>2003</td>\n",
       "      <td>01</td>\n",
       "      <td>06</td>\n",
       "      <td>00</td>\n",
       "      <td>01</td>\n",
       "      <td>2</td>\n",
       "    </tr>\n",
       "  </tbody>\n",
       "</table>\n",
       "<p>878049 rows × 8 columns</p>\n",
       "</div>"
      ],
      "text/plain": [
       "                 X          Y  Year Month Day Hour Minute DayInNumber\n",
       "0      -122.425892  37.774599  2015    05  13   23     53           4\n",
       "1      -122.425892  37.774599  2015    05  13   23     53           4\n",
       "2      -122.424363  37.800414  2015    05  13   23     33           4\n",
       "3      -122.426995  37.800873  2015    05  13   23     30           4\n",
       "4      -122.438738  37.771541  2015    05  13   23     30           4\n",
       "...            ...        ...   ...   ...  ..  ...    ...         ...\n",
       "878044 -122.459033  37.714056  2003    01  06   00     15           2\n",
       "878045 -122.447364  37.731948  2003    01  06   00     01           2\n",
       "878046 -122.403390  37.780266  2003    01  06   00     01           2\n",
       "878047 -122.390531  37.780607  2003    01  06   00     01           2\n",
       "878048 -122.394926  37.738212  2003    01  06   00     01           2\n",
       "\n",
       "[878049 rows x 8 columns]"
      ]
     },
     "execution_count": 37,
     "metadata": {},
     "output_type": "execute_result"
    }
   ],
   "source": [
    "X = df[df.columns.values]\n",
    "X.drop(['HighLevelCategory','Address','Category','DayOfWeek','PdDistrict','Resolution','Dates'], axis = 1, inplace = True) #dropped address because of model error RandomForestClassifier\n",
    "\n",
    "y = df.HighLevelCategory\n",
    "\n",
    "X"
   ]
  },
  {
   "cell_type": "code",
   "execution_count": 38,
   "metadata": {
    "collapsed": false
   },
   "outputs": [
    {
     "data": {
      "text/plain": [
       "0         Other\n",
       "1         Other\n",
       "2         Other\n",
       "3         Theft\n",
       "4         Theft\n",
       "          ...  \n",
       "878044    Other\n",
       "878045    Theft\n",
       "878046    Theft\n",
       "878047    Other\n",
       "878048    Other\n",
       "Name: HighLevelCategory, dtype: object"
      ]
     },
     "execution_count": 38,
     "metadata": {},
     "output_type": "execute_result"
    }
   ],
   "source": [
    "y"
   ]
  },
  {
   "cell_type": "markdown",
   "metadata": {},
   "source": [
    "### Split dataset into a training and testing sets (60%, 40%)"
   ]
  },
  {
   "cell_type": "code",
   "execution_count": 39,
   "metadata": {
    "collapsed": true
   },
   "outputs": [],
   "source": [
    "train_X, test_X, train_y, test_y = model_selection.train_test_split(X, y, train_size = .6, random_state = 0)\n"
   ]
  },
  {
   "cell_type": "code",
   "execution_count": null,
   "metadata": {
    "collapsed": false
   },
   "outputs": [],
   "source": [
    "model = ensemble.RandomForestClassifier()\n",
    "\n",
    "params = {\"n_estimators\": [1, 10, 100],\n",
    "          \"min_samples_leaf\": [1, 5, 10]}\n",
    "\n",
    "gs = GridSearchCV(model, params, cv = 3)\n",
    "\n",
    "gs.fit (train_X, train_y)\n",
    "\n",
    "#code above figures out best combinations\n"
   ]
  },
  {
   "cell_type": "code",
   "execution_count": 84,
   "metadata": {
    "collapsed": false
   },
   "outputs": [
    {
     "data": {
      "text/plain": [
       "Index([u'Dates', u'Category', u'DayOfWeek', u'PdDistrict', u'Resolution',\n",
       "       u'Address', u'X', u'Y', u'District_BAYVIEW', u'District_CENTRAL',\n",
       "       u'District_INGLESIDE', u'District_MISSION', u'District_NORTHERN',\n",
       "       u'District_PARK', u'District_RICHMOND', u'District_SOUTHERN',\n",
       "       u'District_TARAVAL', u'District_TENDERLOIN', u'DayOfWeek_Friday',\n",
       "       u'DayOfWeek_Monday', u'DayOfWeek_Saturday', u'DayOfWeek_Sunday',\n",
       "       u'DayOfWeek_Thursday', u'DayOfWeek_Tuesday', u'DayOfWeek_Wednesday'],\n",
       "      dtype='object')"
      ]
     },
     "execution_count": 84,
     "metadata": {},
     "output_type": "execute_result"
    }
   ],
   "source": [
    "#df.columns"
   ]
  },
  {
   "cell_type": "code",
   "execution_count": 88,
   "metadata": {
    "collapsed": false
   },
   "outputs": [
    {
     "data": {
      "text/plain": [
       "DayOfWeek_Saturday     126810\n",
       "DayOfWeek_Sunday       116707\n",
       "DayOfWeek_Monday       121584\n",
       "DayOfWeek_Tuesday      124965\n",
       "DayOfWeek_Wednesday    129211\n",
       "DayOfWeek_Thursday     125038\n",
       "DayOfWeek_Friday       133734\n",
       "dtype: int64"
      ]
     },
     "execution_count": 88,
     "metadata": {},
     "output_type": "execute_result"
    }
   ],
   "source": [
    "#df[['DayOfWeek_Saturday', 'DayOfWeek_Sunday', 'DayOfWeek_Monday' , \n",
    "    #'DayOfWeek_Tuesday' , 'DayOfWeek_Wednesday', 'DayOfWeek_Thursday', \n",
    "    #'DayOfWeek_Friday']].sum()"
   ]
  },
  {
   "cell_type": "code",
   "execution_count": 60,
   "metadata": {
    "collapsed": true
   },
   "outputs": [],
   "source": [
    "#df['LARCENY/THEFT'] = df.Category.apply(lambda x:1 if x ==\"LARCENY/THEFT\" else 0)"
   ]
  },
  {
   "cell_type": "code",
   "execution_count": 90,
   "metadata": {
    "collapsed": false
   },
   "outputs": [
    {
     "data": {
      "text/html": [
       "<div>\n",
       "<table border=\"1\" class=\"dataframe\">\n",
       "  <thead>\n",
       "    <tr style=\"text-align: right;\">\n",
       "      <th></th>\n",
       "      <th>Dates</th>\n",
       "      <th>Category</th>\n",
       "      <th>DayOfWeek</th>\n",
       "      <th>PdDistrict</th>\n",
       "      <th>Resolution</th>\n",
       "      <th>Address</th>\n",
       "      <th>...</th>\n",
       "      <th>DayOfWeek_Saturday</th>\n",
       "      <th>DayOfWeek_Sunday</th>\n",
       "      <th>DayOfWeek_Thursday</th>\n",
       "      <th>DayOfWeek_Tuesday</th>\n",
       "      <th>DayOfWeek_Wednesday</th>\n",
       "      <th>LARCENY/THEFT</th>\n",
       "    </tr>\n",
       "  </thead>\n",
       "  <tbody>\n",
       "    <tr>\n",
       "      <th>0</th>\n",
       "      <td>2015-05-13 23:53:00</td>\n",
       "      <td>WARRANTS</td>\n",
       "      <td>Wednesday</td>\n",
       "      <td>NORTHERN</td>\n",
       "      <td>ARREST, BOOKED</td>\n",
       "      <td>OAK ST / LAGUNA ST</td>\n",
       "      <td>...</td>\n",
       "      <td>0</td>\n",
       "      <td>0</td>\n",
       "      <td>0</td>\n",
       "      <td>0</td>\n",
       "      <td>1</td>\n",
       "      <td>0</td>\n",
       "    </tr>\n",
       "    <tr>\n",
       "      <th>1</th>\n",
       "      <td>2015-05-13 23:53:00</td>\n",
       "      <td>OTHER OFFENSES</td>\n",
       "      <td>Wednesday</td>\n",
       "      <td>NORTHERN</td>\n",
       "      <td>ARREST, BOOKED</td>\n",
       "      <td>OAK ST / LAGUNA ST</td>\n",
       "      <td>...</td>\n",
       "      <td>0</td>\n",
       "      <td>0</td>\n",
       "      <td>0</td>\n",
       "      <td>0</td>\n",
       "      <td>1</td>\n",
       "      <td>0</td>\n",
       "    </tr>\n",
       "    <tr>\n",
       "      <th>2</th>\n",
       "      <td>2015-05-13 23:33:00</td>\n",
       "      <td>OTHER OFFENSES</td>\n",
       "      <td>Wednesday</td>\n",
       "      <td>NORTHERN</td>\n",
       "      <td>ARREST, BOOKED</td>\n",
       "      <td>VANNESS AV / GREENWICH ST</td>\n",
       "      <td>...</td>\n",
       "      <td>0</td>\n",
       "      <td>0</td>\n",
       "      <td>0</td>\n",
       "      <td>0</td>\n",
       "      <td>1</td>\n",
       "      <td>0</td>\n",
       "    </tr>\n",
       "    <tr>\n",
       "      <th>3</th>\n",
       "      <td>2015-05-13 23:30:00</td>\n",
       "      <td>LARCENY/THEFT</td>\n",
       "      <td>Wednesday</td>\n",
       "      <td>NORTHERN</td>\n",
       "      <td>NONE</td>\n",
       "      <td>1500 Block of LOMBARD ST</td>\n",
       "      <td>...</td>\n",
       "      <td>0</td>\n",
       "      <td>0</td>\n",
       "      <td>0</td>\n",
       "      <td>0</td>\n",
       "      <td>1</td>\n",
       "      <td>1</td>\n",
       "    </tr>\n",
       "    <tr>\n",
       "      <th>4</th>\n",
       "      <td>2015-05-13 23:30:00</td>\n",
       "      <td>LARCENY/THEFT</td>\n",
       "      <td>Wednesday</td>\n",
       "      <td>PARK</td>\n",
       "      <td>NONE</td>\n",
       "      <td>100 Block of BRODERICK ST</td>\n",
       "      <td>...</td>\n",
       "      <td>0</td>\n",
       "      <td>0</td>\n",
       "      <td>0</td>\n",
       "      <td>0</td>\n",
       "      <td>1</td>\n",
       "      <td>1</td>\n",
       "    </tr>\n",
       "  </tbody>\n",
       "</table>\n",
       "<p>5 rows × 26 columns</p>\n",
       "</div>"
      ],
      "text/plain": [
       "                 Dates        Category  DayOfWeek PdDistrict      Resolution  \\\n",
       "0  2015-05-13 23:53:00        WARRANTS  Wednesday   NORTHERN  ARREST, BOOKED   \n",
       "1  2015-05-13 23:53:00  OTHER OFFENSES  Wednesday   NORTHERN  ARREST, BOOKED   \n",
       "2  2015-05-13 23:33:00  OTHER OFFENSES  Wednesday   NORTHERN  ARREST, BOOKED   \n",
       "3  2015-05-13 23:30:00   LARCENY/THEFT  Wednesday   NORTHERN            NONE   \n",
       "4  2015-05-13 23:30:00   LARCENY/THEFT  Wednesday       PARK            NONE   \n",
       "\n",
       "                     Address      ...        DayOfWeek_Saturday  \\\n",
       "0         OAK ST / LAGUNA ST      ...                         0   \n",
       "1         OAK ST / LAGUNA ST      ...                         0   \n",
       "2  VANNESS AV / GREENWICH ST      ...                         0   \n",
       "3   1500 Block of LOMBARD ST      ...                         0   \n",
       "4  100 Block of BRODERICK ST      ...                         0   \n",
       "\n",
       "   DayOfWeek_Sunday  DayOfWeek_Thursday  DayOfWeek_Tuesday  \\\n",
       "0                 0                   0                  0   \n",
       "1                 0                   0                  0   \n",
       "2                 0                   0                  0   \n",
       "3                 0                   0                  0   \n",
       "4                 0                   0                  0   \n",
       "\n",
       "   DayOfWeek_Wednesday  LARCENY/THEFT  \n",
       "0                    1              0  \n",
       "1                    1              0  \n",
       "2                    1              0  \n",
       "3                    1              1  \n",
       "4                    1              1  \n",
       "\n",
       "[5 rows x 26 columns]"
      ]
     },
     "execution_count": 90,
     "metadata": {},
     "output_type": "execute_result"
    }
   ],
   "source": [
    "#df.head()"
   ]
  },
  {
   "cell_type": "code",
   "execution_count": 91,
   "metadata": {
    "collapsed": false
   },
   "outputs": [
    {
     "data": {
      "text/html": [
       "<div>\n",
       "<table border=\"1\" class=\"dataframe\">\n",
       "  <thead>\n",
       "    <tr style=\"text-align: right;\">\n",
       "      <th></th>\n",
       "      <th>X</th>\n",
       "      <th>Y</th>\n",
       "      <th>District_BAYVIEW</th>\n",
       "      <th>District_CENTRAL</th>\n",
       "      <th>District_INGLESIDE</th>\n",
       "      <th>District_MISSION</th>\n",
       "      <th>...</th>\n",
       "      <th>DayOfWeek_Saturday</th>\n",
       "      <th>DayOfWeek_Sunday</th>\n",
       "      <th>DayOfWeek_Thursday</th>\n",
       "      <th>DayOfWeek_Tuesday</th>\n",
       "      <th>DayOfWeek_Wednesday</th>\n",
       "      <th>LARCENY/THEFT</th>\n",
       "    </tr>\n",
       "  </thead>\n",
       "  <tbody>\n",
       "    <tr>\n",
       "      <th>X</th>\n",
       "      <td>1.000000</td>\n",
       "      <td>0.559338</td>\n",
       "      <td>0.324589</td>\n",
       "      <td>0.141814</td>\n",
       "      <td>-0.063299</td>\n",
       "      <td>0.042235</td>\n",
       "      <td>...</td>\n",
       "      <td>0.005575</td>\n",
       "      <td>0.002131</td>\n",
       "      <td>-0.001416</td>\n",
       "      <td>-0.002643</td>\n",
       "      <td>0.000631</td>\n",
       "      <td>0.002808</td>\n",
       "    </tr>\n",
       "    <tr>\n",
       "      <th>Y</th>\n",
       "      <td>0.559338</td>\n",
       "      <td>1.000000</td>\n",
       "      <td>-0.021009</td>\n",
       "      <td>0.019922</td>\n",
       "      <td>-0.028753</td>\n",
       "      <td>-0.009247</td>\n",
       "      <td>...</td>\n",
       "      <td>-0.000597</td>\n",
       "      <td>-0.000958</td>\n",
       "      <td>0.000523</td>\n",
       "      <td>0.000236</td>\n",
       "      <td>0.000109</td>\n",
       "      <td>0.007560</td>\n",
       "    </tr>\n",
       "    <tr>\n",
       "      <th>District_BAYVIEW</th>\n",
       "      <td>0.324589</td>\n",
       "      <td>-0.021009</td>\n",
       "      <td>1.000000</td>\n",
       "      <td>-0.110578</td>\n",
       "      <td>-0.105772</td>\n",
       "      <td>-0.133924</td>\n",
       "      <td>...</td>\n",
       "      <td>-0.005097</td>\n",
       "      <td>0.000867</td>\n",
       "      <td>-0.003549</td>\n",
       "      <td>0.000949</td>\n",
       "      <td>0.003333</td>\n",
       "      <td>-0.072548</td>\n",
       "    </tr>\n",
       "    <tr>\n",
       "      <th>District_CENTRAL</th>\n",
       "      <td>0.141814</td>\n",
       "      <td>0.019922</td>\n",
       "      <td>-0.110578</td>\n",
       "      <td>1.000000</td>\n",
       "      <td>-0.103137</td>\n",
       "      <td>-0.130589</td>\n",
       "      <td>...</td>\n",
       "      <td>0.018852</td>\n",
       "      <td>0.009484</td>\n",
       "      <td>-0.005903</td>\n",
       "      <td>-0.009609</td>\n",
       "      <td>-0.008992</td>\n",
       "      <td>0.077320</td>\n",
       "    </tr>\n",
       "    <tr>\n",
       "      <th>District_INGLESIDE</th>\n",
       "      <td>-0.063299</td>\n",
       "      <td>-0.028753</td>\n",
       "      <td>-0.105772</td>\n",
       "      <td>-0.103137</td>\n",
       "      <td>1.000000</td>\n",
       "      <td>-0.124913</td>\n",
       "      <td>...</td>\n",
       "      <td>-0.006142</td>\n",
       "      <td>-0.001570</td>\n",
       "      <td>0.000799</td>\n",
       "      <td>0.003702</td>\n",
       "      <td>0.000499</td>\n",
       "      <td>-0.054552</td>\n",
       "    </tr>\n",
       "    <tr>\n",
       "      <th>...</th>\n",
       "      <td>...</td>\n",
       "      <td>...</td>\n",
       "      <td>...</td>\n",
       "      <td>...</td>\n",
       "      <td>...</td>\n",
       "      <td>...</td>\n",
       "      <td>...</td>\n",
       "      <td>...</td>\n",
       "      <td>...</td>\n",
       "      <td>...</td>\n",
       "      <td>...</td>\n",
       "      <td>...</td>\n",
       "      <td>...</td>\n",
       "    </tr>\n",
       "    <tr>\n",
       "      <th>DayOfWeek_Sunday</th>\n",
       "      <td>0.002131</td>\n",
       "      <td>-0.000958</td>\n",
       "      <td>0.000867</td>\n",
       "      <td>0.009484</td>\n",
       "      <td>-0.001570</td>\n",
       "      <td>-0.000623</td>\n",
       "      <td>...</td>\n",
       "      <td>-0.160859</td>\n",
       "      <td>1.000000</td>\n",
       "      <td>-0.159543</td>\n",
       "      <td>-0.159489</td>\n",
       "      <td>-0.162635</td>\n",
       "      <td>0.007584</td>\n",
       "    </tr>\n",
       "    <tr>\n",
       "      <th>DayOfWeek_Thursday</th>\n",
       "      <td>-0.001416</td>\n",
       "      <td>0.000523</td>\n",
       "      <td>-0.003549</td>\n",
       "      <td>-0.005903</td>\n",
       "      <td>0.000799</td>\n",
       "      <td>-0.000289</td>\n",
       "      <td>...</td>\n",
       "      <td>-0.167420</td>\n",
       "      <td>-0.159543</td>\n",
       "      <td>1.000000</td>\n",
       "      <td>-0.165994</td>\n",
       "      <td>-0.169269</td>\n",
       "      <td>-0.004011</td>\n",
       "    </tr>\n",
       "    <tr>\n",
       "      <th>DayOfWeek_Tuesday</th>\n",
       "      <td>-0.002643</td>\n",
       "      <td>0.000236</td>\n",
       "      <td>0.000949</td>\n",
       "      <td>-0.009609</td>\n",
       "      <td>0.003702</td>\n",
       "      <td>0.002056</td>\n",
       "      <td>...</td>\n",
       "      <td>-0.167363</td>\n",
       "      <td>-0.159489</td>\n",
       "      <td>-0.165994</td>\n",
       "      <td>1.000000</td>\n",
       "      <td>-0.169211</td>\n",
       "      <td>-0.007631</td>\n",
       "    </tr>\n",
       "    <tr>\n",
       "      <th>DayOfWeek_Wednesday</th>\n",
       "      <td>0.000631</td>\n",
       "      <td>0.000109</td>\n",
       "      <td>0.003333</td>\n",
       "      <td>-0.008992</td>\n",
       "      <td>0.000499</td>\n",
       "      <td>0.000671</td>\n",
       "      <td>...</td>\n",
       "      <td>-0.170665</td>\n",
       "      <td>-0.162635</td>\n",
       "      <td>-0.169269</td>\n",
       "      <td>-0.169211</td>\n",
       "      <td>1.000000</td>\n",
       "      <td>-0.010068</td>\n",
       "    </tr>\n",
       "    <tr>\n",
       "      <th>LARCENY/THEFT</th>\n",
       "      <td>0.002808</td>\n",
       "      <td>0.007560</td>\n",
       "      <td>-0.072548</td>\n",
       "      <td>0.077320</td>\n",
       "      <td>-0.054552</td>\n",
       "      <td>-0.047016</td>\n",
       "      <td>...</td>\n",
       "      <td>0.015880</td>\n",
       "      <td>0.007584</td>\n",
       "      <td>-0.004011</td>\n",
       "      <td>-0.007631</td>\n",
       "      <td>-0.010068</td>\n",
       "      <td>1.000000</td>\n",
       "    </tr>\n",
       "  </tbody>\n",
       "</table>\n",
       "<p>20 rows × 20 columns</p>\n",
       "</div>"
      ],
      "text/plain": [
       "                            X         Y  District_BAYVIEW  District_CENTRAL  \\\n",
       "X                    1.000000  0.559338          0.324589          0.141814   \n",
       "Y                    0.559338  1.000000         -0.021009          0.019922   \n",
       "District_BAYVIEW     0.324589 -0.021009          1.000000         -0.110578   \n",
       "District_CENTRAL     0.141814  0.019922         -0.110578          1.000000   \n",
       "District_INGLESIDE  -0.063299 -0.028753         -0.105772         -0.103137   \n",
       "...                       ...       ...               ...               ...   \n",
       "DayOfWeek_Sunday     0.002131 -0.000958          0.000867          0.009484   \n",
       "DayOfWeek_Thursday  -0.001416  0.000523         -0.003549         -0.005903   \n",
       "DayOfWeek_Tuesday   -0.002643  0.000236          0.000949         -0.009609   \n",
       "DayOfWeek_Wednesday  0.000631  0.000109          0.003333         -0.008992   \n",
       "LARCENY/THEFT        0.002808  0.007560         -0.072548          0.077320   \n",
       "\n",
       "                     District_INGLESIDE  District_MISSION      ...        \\\n",
       "X                             -0.063299          0.042235      ...         \n",
       "Y                             -0.028753         -0.009247      ...         \n",
       "District_BAYVIEW              -0.105772         -0.133924      ...         \n",
       "District_CENTRAL              -0.103137         -0.130589      ...         \n",
       "District_INGLESIDE             1.000000         -0.124913      ...         \n",
       "...                                 ...               ...      ...         \n",
       "DayOfWeek_Sunday              -0.001570         -0.000623      ...         \n",
       "DayOfWeek_Thursday             0.000799         -0.000289      ...         \n",
       "DayOfWeek_Tuesday              0.003702          0.002056      ...         \n",
       "DayOfWeek_Wednesday            0.000499          0.000671      ...         \n",
       "LARCENY/THEFT                 -0.054552         -0.047016      ...         \n",
       "\n",
       "                     DayOfWeek_Saturday  DayOfWeek_Sunday  DayOfWeek_Thursday  \\\n",
       "X                              0.005575          0.002131           -0.001416   \n",
       "Y                             -0.000597         -0.000958            0.000523   \n",
       "District_BAYVIEW              -0.005097          0.000867           -0.003549   \n",
       "District_CENTRAL               0.018852          0.009484           -0.005903   \n",
       "District_INGLESIDE            -0.006142         -0.001570            0.000799   \n",
       "...                                 ...               ...                 ...   \n",
       "DayOfWeek_Sunday              -0.160859          1.000000           -0.159543   \n",
       "DayOfWeek_Thursday            -0.167420         -0.159543            1.000000   \n",
       "DayOfWeek_Tuesday             -0.167363         -0.159489           -0.165994   \n",
       "DayOfWeek_Wednesday           -0.170665         -0.162635           -0.169269   \n",
       "LARCENY/THEFT                  0.015880          0.007584           -0.004011   \n",
       "\n",
       "                     DayOfWeek_Tuesday  DayOfWeek_Wednesday  LARCENY/THEFT  \n",
       "X                            -0.002643             0.000631       0.002808  \n",
       "Y                             0.000236             0.000109       0.007560  \n",
       "District_BAYVIEW              0.000949             0.003333      -0.072548  \n",
       "District_CENTRAL             -0.009609            -0.008992       0.077320  \n",
       "District_INGLESIDE            0.003702             0.000499      -0.054552  \n",
       "...                                ...                  ...            ...  \n",
       "DayOfWeek_Sunday             -0.159489            -0.162635       0.007584  \n",
       "DayOfWeek_Thursday           -0.165994            -0.169269      -0.004011  \n",
       "DayOfWeek_Tuesday             1.000000            -0.169211      -0.007631  \n",
       "DayOfWeek_Wednesday          -0.169211             1.000000      -0.010068  \n",
       "LARCENY/THEFT                -0.007631            -0.010068       1.000000  \n",
       "\n",
       "[20 rows x 20 columns]"
      ]
     },
     "execution_count": 91,
     "metadata": {},
     "output_type": "execute_result"
    }
   ],
   "source": [
    "#df.corr()"
   ]
  },
  {
   "cell_type": "code",
   "execution_count": 92,
   "metadata": {
    "collapsed": false
   },
   "outputs": [
    {
     "data": {
      "text/html": [
       "<div>\n",
       "<table border=\"1\" class=\"dataframe\">\n",
       "  <thead>\n",
       "    <tr style=\"text-align: right;\">\n",
       "      <th></th>\n",
       "      <th>District_BAYVIEW</th>\n",
       "      <th>District_CENTRAL</th>\n",
       "      <th>District_INGLESIDE</th>\n",
       "      <th>District_MISSION</th>\n",
       "      <th>District_NORTHERN</th>\n",
       "      <th>District_PARK</th>\n",
       "      <th>...</th>\n",
       "      <th>DayOfWeek_Saturday</th>\n",
       "      <th>DayOfWeek_Sunday</th>\n",
       "      <th>DayOfWeek_Thursday</th>\n",
       "      <th>DayOfWeek_Tuesday</th>\n",
       "      <th>DayOfWeek_Wednesday</th>\n",
       "      <th>LARCENY/THEFT</th>\n",
       "    </tr>\n",
       "  </thead>\n",
       "  <tbody>\n",
       "    <tr>\n",
       "      <th>District_BAYVIEW</th>\n",
       "      <td>1.000000</td>\n",
       "      <td>-0.110578</td>\n",
       "      <td>-0.105772</td>\n",
       "      <td>-0.133924</td>\n",
       "      <td>-0.124307</td>\n",
       "      <td>-0.082145</td>\n",
       "      <td>...</td>\n",
       "      <td>-0.005097</td>\n",
       "      <td>0.000867</td>\n",
       "      <td>-0.003549</td>\n",
       "      <td>0.000949</td>\n",
       "      <td>0.003333</td>\n",
       "      <td>-0.072548</td>\n",
       "    </tr>\n",
       "    <tr>\n",
       "      <th>District_CENTRAL</th>\n",
       "      <td>-0.110578</td>\n",
       "      <td>1.000000</td>\n",
       "      <td>-0.103137</td>\n",
       "      <td>-0.130589</td>\n",
       "      <td>-0.121211</td>\n",
       "      <td>-0.080100</td>\n",
       "      <td>...</td>\n",
       "      <td>0.018852</td>\n",
       "      <td>0.009484</td>\n",
       "      <td>-0.005903</td>\n",
       "      <td>-0.009609</td>\n",
       "      <td>-0.008992</td>\n",
       "      <td>0.077320</td>\n",
       "    </tr>\n",
       "    <tr>\n",
       "      <th>District_INGLESIDE</th>\n",
       "      <td>-0.105772</td>\n",
       "      <td>-0.103137</td>\n",
       "      <td>1.000000</td>\n",
       "      <td>-0.124913</td>\n",
       "      <td>-0.115943</td>\n",
       "      <td>-0.076618</td>\n",
       "      <td>...</td>\n",
       "      <td>-0.006142</td>\n",
       "      <td>-0.001570</td>\n",
       "      <td>0.000799</td>\n",
       "      <td>0.003702</td>\n",
       "      <td>0.000499</td>\n",
       "      <td>-0.054552</td>\n",
       "    </tr>\n",
       "    <tr>\n",
       "      <th>District_MISSION</th>\n",
       "      <td>-0.133924</td>\n",
       "      <td>-0.130589</td>\n",
       "      <td>-0.124913</td>\n",
       "      <td>1.000000</td>\n",
       "      <td>-0.146803</td>\n",
       "      <td>-0.097011</td>\n",
       "      <td>...</td>\n",
       "      <td>-0.000985</td>\n",
       "      <td>-0.000623</td>\n",
       "      <td>-0.000289</td>\n",
       "      <td>0.002056</td>\n",
       "      <td>0.000671</td>\n",
       "      <td>-0.047016</td>\n",
       "    </tr>\n",
       "    <tr>\n",
       "      <th>District_NORTHERN</th>\n",
       "      <td>-0.124307</td>\n",
       "      <td>-0.121211</td>\n",
       "      <td>-0.115943</td>\n",
       "      <td>-0.146803</td>\n",
       "      <td>1.000000</td>\n",
       "      <td>-0.090045</td>\n",
       "      <td>...</td>\n",
       "      <td>0.002791</td>\n",
       "      <td>0.002844</td>\n",
       "      <td>0.000877</td>\n",
       "      <td>-0.004193</td>\n",
       "      <td>-0.002356</td>\n",
       "      <td>0.067200</td>\n",
       "    </tr>\n",
       "    <tr>\n",
       "      <th>...</th>\n",
       "      <td>...</td>\n",
       "      <td>...</td>\n",
       "      <td>...</td>\n",
       "      <td>...</td>\n",
       "      <td>...</td>\n",
       "      <td>...</td>\n",
       "      <td>...</td>\n",
       "      <td>...</td>\n",
       "      <td>...</td>\n",
       "      <td>...</td>\n",
       "      <td>...</td>\n",
       "      <td>...</td>\n",
       "      <td>...</td>\n",
       "    </tr>\n",
       "    <tr>\n",
       "      <th>DayOfWeek_Sunday</th>\n",
       "      <td>0.000867</td>\n",
       "      <td>0.009484</td>\n",
       "      <td>-0.001570</td>\n",
       "      <td>-0.000623</td>\n",
       "      <td>0.002844</td>\n",
       "      <td>0.001333</td>\n",
       "      <td>...</td>\n",
       "      <td>-0.160859</td>\n",
       "      <td>1.000000</td>\n",
       "      <td>-0.159543</td>\n",
       "      <td>-0.159489</td>\n",
       "      <td>-0.162635</td>\n",
       "      <td>0.007584</td>\n",
       "    </tr>\n",
       "    <tr>\n",
       "      <th>DayOfWeek_Thursday</th>\n",
       "      <td>-0.003549</td>\n",
       "      <td>-0.005903</td>\n",
       "      <td>0.000799</td>\n",
       "      <td>-0.000289</td>\n",
       "      <td>0.000877</td>\n",
       "      <td>0.000348</td>\n",
       "      <td>...</td>\n",
       "      <td>-0.167420</td>\n",
       "      <td>-0.159543</td>\n",
       "      <td>1.000000</td>\n",
       "      <td>-0.165994</td>\n",
       "      <td>-0.169269</td>\n",
       "      <td>-0.004011</td>\n",
       "    </tr>\n",
       "    <tr>\n",
       "      <th>DayOfWeek_Tuesday</th>\n",
       "      <td>0.000949</td>\n",
       "      <td>-0.009609</td>\n",
       "      <td>0.003702</td>\n",
       "      <td>0.002056</td>\n",
       "      <td>-0.004193</td>\n",
       "      <td>-0.002085</td>\n",
       "      <td>...</td>\n",
       "      <td>-0.167363</td>\n",
       "      <td>-0.159489</td>\n",
       "      <td>-0.165994</td>\n",
       "      <td>1.000000</td>\n",
       "      <td>-0.169211</td>\n",
       "      <td>-0.007631</td>\n",
       "    </tr>\n",
       "    <tr>\n",
       "      <th>DayOfWeek_Wednesday</th>\n",
       "      <td>0.003333</td>\n",
       "      <td>-0.008992</td>\n",
       "      <td>0.000499</td>\n",
       "      <td>0.000671</td>\n",
       "      <td>-0.002356</td>\n",
       "      <td>0.000339</td>\n",
       "      <td>...</td>\n",
       "      <td>-0.170665</td>\n",
       "      <td>-0.162635</td>\n",
       "      <td>-0.169269</td>\n",
       "      <td>-0.169211</td>\n",
       "      <td>1.000000</td>\n",
       "      <td>-0.010068</td>\n",
       "    </tr>\n",
       "    <tr>\n",
       "      <th>LARCENY/THEFT</th>\n",
       "      <td>-0.072548</td>\n",
       "      <td>0.077320</td>\n",
       "      <td>-0.054552</td>\n",
       "      <td>-0.047016</td>\n",
       "      <td>0.067200</td>\n",
       "      <td>-0.008382</td>\n",
       "      <td>...</td>\n",
       "      <td>0.015880</td>\n",
       "      <td>0.007584</td>\n",
       "      <td>-0.004011</td>\n",
       "      <td>-0.007631</td>\n",
       "      <td>-0.010068</td>\n",
       "      <td>1.000000</td>\n",
       "    </tr>\n",
       "  </tbody>\n",
       "</table>\n",
       "<p>18 rows × 18 columns</p>\n",
       "</div>"
      ],
      "text/plain": [
       "                     District_BAYVIEW  District_CENTRAL  District_INGLESIDE  \\\n",
       "District_BAYVIEW             1.000000         -0.110578           -0.105772   \n",
       "District_CENTRAL            -0.110578          1.000000           -0.103137   \n",
       "District_INGLESIDE          -0.105772         -0.103137            1.000000   \n",
       "District_MISSION            -0.133924         -0.130589           -0.124913   \n",
       "District_NORTHERN           -0.124307         -0.121211           -0.115943   \n",
       "...                               ...               ...                 ...   \n",
       "DayOfWeek_Sunday             0.000867          0.009484           -0.001570   \n",
       "DayOfWeek_Thursday          -0.003549         -0.005903            0.000799   \n",
       "DayOfWeek_Tuesday            0.000949         -0.009609            0.003702   \n",
       "DayOfWeek_Wednesday          0.003333         -0.008992            0.000499   \n",
       "LARCENY/THEFT               -0.072548          0.077320           -0.054552   \n",
       "\n",
       "                     District_MISSION  District_NORTHERN  District_PARK  \\\n",
       "District_BAYVIEW            -0.133924          -0.124307      -0.082145   \n",
       "District_CENTRAL            -0.130589          -0.121211      -0.080100   \n",
       "District_INGLESIDE          -0.124913          -0.115943      -0.076618   \n",
       "District_MISSION             1.000000          -0.146803      -0.097011   \n",
       "District_NORTHERN           -0.146803           1.000000      -0.090045   \n",
       "...                               ...                ...            ...   \n",
       "DayOfWeek_Sunday            -0.000623           0.002844       0.001333   \n",
       "DayOfWeek_Thursday          -0.000289           0.000877       0.000348   \n",
       "DayOfWeek_Tuesday            0.002056          -0.004193      -0.002085   \n",
       "DayOfWeek_Wednesday          0.000671          -0.002356       0.000339   \n",
       "LARCENY/THEFT               -0.047016           0.067200      -0.008382   \n",
       "\n",
       "                         ...        DayOfWeek_Saturday  DayOfWeek_Sunday  \\\n",
       "District_BAYVIEW         ...                 -0.005097          0.000867   \n",
       "District_CENTRAL         ...                  0.018852          0.009484   \n",
       "District_INGLESIDE       ...                 -0.006142         -0.001570   \n",
       "District_MISSION         ...                 -0.000985         -0.000623   \n",
       "District_NORTHERN        ...                  0.002791          0.002844   \n",
       "...                      ...                       ...               ...   \n",
       "DayOfWeek_Sunday         ...                 -0.160859          1.000000   \n",
       "DayOfWeek_Thursday       ...                 -0.167420         -0.159543   \n",
       "DayOfWeek_Tuesday        ...                 -0.167363         -0.159489   \n",
       "DayOfWeek_Wednesday      ...                 -0.170665         -0.162635   \n",
       "LARCENY/THEFT            ...                  0.015880          0.007584   \n",
       "\n",
       "                     DayOfWeek_Thursday  DayOfWeek_Tuesday  \\\n",
       "District_BAYVIEW              -0.003549           0.000949   \n",
       "District_CENTRAL              -0.005903          -0.009609   \n",
       "District_INGLESIDE             0.000799           0.003702   \n",
       "District_MISSION              -0.000289           0.002056   \n",
       "District_NORTHERN              0.000877          -0.004193   \n",
       "...                                 ...                ...   \n",
       "DayOfWeek_Sunday              -0.159543          -0.159489   \n",
       "DayOfWeek_Thursday             1.000000          -0.165994   \n",
       "DayOfWeek_Tuesday             -0.165994           1.000000   \n",
       "DayOfWeek_Wednesday           -0.169269          -0.169211   \n",
       "LARCENY/THEFT                 -0.004011          -0.007631   \n",
       "\n",
       "                     DayOfWeek_Wednesday  LARCENY/THEFT  \n",
       "District_BAYVIEW                0.003333      -0.072548  \n",
       "District_CENTRAL               -0.008992       0.077320  \n",
       "District_INGLESIDE              0.000499      -0.054552  \n",
       "District_MISSION                0.000671      -0.047016  \n",
       "District_NORTHERN              -0.002356       0.067200  \n",
       "...                                  ...            ...  \n",
       "DayOfWeek_Sunday               -0.162635       0.007584  \n",
       "DayOfWeek_Thursday             -0.169269      -0.004011  \n",
       "DayOfWeek_Tuesday              -0.169211      -0.007631  \n",
       "DayOfWeek_Wednesday             1.000000      -0.010068  \n",
       "LARCENY/THEFT                  -0.010068       1.000000  \n",
       "\n",
       "[18 rows x 18 columns]"
      ]
     },
     "execution_count": 92,
     "metadata": {},
     "output_type": "execute_result"
    }
   ],
   "source": [
    "#df.drop(['X', 'Y'], axis = 1).corr()"
   ]
  },
  {
   "cell_type": "code",
   "execution_count": null,
   "metadata": {
    "collapsed": true
   },
   "outputs": [],
   "source": []
  }
 ],
 "metadata": {
  "kernelspec": {
   "display_name": "Python 2",
   "language": "python",
   "name": "python2"
  },
  "language_info": {
   "codemirror_mode": {
    "name": "ipython",
    "version": 2
   },
   "file_extension": ".py",
   "mimetype": "text/x-python",
   "name": "python",
   "nbconvert_exporter": "python",
   "pygments_lexer": "ipython2",
   "version": "2.7.13"
  }
 },
 "nbformat": 4,
 "nbformat_minor": 2
}
