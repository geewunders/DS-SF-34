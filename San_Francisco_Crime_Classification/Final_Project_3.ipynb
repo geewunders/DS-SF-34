{
 "cells": [
  {
   "cell_type": "markdown",
   "metadata": {},
   "source": [
    "# Final Project"
   ]
  },
  {
   "cell_type": "markdown",
   "metadata": {},
   "source": [
    "## San Francisco Crime Classification"
   ]
  },
  {
   "cell_type": "markdown",
   "metadata": {},
   "source": [
    "### Project Problem and Hypothesis"
   ]
  },
  {
   "cell_type": "markdown",
   "metadata": {},
   "source": [
    "##### The following is an excerpt from Kaggle San Francisco Crime Classification: \n",
    "\n",
    "##### With rising wealth inequality, housing shortages, and a proliferation of expensive digital toys riding BART to work, there is no scarcity of crime in the city by the bay\n",
    "\n",
    "##### My overall summary:\n",
    "By using this dataset, predict the category of crime that will occur in the city on the test set. To keep this project manageable, I've reduced to the number of categories I'm allowed to predict: predict whether the crime will fall under \"Theft\", \"Assault\", \"Drug/Narcotic,\" or \"other\". An example of how this prediction  could help in the future is to allocate enough law enforcement at the right place and right time to prevent the three classifications. Through some feataure engineering, I'll keep the columns, \"X\", \"Y\", \"Year\", \"Month\", \"Day\",\"Hour\", and \"Minute\", and \"DayInNumber\". Finally, I will use random forests as suggested by Ivan as the variables are likely to not be linear. "
   ]
  },
  {
   "cell_type": "markdown",
   "metadata": {},
   "source": [
    "### Datasets\n",
    "\n",
    "Year - Year.\n",
    "\n",
    "Month - Month\n",
    "\n",
    "Day - Day of the month\n",
    "\n",
    "Hour - Hour of the day. For example, 20 will be 8 pm.\n",
    "\n",
    "Minute - Minute of the day. For example, 30 will the minute hand on a clock pointed at 6.\n",
    "\n",
    "X - Longitude\n",
    "\n",
    "Y - Latitude\n",
    "\n",
    "DayInNumber - The day of the week. 1 would be Sunday and 7 would be Saturday.\n",
    "\n",
    "All text columns were dropped because the RandomForestClassifier() function didn't like taking strings arguments."
   ]
  },
  {
   "cell_type": "markdown",
   "metadata": {},
   "source": [
    "### Domain knowledge\n",
    "\n",
    "Thankfully, if I google \"San Francisco Crime Classification github,\" there is a lot of work that has already been done on this, so I was leverage other ideas if I get stuck.\n",
    "    \n",
    "<b>Benchmark</b>: \n",
    "\n",
    "After doing some google searches, it looks like the best model for this classifier is from a decision tree, which we haven't covered yet in class. I read someone online that someone got a rank of 1149 with a score of 2.64. I'm not sure what this means, I'm I am adding this comment as part of the document writeup."
   ]
  },
  {
   "cell_type": "markdown",
   "metadata": {},
   "source": [
    "### Project Concerns\n",
    "\n",
    "I'm not sure where to start. I plan on working with the same model my group had used for the class assignment, titantic, and work from there to see what can be done. I'm also reading from other folks who used predictive models that we haven't covered yet in class. Some of these include Naïve Bayes and decision trees. While there are other models out there that were used for this dataset, I'd like to stick with materials we learned in class as much as possible even if that would lead to a weaker model. I need help determining what would be the best route. \n",
    "\n",
    "I don't what to do with X and Y variables, although I think they're important to keep.\n",
    "\n",
    "<b>Assumptions</b>: \n",
    "\n",
    "The only high level assumption I can think of for this is that the data entered is as accurate as possible. \n",
    "\n",
    "<b>Data I wish I had</b>:\n",
    "\n",
    "It would be great to figure out how to create heat maps for this. I believe this can be done with the available coordinates, but I'm not sure how to do it.\n",
    "\n",
    "<b>Risks</b>:\n",
    "\n",
    "The only risk I can think of is whether or not the actual data entry is accurate. I think the risk is low.\n",
    "\n"
   ]
  },
  {
   "cell_type": "markdown",
   "metadata": {},
   "source": [
    "### Outcomes\n",
    "\n",
    "I'm hoping to train a training set, then test the model against the test set. My goal to get a good percentage of them predicted correctly. Given that I'm new to data science, I will try to keep my model as simple as possible using material from class. For me, success would be to come up with predictions utilizing class material. My best case sceanrio for success is a high score for predictions using class material.\n"
   ]
  },
  {
   "cell_type": "code",
   "execution_count": 196,
   "metadata": {
    "collapsed": false
   },
   "outputs": [],
   "source": [
    "import os\n",
    "\n",
    "import math\n",
    "\n",
    "import numpy as np\n",
    "import pandas as pd\n",
    "from datetime import datetime as dt\n",
    "pd.set_option('display.max_rows', 10)\n",
    "pd.set_option('display.notebook_repr_html', True)\n",
    "pd.set_option('display.max_columns', 12)\n",
    "\n",
    "from sklearn import linear_model, cross_validation, tree, ensemble, metrics, model_selection, externals\n",
    "import statsmodels.api as sm\n",
    "import statsmodels.formula.api as smf\n",
    "from sklearn.model_selection import GridSearchCV\n",
    "\n",
    "import matplotlib.pyplot as plt\n",
    "%matplotlib inline\n",
    "plt.style.use('ggplot')\n",
    "\n",
    "#take out x and y because it's probably not useful\n",
    "#probably use logisitic regression.\n",
    "#will go into decision trees so this might work.\n",
    "#You can plot x and y."
   ]
  },
  {
   "cell_type": "code",
   "execution_count": 197,
   "metadata": {
    "collapsed": false
   },
   "outputs": [],
   "source": [
    "df = pd.read_csv(\"train.csv\")"
   ]
  },
  {
   "cell_type": "code",
   "execution_count": 198,
   "metadata": {
    "collapsed": false
   },
   "outputs": [
    {
     "data": {
      "text/html": [
       "<div>\n",
       "<table border=\"1\" class=\"dataframe\">\n",
       "  <thead>\n",
       "    <tr style=\"text-align: right;\">\n",
       "      <th></th>\n",
       "      <th>Dates</th>\n",
       "      <th>Category</th>\n",
       "      <th>Descript</th>\n",
       "      <th>DayOfWeek</th>\n",
       "      <th>PdDistrict</th>\n",
       "      <th>Resolution</th>\n",
       "      <th>Address</th>\n",
       "      <th>X</th>\n",
       "      <th>Y</th>\n",
       "    </tr>\n",
       "  </thead>\n",
       "  <tbody>\n",
       "    <tr>\n",
       "      <th>0</th>\n",
       "      <td>2015-05-13 23:53:00</td>\n",
       "      <td>WARRANTS</td>\n",
       "      <td>WARRANT ARREST</td>\n",
       "      <td>Wednesday</td>\n",
       "      <td>NORTHERN</td>\n",
       "      <td>ARREST, BOOKED</td>\n",
       "      <td>OAK ST / LAGUNA ST</td>\n",
       "      <td>-122.425892</td>\n",
       "      <td>37.774599</td>\n",
       "    </tr>\n",
       "    <tr>\n",
       "      <th>1</th>\n",
       "      <td>2015-05-13 23:53:00</td>\n",
       "      <td>OTHER OFFENSES</td>\n",
       "      <td>TRAFFIC VIOLATION ARREST</td>\n",
       "      <td>Wednesday</td>\n",
       "      <td>NORTHERN</td>\n",
       "      <td>ARREST, BOOKED</td>\n",
       "      <td>OAK ST / LAGUNA ST</td>\n",
       "      <td>-122.425892</td>\n",
       "      <td>37.774599</td>\n",
       "    </tr>\n",
       "    <tr>\n",
       "      <th>2</th>\n",
       "      <td>2015-05-13 23:33:00</td>\n",
       "      <td>OTHER OFFENSES</td>\n",
       "      <td>TRAFFIC VIOLATION ARREST</td>\n",
       "      <td>Wednesday</td>\n",
       "      <td>NORTHERN</td>\n",
       "      <td>ARREST, BOOKED</td>\n",
       "      <td>VANNESS AV / GREENWICH ST</td>\n",
       "      <td>-122.424363</td>\n",
       "      <td>37.800414</td>\n",
       "    </tr>\n",
       "    <tr>\n",
       "      <th>3</th>\n",
       "      <td>2015-05-13 23:30:00</td>\n",
       "      <td>LARCENY/THEFT</td>\n",
       "      <td>GRAND THEFT FROM LOCKED AUTO</td>\n",
       "      <td>Wednesday</td>\n",
       "      <td>NORTHERN</td>\n",
       "      <td>NONE</td>\n",
       "      <td>1500 Block of LOMBARD ST</td>\n",
       "      <td>-122.426995</td>\n",
       "      <td>37.800873</td>\n",
       "    </tr>\n",
       "    <tr>\n",
       "      <th>4</th>\n",
       "      <td>2015-05-13 23:30:00</td>\n",
       "      <td>LARCENY/THEFT</td>\n",
       "      <td>GRAND THEFT FROM LOCKED AUTO</td>\n",
       "      <td>Wednesday</td>\n",
       "      <td>PARK</td>\n",
       "      <td>NONE</td>\n",
       "      <td>100 Block of BRODERICK ST</td>\n",
       "      <td>-122.438738</td>\n",
       "      <td>37.771541</td>\n",
       "    </tr>\n",
       "    <tr>\n",
       "      <th>...</th>\n",
       "      <td>...</td>\n",
       "      <td>...</td>\n",
       "      <td>...</td>\n",
       "      <td>...</td>\n",
       "      <td>...</td>\n",
       "      <td>...</td>\n",
       "      <td>...</td>\n",
       "      <td>...</td>\n",
       "      <td>...</td>\n",
       "    </tr>\n",
       "    <tr>\n",
       "      <th>878044</th>\n",
       "      <td>2003-01-06 00:15:00</td>\n",
       "      <td>ROBBERY</td>\n",
       "      <td>ROBBERY ON THE STREET WITH A GUN</td>\n",
       "      <td>Monday</td>\n",
       "      <td>TARAVAL</td>\n",
       "      <td>NONE</td>\n",
       "      <td>FARALLONES ST / CAPITOL AV</td>\n",
       "      <td>-122.459033</td>\n",
       "      <td>37.714056</td>\n",
       "    </tr>\n",
       "    <tr>\n",
       "      <th>878045</th>\n",
       "      <td>2003-01-06 00:01:00</td>\n",
       "      <td>LARCENY/THEFT</td>\n",
       "      <td>GRAND THEFT FROM LOCKED AUTO</td>\n",
       "      <td>Monday</td>\n",
       "      <td>INGLESIDE</td>\n",
       "      <td>NONE</td>\n",
       "      <td>600 Block of EDNA ST</td>\n",
       "      <td>-122.447364</td>\n",
       "      <td>37.731948</td>\n",
       "    </tr>\n",
       "    <tr>\n",
       "      <th>878046</th>\n",
       "      <td>2003-01-06 00:01:00</td>\n",
       "      <td>LARCENY/THEFT</td>\n",
       "      <td>GRAND THEFT FROM LOCKED AUTO</td>\n",
       "      <td>Monday</td>\n",
       "      <td>SOUTHERN</td>\n",
       "      <td>NONE</td>\n",
       "      <td>5TH ST / FOLSOM ST</td>\n",
       "      <td>-122.403390</td>\n",
       "      <td>37.780266</td>\n",
       "    </tr>\n",
       "    <tr>\n",
       "      <th>878047</th>\n",
       "      <td>2003-01-06 00:01:00</td>\n",
       "      <td>VANDALISM</td>\n",
       "      <td>MALICIOUS MISCHIEF, VANDALISM OF VEHICLES</td>\n",
       "      <td>Monday</td>\n",
       "      <td>SOUTHERN</td>\n",
       "      <td>NONE</td>\n",
       "      <td>TOWNSEND ST / 2ND ST</td>\n",
       "      <td>-122.390531</td>\n",
       "      <td>37.780607</td>\n",
       "    </tr>\n",
       "    <tr>\n",
       "      <th>878048</th>\n",
       "      <td>2003-01-06 00:01:00</td>\n",
       "      <td>FORGERY/COUNTERFEITING</td>\n",
       "      <td>CHECKS, FORGERY (FELONY)</td>\n",
       "      <td>Monday</td>\n",
       "      <td>BAYVIEW</td>\n",
       "      <td>NONE</td>\n",
       "      <td>1800 Block of NEWCOMB AV</td>\n",
       "      <td>-122.394926</td>\n",
       "      <td>37.738212</td>\n",
       "    </tr>\n",
       "  </tbody>\n",
       "</table>\n",
       "<p>878049 rows × 9 columns</p>\n",
       "</div>"
      ],
      "text/plain": [
       "                      Dates                Category  \\\n",
       "0       2015-05-13 23:53:00                WARRANTS   \n",
       "1       2015-05-13 23:53:00          OTHER OFFENSES   \n",
       "2       2015-05-13 23:33:00          OTHER OFFENSES   \n",
       "3       2015-05-13 23:30:00           LARCENY/THEFT   \n",
       "4       2015-05-13 23:30:00           LARCENY/THEFT   \n",
       "...                     ...                     ...   \n",
       "878044  2003-01-06 00:15:00                 ROBBERY   \n",
       "878045  2003-01-06 00:01:00           LARCENY/THEFT   \n",
       "878046  2003-01-06 00:01:00           LARCENY/THEFT   \n",
       "878047  2003-01-06 00:01:00               VANDALISM   \n",
       "878048  2003-01-06 00:01:00  FORGERY/COUNTERFEITING   \n",
       "\n",
       "                                         Descript  DayOfWeek PdDistrict  \\\n",
       "0                                  WARRANT ARREST  Wednesday   NORTHERN   \n",
       "1                        TRAFFIC VIOLATION ARREST  Wednesday   NORTHERN   \n",
       "2                        TRAFFIC VIOLATION ARREST  Wednesday   NORTHERN   \n",
       "3                    GRAND THEFT FROM LOCKED AUTO  Wednesday   NORTHERN   \n",
       "4                    GRAND THEFT FROM LOCKED AUTO  Wednesday       PARK   \n",
       "...                                           ...        ...        ...   \n",
       "878044           ROBBERY ON THE STREET WITH A GUN     Monday    TARAVAL   \n",
       "878045               GRAND THEFT FROM LOCKED AUTO     Monday  INGLESIDE   \n",
       "878046               GRAND THEFT FROM LOCKED AUTO     Monday   SOUTHERN   \n",
       "878047  MALICIOUS MISCHIEF, VANDALISM OF VEHICLES     Monday   SOUTHERN   \n",
       "878048                   CHECKS, FORGERY (FELONY)     Monday    BAYVIEW   \n",
       "\n",
       "            Resolution                     Address           X          Y  \n",
       "0       ARREST, BOOKED          OAK ST / LAGUNA ST -122.425892  37.774599  \n",
       "1       ARREST, BOOKED          OAK ST / LAGUNA ST -122.425892  37.774599  \n",
       "2       ARREST, BOOKED   VANNESS AV / GREENWICH ST -122.424363  37.800414  \n",
       "3                 NONE    1500 Block of LOMBARD ST -122.426995  37.800873  \n",
       "4                 NONE   100 Block of BRODERICK ST -122.438738  37.771541  \n",
       "...                ...                         ...         ...        ...  \n",
       "878044            NONE  FARALLONES ST / CAPITOL AV -122.459033  37.714056  \n",
       "878045            NONE        600 Block of EDNA ST -122.447364  37.731948  \n",
       "878046            NONE          5TH ST / FOLSOM ST -122.403390  37.780266  \n",
       "878047            NONE        TOWNSEND ST / 2ND ST -122.390531  37.780607  \n",
       "878048            NONE    1800 Block of NEWCOMB AV -122.394926  37.738212  \n",
       "\n",
       "[878049 rows x 9 columns]"
      ]
     },
     "execution_count": 198,
     "metadata": {},
     "output_type": "execute_result"
    }
   ],
   "source": [
    "df"
   ]
  },
  {
   "cell_type": "markdown",
   "metadata": {},
   "source": [
    "### Exploratory analysis"
   ]
  },
  {
   "cell_type": "code",
   "execution_count": 199,
   "metadata": {
    "collapsed": false
   },
   "outputs": [
    {
     "data": {
      "text/plain": [
       "800 Block of BRYANT ST      26533\n",
       "800 Block of MARKET ST       6581\n",
       "2000 Block of MISSION ST     5097\n",
       "1000 Block of POTRERO AV     4063\n",
       "900 Block of MARKET ST       3251\n",
       "                            ...  \n",
       "2600 Block of TARAVAL ST        1\n",
       "0 Block of PALOALTO AV          1\n",
       "ALEMANY BL / RAMSELL ST         1\n",
       "2800 Block of MARKET ST         1\n",
       "KRAMER PL / GREENWICH ST        1\n",
       "Name: Address, dtype: int64"
      ]
     },
     "execution_count": 199,
     "metadata": {},
     "output_type": "execute_result"
    }
   ],
   "source": [
    "df.Address.value_counts() #count the number of times an address occurs.\n",
    "# Most crime occurs on Bryant ST"
   ]
  },
  {
   "cell_type": "code",
   "execution_count": 200,
   "metadata": {
    "collapsed": false
   },
   "outputs": [
    {
     "data": {
      "text/plain": [
       "Index([u'Dates', u'Category', u'Descript', u'DayOfWeek', u'PdDistrict',\n",
       "       u'Resolution', u'Address', u'X', u'Y'],\n",
       "      dtype='object')"
      ]
     },
     "execution_count": 200,
     "metadata": {},
     "output_type": "execute_result"
    }
   ],
   "source": [
    "df.columns # see all features"
   ]
  },
  {
   "cell_type": "code",
   "execution_count": 201,
   "metadata": {
    "collapsed": false
   },
   "outputs": [
    {
     "data": {
      "text/plain": [
       "array(['ARREST, BOOKED', 'NONE', 'ARREST, CITED', 'PSYCHOPATHIC CASE',\n",
       "       'JUVENILE BOOKED', 'UNFOUNDED', 'EXCEPTIONAL CLEARANCE', 'LOCATED',\n",
       "       'CLEARED-CONTACT JUVENILE FOR MORE INFO', 'NOT PROSECUTED',\n",
       "       'JUVENILE DIVERTED', 'COMPLAINANT REFUSES TO PROSECUTE',\n",
       "       'JUVENILE ADMONISHED', 'JUVENILE CITED',\n",
       "       'DISTRICT ATTORNEY REFUSES TO PROSECUTE',\n",
       "       'PROSECUTED BY OUTSIDE AGENCY', 'PROSECUTED FOR LESSER OFFENSE'], dtype=object)"
      ]
     },
     "execution_count": 201,
     "metadata": {},
     "output_type": "execute_result"
    }
   ],
   "source": [
    "df.Resolution.unique() # see all unique resolutions "
   ]
  },
  {
   "cell_type": "code",
   "execution_count": 202,
   "metadata": {
    "collapsed": false
   },
   "outputs": [
    {
     "data": {
      "text/plain": [
       "array(['WARRANTS', 'OTHER OFFENSES', 'LARCENY/THEFT', 'VEHICLE THEFT',\n",
       "       'VANDALISM', 'NON-CRIMINAL', 'ROBBERY', 'ASSAULT', 'WEAPON LAWS',\n",
       "       'BURGLARY', 'SUSPICIOUS OCC', 'DRUNKENNESS',\n",
       "       'FORGERY/COUNTERFEITING', 'DRUG/NARCOTIC', 'STOLEN PROPERTY',\n",
       "       'SECONDARY CODES', 'TRESPASS', 'MISSING PERSON', 'FRAUD',\n",
       "       'KIDNAPPING', 'RUNAWAY', 'DRIVING UNDER THE INFLUENCE',\n",
       "       'SEX OFFENSES FORCIBLE', 'PROSTITUTION', 'DISORDERLY CONDUCT',\n",
       "       'ARSON', 'FAMILY OFFENSES', 'LIQUOR LAWS', 'BRIBERY',\n",
       "       'EMBEZZLEMENT', 'SUICIDE', 'LOITERING', 'SEX OFFENSES NON FORCIBLE',\n",
       "       'EXTORTION', 'GAMBLING', 'BAD CHECKS', 'TREA', 'RECOVERED VEHICLE',\n",
       "       'PORNOGRAPHY/OBSCENE MAT'], dtype=object)"
      ]
     },
     "execution_count": 202,
     "metadata": {},
     "output_type": "execute_result"
    }
   ],
   "source": [
    "df.Category.unique() # see all unique categories of crimes "
   ]
  },
  {
   "cell_type": "code",
   "execution_count": 203,
   "metadata": {
    "collapsed": false
   },
   "outputs": [
    {
     "data": {
      "text/plain": [
       "LARCENY/THEFT                174900\n",
       "OTHER OFFENSES               126182\n",
       "NON-CRIMINAL                  92304\n",
       "ASSAULT                       76876\n",
       "DRUG/NARCOTIC                 53971\n",
       "                              ...  \n",
       "EXTORTION                       256\n",
       "SEX OFFENSES NON FORCIBLE       148\n",
       "GAMBLING                        146\n",
       "PORNOGRAPHY/OBSCENE MAT          22\n",
       "TREA                              6\n",
       "Name: Category, dtype: int64"
      ]
     },
     "execution_count": 203,
     "metadata": {},
     "output_type": "execute_result"
    }
   ],
   "source": [
    "df.Category.value_counts() # see 5 most popular crimes"
   ]
  },
  {
   "cell_type": "code",
   "execution_count": 204,
   "metadata": {
    "collapsed": true
   },
   "outputs": [],
   "source": [
    "df = df.drop(['Descript'], axis = 1) # drop Descript column"
   ]
  },
  {
   "cell_type": "code",
   "execution_count": 205,
   "metadata": {
    "collapsed": false
   },
   "outputs": [
    {
     "data": {
      "text/plain": [
       "['NORTHERN',\n",
       " 'PARK',\n",
       " 'INGLESIDE',\n",
       " 'BAYVIEW',\n",
       " 'RICHMOND',\n",
       " 'CENTRAL',\n",
       " 'TARAVAL',\n",
       " 'TENDERLOIN',\n",
       " 'MISSION',\n",
       " 'SOUTHERN']"
      ]
     },
     "execution_count": 205,
     "metadata": {},
     "output_type": "execute_result"
    }
   ],
   "source": [
    "df.PdDistrict.unique().tolist() # show all unique districts"
   ]
  },
  {
   "cell_type": "code",
   "execution_count": 206,
   "metadata": {
    "collapsed": false
   },
   "outputs": [
    {
     "data": {
      "text/html": [
       "<div>\n",
       "<table border=\"1\" class=\"dataframe\">\n",
       "  <thead>\n",
       "    <tr style=\"text-align: right;\">\n",
       "      <th></th>\n",
       "      <th>Dates</th>\n",
       "      <th>Category</th>\n",
       "      <th>DayOfWeek</th>\n",
       "      <th>PdDistrict</th>\n",
       "      <th>Resolution</th>\n",
       "      <th>Address</th>\n",
       "      <th>X</th>\n",
       "      <th>Y</th>\n",
       "    </tr>\n",
       "  </thead>\n",
       "  <tbody>\n",
       "    <tr>\n",
       "      <th>0</th>\n",
       "      <td>2015-05-13 23:53:00</td>\n",
       "      <td>WARRANTS</td>\n",
       "      <td>Wednesday</td>\n",
       "      <td>NORTHERN</td>\n",
       "      <td>ARREST, BOOKED</td>\n",
       "      <td>OAK ST / LAGUNA ST</td>\n",
       "      <td>-122.425892</td>\n",
       "      <td>37.774599</td>\n",
       "    </tr>\n",
       "    <tr>\n",
       "      <th>1</th>\n",
       "      <td>2015-05-13 23:53:00</td>\n",
       "      <td>OTHER OFFENSES</td>\n",
       "      <td>Wednesday</td>\n",
       "      <td>NORTHERN</td>\n",
       "      <td>ARREST, BOOKED</td>\n",
       "      <td>OAK ST / LAGUNA ST</td>\n",
       "      <td>-122.425892</td>\n",
       "      <td>37.774599</td>\n",
       "    </tr>\n",
       "    <tr>\n",
       "      <th>2</th>\n",
       "      <td>2015-05-13 23:33:00</td>\n",
       "      <td>OTHER OFFENSES</td>\n",
       "      <td>Wednesday</td>\n",
       "      <td>NORTHERN</td>\n",
       "      <td>ARREST, BOOKED</td>\n",
       "      <td>VANNESS AV / GREENWICH ST</td>\n",
       "      <td>-122.424363</td>\n",
       "      <td>37.800414</td>\n",
       "    </tr>\n",
       "    <tr>\n",
       "      <th>3</th>\n",
       "      <td>2015-05-13 23:30:00</td>\n",
       "      <td>LARCENY/THEFT</td>\n",
       "      <td>Wednesday</td>\n",
       "      <td>NORTHERN</td>\n",
       "      <td>NONE</td>\n",
       "      <td>1500 Block of LOMBARD ST</td>\n",
       "      <td>-122.426995</td>\n",
       "      <td>37.800873</td>\n",
       "    </tr>\n",
       "    <tr>\n",
       "      <th>4</th>\n",
       "      <td>2015-05-13 23:30:00</td>\n",
       "      <td>LARCENY/THEFT</td>\n",
       "      <td>Wednesday</td>\n",
       "      <td>PARK</td>\n",
       "      <td>NONE</td>\n",
       "      <td>100 Block of BRODERICK ST</td>\n",
       "      <td>-122.438738</td>\n",
       "      <td>37.771541</td>\n",
       "    </tr>\n",
       "  </tbody>\n",
       "</table>\n",
       "</div>"
      ],
      "text/plain": [
       "                 Dates        Category  DayOfWeek PdDistrict      Resolution  \\\n",
       "0  2015-05-13 23:53:00        WARRANTS  Wednesday   NORTHERN  ARREST, BOOKED   \n",
       "1  2015-05-13 23:53:00  OTHER OFFENSES  Wednesday   NORTHERN  ARREST, BOOKED   \n",
       "2  2015-05-13 23:33:00  OTHER OFFENSES  Wednesday   NORTHERN  ARREST, BOOKED   \n",
       "3  2015-05-13 23:30:00   LARCENY/THEFT  Wednesday   NORTHERN            NONE   \n",
       "4  2015-05-13 23:30:00   LARCENY/THEFT  Wednesday       PARK            NONE   \n",
       "\n",
       "                     Address           X          Y  \n",
       "0         OAK ST / LAGUNA ST -122.425892  37.774599  \n",
       "1         OAK ST / LAGUNA ST -122.425892  37.774599  \n",
       "2  VANNESS AV / GREENWICH ST -122.424363  37.800414  \n",
       "3   1500 Block of LOMBARD ST -122.426995  37.800873  \n",
       "4  100 Block of BRODERICK ST -122.438738  37.771541  "
      ]
     },
     "execution_count": 206,
     "metadata": {},
     "output_type": "execute_result"
    }
   ],
   "source": [
    "df.head()"
   ]
  },
  {
   "cell_type": "code",
   "execution_count": 207,
   "metadata": {
    "collapsed": false
   },
   "outputs": [
    {
     "name": "stdout",
     "output_type": "stream",
     "text": [
      "2017-06-25 13:23:51.083738\n"
     ]
    },
    {
     "data": {
      "text/plain": [
       "'2017-06-25_13:23:51.083664'"
      ]
     },
     "execution_count": 207,
     "metadata": {},
     "output_type": "execute_result"
    }
   ],
   "source": [
    "#testing out daytime package. Run the time right now.\n",
    "now = dt.now().strftime(\"%Y-%m-%d_%H:%M:%S.%f\")\n",
    "\n",
    "print dt.now()\n",
    "\n",
    "now"
   ]
  },
  {
   "cell_type": "code",
   "execution_count": 208,
   "metadata": {
    "collapsed": true
   },
   "outputs": [],
   "source": [
    "df['Dates'] = pd.to_datetime(df['Dates']) # Convert original Date column to correct type to use striftime below"
   ]
  },
  {
   "cell_type": "code",
   "execution_count": 209,
   "metadata": {
    "collapsed": false
   },
   "outputs": [],
   "source": [
    "#df['Dates2'] = df['Dates'].map(lambda x: x.strftime('%Y-%m-%d')) this code works\n",
    "df['Year'] = df['Dates'].map(lambda x: x.strftime('%Y'))"
   ]
  },
  {
   "cell_type": "code",
   "execution_count": 210,
   "metadata": {
    "collapsed": false
   },
   "outputs": [],
   "source": [
    "df['Month'] = df['Dates'].map(lambda x: x.strftime('%m'))\n",
    "df['Day'] = df['Dates'].map(lambda x: x.strftime('%d'))\n",
    "df['Hour'] = df['Dates'].map(lambda x: x.strftime('%H'))\n",
    "df['Minute'] = df['Dates'].map(lambda x: x.strftime('%M'))\n"
   ]
  },
  {
   "cell_type": "code",
   "execution_count": 211,
   "metadata": {
    "collapsed": false
   },
   "outputs": [
    {
     "data": {
      "text/plain": [
       "['WARRANTS',\n",
       " 'OTHER OFFENSES',\n",
       " 'LARCENY/THEFT',\n",
       " 'VEHICLE THEFT',\n",
       " 'VANDALISM',\n",
       " 'NON-CRIMINAL',\n",
       " 'ROBBERY',\n",
       " 'ASSAULT',\n",
       " 'WEAPON LAWS',\n",
       " 'BURGLARY',\n",
       " 'SUSPICIOUS OCC',\n",
       " 'DRUNKENNESS',\n",
       " 'FORGERY/COUNTERFEITING',\n",
       " 'DRUG/NARCOTIC',\n",
       " 'STOLEN PROPERTY',\n",
       " 'SECONDARY CODES',\n",
       " 'TRESPASS',\n",
       " 'MISSING PERSON',\n",
       " 'FRAUD',\n",
       " 'KIDNAPPING',\n",
       " 'RUNAWAY',\n",
       " 'DRIVING UNDER THE INFLUENCE',\n",
       " 'SEX OFFENSES FORCIBLE',\n",
       " 'PROSTITUTION',\n",
       " 'DISORDERLY CONDUCT',\n",
       " 'ARSON',\n",
       " 'FAMILY OFFENSES',\n",
       " 'LIQUOR LAWS',\n",
       " 'BRIBERY',\n",
       " 'EMBEZZLEMENT',\n",
       " 'SUICIDE',\n",
       " 'LOITERING',\n",
       " 'SEX OFFENSES NON FORCIBLE',\n",
       " 'EXTORTION',\n",
       " 'GAMBLING',\n",
       " 'BAD CHECKS',\n",
       " 'TREA',\n",
       " 'RECOVERED VEHICLE',\n",
       " 'PORNOGRAPHY/OBSCENE MAT']"
      ]
     },
     "execution_count": 211,
     "metadata": {},
     "output_type": "execute_result"
    }
   ],
   "source": [
    "df.Category.unique().tolist() # show all unique Categories"
   ]
  },
  {
   "cell_type": "code",
   "execution_count": 212,
   "metadata": {
    "collapsed": false
   },
   "outputs": [],
   "source": [
    "#recategorize boarder categories\n",
    "\n",
    "#df['HighLevelCategory'] = df.Category.apply(lambda NameOfCategory:\"Theft\" if NameOfCategory ==\"LARCENY/THEFT\" else \"Other\")\n",
    "\n",
    "#df['HighLevelCategory'] = df.Category.apply(lambda NameOfCategory:\"Theft\" \n",
    "                                            #if NameOfCategory ==\"LARCENY/THEFT\" or NameOfCategory == \"VEHICLE THEFT\" or NameOfCategory == \"BURGLARY\" or NameOfCategory == \"STOLEN PROPERTY\" or NameOfCategory == \"Fraud\" \n",
    "                                            #else \"Other\")\n",
    "\n",
    "#df['HighLevelCategory'] = df.Category.apply(lambda NameOfCategory:\"Theft\" \n",
    "                                           # if NameOfCategory ==\"LARCENY/THEFT\" or NameOfCategory == \"VEHICLE THEFT\" or NameOfCategory == \"BURGLARY\" or NameOfCategory == \"STOLEN PROPERTY\" or NameOfCategory == \"Fraud\" \n",
    "                                            #else (\"ASSAULT\" if NameOfCategory == \"ASSAULT\" else (\"NARCOTIC\" if NameOfCategory == \"NARCOTIC\" else \"Other\")))\n",
    "        \n",
    "def category_to_high_level(Category):\n",
    "    if Category in [\"LARCENY/THEFT\", \"VEHICLE THEFT\", \"BURGLARY\", \"STOLEN PROPERTY\", \"FRAUD\"]:\n",
    "       return \"Theft\"\n",
    "    elif Category in [\"ASSAULT\"]:\n",
    "       return \"Assault\"\n",
    "    elif Category in [\"DRUG/NARCOTIC\"]:\n",
    "       return \"Drug/Narcotic\"               \n",
    "    else:\n",
    "       return \"Other\"\n",
    "                    \n",
    "df['HighLevelCategory'] = df.Category.apply(category_to_high_level)\n",
    "\n",
    "def DayOfWeek_to_numbers(week):\n",
    "    if week in [\"Sunday\"]:\n",
    "       return \"1\"\n",
    "    elif week in [\"Monday\"]:\n",
    "       return \"2\"\n",
    "    elif week in [\"Tuesday\"]:\n",
    "       return \"3\"\n",
    "    elif week in [\"Wednesday\"]:\n",
    "       return \"4\"\n",
    "    elif week in [\"Thursday\"]:\n",
    "       return \"5\"\n",
    "    elif week in [\"Friday\"]:\n",
    "       return \"6\"             \n",
    "    else:\n",
    "       return \"7\"\n",
    "                    \n",
    "df['DayInNumber'] = df.DayOfWeek.apply(DayOfWeek_to_numbers)\n",
    "\n"
   ]
  },
  {
   "cell_type": "code",
   "execution_count": 213,
   "metadata": {
    "collapsed": false
   },
   "outputs": [
    {
     "data": {
      "text/plain": [
       "['Other', 'Theft', 'Assault', 'Drug/Narcotic']"
      ]
     },
     "execution_count": 213,
     "metadata": {},
     "output_type": "execute_result"
    }
   ],
   "source": [
    "df.HighLevelCategory.unique().tolist() #check"
   ]
  },
  {
   "cell_type": "code",
   "execution_count": 214,
   "metadata": {
    "collapsed": false
   },
   "outputs": [
    {
     "data": {
      "text/plain": [
       "['4', '3', '2', '1', '7', '6', '5']"
      ]
     },
     "execution_count": 214,
     "metadata": {},
     "output_type": "execute_result"
    }
   ],
   "source": [
    "df.DayInNumber.unique().tolist() #check"
   ]
  },
  {
   "cell_type": "code",
   "execution_count": 215,
   "metadata": {
    "collapsed": false
   },
   "outputs": [
    {
     "data": {
      "text/plain": [
       "Other            460547\n",
       "Theft            286655\n",
       "Assault           76876\n",
       "Drug/Narcotic     53971\n",
       "Name: HighLevelCategory, dtype: int64"
      ]
     },
     "execution_count": 215,
     "metadata": {},
     "output_type": "execute_result"
    }
   ],
   "source": [
    "df.HighLevelCategory.value_counts()"
   ]
  },
  {
   "cell_type": "code",
   "execution_count": 216,
   "metadata": {
    "collapsed": false
   },
   "outputs": [
    {
     "data": {
      "text/html": [
       "<div>\n",
       "<table border=\"1\" class=\"dataframe\">\n",
       "  <thead>\n",
       "    <tr style=\"text-align: right;\">\n",
       "      <th></th>\n",
       "      <th>X</th>\n",
       "      <th>Y</th>\n",
       "      <th>Year</th>\n",
       "      <th>Month</th>\n",
       "      <th>Day</th>\n",
       "      <th>Hour</th>\n",
       "      <th>Minute</th>\n",
       "      <th>DayInNumber</th>\n",
       "    </tr>\n",
       "  </thead>\n",
       "  <tbody>\n",
       "    <tr>\n",
       "      <th>0</th>\n",
       "      <td>-122.425892</td>\n",
       "      <td>37.774599</td>\n",
       "      <td>2015</td>\n",
       "      <td>05</td>\n",
       "      <td>13</td>\n",
       "      <td>23</td>\n",
       "      <td>53</td>\n",
       "      <td>4</td>\n",
       "    </tr>\n",
       "    <tr>\n",
       "      <th>1</th>\n",
       "      <td>-122.425892</td>\n",
       "      <td>37.774599</td>\n",
       "      <td>2015</td>\n",
       "      <td>05</td>\n",
       "      <td>13</td>\n",
       "      <td>23</td>\n",
       "      <td>53</td>\n",
       "      <td>4</td>\n",
       "    </tr>\n",
       "    <tr>\n",
       "      <th>2</th>\n",
       "      <td>-122.424363</td>\n",
       "      <td>37.800414</td>\n",
       "      <td>2015</td>\n",
       "      <td>05</td>\n",
       "      <td>13</td>\n",
       "      <td>23</td>\n",
       "      <td>33</td>\n",
       "      <td>4</td>\n",
       "    </tr>\n",
       "    <tr>\n",
       "      <th>3</th>\n",
       "      <td>-122.426995</td>\n",
       "      <td>37.800873</td>\n",
       "      <td>2015</td>\n",
       "      <td>05</td>\n",
       "      <td>13</td>\n",
       "      <td>23</td>\n",
       "      <td>30</td>\n",
       "      <td>4</td>\n",
       "    </tr>\n",
       "    <tr>\n",
       "      <th>4</th>\n",
       "      <td>-122.438738</td>\n",
       "      <td>37.771541</td>\n",
       "      <td>2015</td>\n",
       "      <td>05</td>\n",
       "      <td>13</td>\n",
       "      <td>23</td>\n",
       "      <td>30</td>\n",
       "      <td>4</td>\n",
       "    </tr>\n",
       "    <tr>\n",
       "      <th>...</th>\n",
       "      <td>...</td>\n",
       "      <td>...</td>\n",
       "      <td>...</td>\n",
       "      <td>...</td>\n",
       "      <td>...</td>\n",
       "      <td>...</td>\n",
       "      <td>...</td>\n",
       "      <td>...</td>\n",
       "    </tr>\n",
       "    <tr>\n",
       "      <th>878044</th>\n",
       "      <td>-122.459033</td>\n",
       "      <td>37.714056</td>\n",
       "      <td>2003</td>\n",
       "      <td>01</td>\n",
       "      <td>06</td>\n",
       "      <td>00</td>\n",
       "      <td>15</td>\n",
       "      <td>2</td>\n",
       "    </tr>\n",
       "    <tr>\n",
       "      <th>878045</th>\n",
       "      <td>-122.447364</td>\n",
       "      <td>37.731948</td>\n",
       "      <td>2003</td>\n",
       "      <td>01</td>\n",
       "      <td>06</td>\n",
       "      <td>00</td>\n",
       "      <td>01</td>\n",
       "      <td>2</td>\n",
       "    </tr>\n",
       "    <tr>\n",
       "      <th>878046</th>\n",
       "      <td>-122.403390</td>\n",
       "      <td>37.780266</td>\n",
       "      <td>2003</td>\n",
       "      <td>01</td>\n",
       "      <td>06</td>\n",
       "      <td>00</td>\n",
       "      <td>01</td>\n",
       "      <td>2</td>\n",
       "    </tr>\n",
       "    <tr>\n",
       "      <th>878047</th>\n",
       "      <td>-122.390531</td>\n",
       "      <td>37.780607</td>\n",
       "      <td>2003</td>\n",
       "      <td>01</td>\n",
       "      <td>06</td>\n",
       "      <td>00</td>\n",
       "      <td>01</td>\n",
       "      <td>2</td>\n",
       "    </tr>\n",
       "    <tr>\n",
       "      <th>878048</th>\n",
       "      <td>-122.394926</td>\n",
       "      <td>37.738212</td>\n",
       "      <td>2003</td>\n",
       "      <td>01</td>\n",
       "      <td>06</td>\n",
       "      <td>00</td>\n",
       "      <td>01</td>\n",
       "      <td>2</td>\n",
       "    </tr>\n",
       "  </tbody>\n",
       "</table>\n",
       "<p>878049 rows × 8 columns</p>\n",
       "</div>"
      ],
      "text/plain": [
       "                 X          Y  Year Month Day Hour Minute DayInNumber\n",
       "0      -122.425892  37.774599  2015    05  13   23     53           4\n",
       "1      -122.425892  37.774599  2015    05  13   23     53           4\n",
       "2      -122.424363  37.800414  2015    05  13   23     33           4\n",
       "3      -122.426995  37.800873  2015    05  13   23     30           4\n",
       "4      -122.438738  37.771541  2015    05  13   23     30           4\n",
       "...            ...        ...   ...   ...  ..  ...    ...         ...\n",
       "878044 -122.459033  37.714056  2003    01  06   00     15           2\n",
       "878045 -122.447364  37.731948  2003    01  06   00     01           2\n",
       "878046 -122.403390  37.780266  2003    01  06   00     01           2\n",
       "878047 -122.390531  37.780607  2003    01  06   00     01           2\n",
       "878048 -122.394926  37.738212  2003    01  06   00     01           2\n",
       "\n",
       "[878049 rows x 8 columns]"
      ]
     },
     "execution_count": 216,
     "metadata": {},
     "output_type": "execute_result"
    }
   ],
   "source": [
    "X = df[df.columns.values]\n",
    "X.drop(['HighLevelCategory','Address','Category','DayOfWeek','PdDistrict','Resolution','Dates'], axis = 1, inplace = True) #dropped address because of model error RandomForestClassifier\n",
    "\n",
    "y = df.HighLevelCategory\n",
    "\n",
    "X"
   ]
  },
  {
   "cell_type": "code",
   "execution_count": 217,
   "metadata": {
    "collapsed": false
   },
   "outputs": [
    {
     "data": {
      "text/plain": [
       "0         Other\n",
       "1         Other\n",
       "2         Other\n",
       "3         Theft\n",
       "4         Theft\n",
       "          ...  \n",
       "878044    Other\n",
       "878045    Theft\n",
       "878046    Theft\n",
       "878047    Other\n",
       "878048    Other\n",
       "Name: HighLevelCategory, dtype: object"
      ]
     },
     "execution_count": 217,
     "metadata": {},
     "output_type": "execute_result"
    }
   ],
   "source": [
    "y"
   ]
  },
  {
   "cell_type": "markdown",
   "metadata": {},
   "source": [
    "### Split dataset into a training and testing sets (60%, 40%)"
   ]
  },
  {
   "cell_type": "code",
   "execution_count": 218,
   "metadata": {
    "collapsed": true
   },
   "outputs": [],
   "source": [
    "train_X, test_X, train_y, test_y = model_selection.train_test_split(X, y, train_size = .6, random_state = 0)\n"
   ]
  },
  {
   "cell_type": "code",
   "execution_count": 219,
   "metadata": {
    "collapsed": false
   },
   "outputs": [
    {
     "data": {
      "text/plain": [
       "GridSearchCV(cv=3, error_score='raise',\n",
       "       estimator=RandomForestClassifier(bootstrap=True, class_weight=None, criterion='gini',\n",
       "            max_depth=None, max_features='auto', max_leaf_nodes=None,\n",
       "            min_impurity_split=1e-07, min_samples_leaf=1,\n",
       "            min_samples_split=2, min_weight_fraction_leaf=0.0,\n",
       "            n_estimators=10, n_jobs=1, oob_score=False, random_state=None,\n",
       "            verbose=0, warm_start=False),\n",
       "       fit_params={}, iid=True, n_jobs=1,\n",
       "       param_grid={'n_estimators': [1, 10, 100], 'oob_score': [True, False], 'min_samples_leaf': [1, 5, 10]},\n",
       "       pre_dispatch='2*n_jobs', refit=True, return_train_score=True,\n",
       "       scoring=None, verbose=0)"
      ]
     },
     "execution_count": 219,
     "metadata": {},
     "output_type": "execute_result"
    }
   ],
   "source": [
    "model = ensemble.RandomForestClassifier()\n",
    "\n",
    "params = {\"n_estimators\": [1, 10, 100],\n",
    "          \"min_samples_leaf\": [1, 5, 10],\n",
    "          \"oob_score\": [True, False]}\n",
    "\n",
    "gs = GridSearchCV(model, params, cv = 3)\n",
    "\n",
    "gs.fit (train_X, train_y)\n",
    "\n",
    "#code above figures out best combinations\n"
   ]
  },
  {
   "cell_type": "code",
   "execution_count": 220,
   "metadata": {
    "collapsed": false
   },
   "outputs": [
    {
     "data": {
      "text/plain": [
       "{'min_samples_leaf': 5, 'n_estimators': 100, 'oob_score': False}"
      ]
     },
     "execution_count": 220,
     "metadata": {},
     "output_type": "execute_result"
    }
   ],
   "source": [
    "gs.best_params_ # this displays the best combinations"
   ]
  },
  {
   "cell_type": "code",
   "execution_count": 221,
   "metadata": {
    "collapsed": false
   },
   "outputs": [
    {
     "data": {
      "text/plain": [
       "RandomForestClassifier(bootstrap=True, class_weight=None, criterion='gini',\n",
       "            max_depth=None, max_features='auto', max_leaf_nodes=None,\n",
       "            min_impurity_split=1e-07, min_samples_leaf=5,\n",
       "            min_samples_split=2, min_weight_fraction_leaf=0.0,\n",
       "            n_estimators=100, n_jobs=1, oob_score=False, random_state=None,\n",
       "            verbose=0, warm_start=False)"
      ]
     },
     "execution_count": 221,
     "metadata": {},
     "output_type": "execute_result"
    }
   ],
   "source": [
    "best_forest = gs.best_estimator_ #this IS the best model. It's shorter version of Ivan's example.\n",
    "\n",
    "best_forest.fit(train_X, train_y) # reports the default parameters."
   ]
  },
  {
   "cell_type": "code",
   "execution_count": 222,
   "metadata": {
    "collapsed": true
   },
   "outputs": [],
   "source": [
    "train_y_hat1 = model_selection.cross_val_predict(best_forest, train_X, train_y, cv = 5) #remember that cross validation already does a .fit\n"
   ]
  },
  {
   "cell_type": "code",
   "execution_count": 223,
   "metadata": {
    "collapsed": false
   },
   "outputs": [
    {
     "data": {
      "text/html": [
       "<div>\n",
       "<table border=\"1\" class=\"dataframe\">\n",
       "  <thead>\n",
       "    <tr style=\"text-align: right;\">\n",
       "      <th>True Class</th>\n",
       "      <th>Assault</th>\n",
       "      <th>Drug/Narcotic</th>\n",
       "      <th>Other</th>\n",
       "      <th>Theft</th>\n",
       "    </tr>\n",
       "    <tr>\n",
       "      <th>Hypothesized Class</th>\n",
       "      <th></th>\n",
       "      <th></th>\n",
       "      <th></th>\n",
       "      <th></th>\n",
       "    </tr>\n",
       "  </thead>\n",
       "  <tbody>\n",
       "    <tr>\n",
       "      <th>Assault</th>\n",
       "      <td>153</td>\n",
       "      <td>4</td>\n",
       "      <td>260</td>\n",
       "      <td>12</td>\n",
       "    </tr>\n",
       "    <tr>\n",
       "      <th>Drug/Narcotic</th>\n",
       "      <td>148</td>\n",
       "      <td>3205</td>\n",
       "      <td>2946</td>\n",
       "      <td>128</td>\n",
       "    </tr>\n",
       "    <tr>\n",
       "      <th>Other</th>\n",
       "      <td>38685</td>\n",
       "      <td>27958</td>\n",
       "      <td>222475</td>\n",
       "      <td>82345</td>\n",
       "    </tr>\n",
       "    <tr>\n",
       "      <th>Theft</th>\n",
       "      <td>7011</td>\n",
       "      <td>1216</td>\n",
       "      <td>50307</td>\n",
       "      <td>89976</td>\n",
       "    </tr>\n",
       "  </tbody>\n",
       "</table>\n",
       "</div>"
      ],
      "text/plain": [
       "True Class          Assault  Drug/Narcotic   Other  Theft\n",
       "Hypothesized Class                                       \n",
       "Assault                 153              4     260     12\n",
       "Drug/Narcotic           148           3205    2946    128\n",
       "Other                 38685          27958  222475  82345\n",
       "Theft                  7011           1216   50307  89976"
      ]
     },
     "execution_count": 223,
     "metadata": {},
     "output_type": "execute_result"
    }
   ],
   "source": [
    "pd.crosstab(train_y_hat1, train_y, rownames = ['Hypothesized Class'], colnames = ['True Class'])"
   ]
  },
  {
   "cell_type": "code",
   "execution_count": 224,
   "metadata": {
    "collapsed": true
   },
   "outputs": [],
   "source": [
    "train_y_hat2 = best_forest.predict(train_X)"
   ]
  },
  {
   "cell_type": "code",
   "execution_count": 225,
   "metadata": {
    "collapsed": false
   },
   "outputs": [
    {
     "data": {
      "text/html": [
       "<div>\n",
       "<table border=\"1\" class=\"dataframe\">\n",
       "  <thead>\n",
       "    <tr style=\"text-align: right;\">\n",
       "      <th>True Class</th>\n",
       "      <th>Assault</th>\n",
       "      <th>Drug/Narcotic</th>\n",
       "      <th>Other</th>\n",
       "      <th>Theft</th>\n",
       "    </tr>\n",
       "    <tr>\n",
       "      <th>Hypothesized Class</th>\n",
       "      <th></th>\n",
       "      <th></th>\n",
       "      <th></th>\n",
       "      <th></th>\n",
       "    </tr>\n",
       "  </thead>\n",
       "  <tbody>\n",
       "    <tr>\n",
       "      <th>Assault</th>\n",
       "      <td>1881</td>\n",
       "      <td>9</td>\n",
       "      <td>62</td>\n",
       "      <td>19</td>\n",
       "    </tr>\n",
       "    <tr>\n",
       "      <th>Drug/Narcotic</th>\n",
       "      <td>151</td>\n",
       "      <td>9404</td>\n",
       "      <td>1002</td>\n",
       "      <td>136</td>\n",
       "    </tr>\n",
       "    <tr>\n",
       "      <th>Other</th>\n",
       "      <td>37306</td>\n",
       "      <td>21829</td>\n",
       "      <td>259630</td>\n",
       "      <td>37170</td>\n",
       "    </tr>\n",
       "    <tr>\n",
       "      <th>Theft</th>\n",
       "      <td>6659</td>\n",
       "      <td>1141</td>\n",
       "      <td>15294</td>\n",
       "      <td>135136</td>\n",
       "    </tr>\n",
       "  </tbody>\n",
       "</table>\n",
       "</div>"
      ],
      "text/plain": [
       "True Class          Assault  Drug/Narcotic   Other   Theft\n",
       "Hypothesized Class                                        \n",
       "Assault                1881              9      62      19\n",
       "Drug/Narcotic           151           9404    1002     136\n",
       "Other                 37306          21829  259630   37170\n",
       "Theft                  6659           1141   15294  135136"
      ]
     },
     "execution_count": 225,
     "metadata": {},
     "output_type": "execute_result"
    }
   ],
   "source": [
    "pd.crosstab(train_y_hat2, train_y, rownames = ['Hypothesized Class'], colnames = ['True Class'])"
   ]
  },
  {
   "cell_type": "code",
   "execution_count": 226,
   "metadata": {
    "collapsed": false
   },
   "outputs": [
    {
     "ename": "AttributeError",
     "evalue": "'RandomForestClassifier' object has no attribute 'oob_score_'",
     "output_type": "error",
     "traceback": [
      "\u001b[0;31m---------------------------------------------------------------------------\u001b[0m",
      "\u001b[0;31mAttributeError\u001b[0m                            Traceback (most recent call last)",
      "\u001b[0;32m<ipython-input-226-87b95faa2c67>\u001b[0m in \u001b[0;36m<module>\u001b[0;34m()\u001b[0m\n\u001b[0;32m----> 1\u001b[0;31m \u001b[0mbest_forest\u001b[0m\u001b[0;34m.\u001b[0m\u001b[0moob_score_\u001b[0m\u001b[0;34m\u001b[0m\u001b[0m\n\u001b[0m\u001b[1;32m      2\u001b[0m \u001b[0;31m#how well are you doing on training data you're not using on your bootstrap.\u001b[0m\u001b[0;34m\u001b[0m\u001b[0;34m\u001b[0m\u001b[0m\n",
      "\u001b[0;31mAttributeError\u001b[0m: 'RandomForestClassifier' object has no attribute 'oob_score_'"
     ]
    }
   ],
   "source": [
    "best_forest.oob_score_\n",
    "#how well are you doing on training data you're not using on your bootstrap."
   ]
  },
  {
   "cell_type": "markdown",
   "metadata": {},
   "source": [
    "### 5-fold cross-validation error on your training set"
   ]
  },
  {
   "cell_type": "code",
   "execution_count": 227,
   "metadata": {
    "collapsed": false
   },
   "outputs": [
    {
     "data": {
      "text/plain": [
       "0.59953988747778797"
      ]
     },
     "execution_count": 227,
     "metadata": {},
     "output_type": "execute_result"
    }
   ],
   "source": [
    "model_selection.cross_val_score(best_forest, train_X, train_y, cv = 5).mean()"
   ]
  },
  {
   "cell_type": "markdown",
   "metadata": {},
   "source": [
    "### Training Scores"
   ]
  },
  {
   "cell_type": "code",
   "execution_count": 228,
   "metadata": {
    "collapsed": false
   },
   "outputs": [
    {
     "data": {
      "text/plain": [
       "0.59945257379529227"
      ]
     },
     "execution_count": 228,
     "metadata": {},
     "output_type": "execute_result"
    }
   ],
   "source": [
    "metrics.accuracy_score(train_y, train_y_hat1)"
   ]
  },
  {
   "cell_type": "code",
   "execution_count": 229,
   "metadata": {
    "collapsed": false
   },
   "outputs": [
    {
     "data": {
      "text/plain": [
       "0.7707453462129078"
      ]
     },
     "execution_count": 229,
     "metadata": {},
     "output_type": "execute_result"
    }
   ],
   "source": [
    "metrics.accuracy_score(train_y, train_y_hat2)"
   ]
  },
  {
   "cell_type": "code",
   "execution_count": 230,
   "metadata": {
    "collapsed": false
   },
   "outputs": [
    {
     "data": {
      "text/plain": [
       "0.7707453462129078"
      ]
     },
     "execution_count": 230,
     "metadata": {},
     "output_type": "execute_result"
    }
   ],
   "source": [
    "best_forest.score(train_X, train_y)"
   ]
  },
  {
   "cell_type": "markdown",
   "metadata": {},
   "source": [
    "### Test "
   ]
  },
  {
   "cell_type": "code",
   "execution_count": 231,
   "metadata": {
    "collapsed": false
   },
   "outputs": [
    {
     "data": {
      "text/plain": [
       "0.60101645692158756"
      ]
     },
     "execution_count": 231,
     "metadata": {},
     "output_type": "execute_result"
    }
   ],
   "source": [
    "best_forest.score(test_X, test_y)"
   ]
  },
  {
   "cell_type": "code",
   "execution_count": 232,
   "metadata": {
    "collapsed": true
   },
   "outputs": [],
   "source": [
    "test_y_hat1 = model_selection.cross_val_predict(best_forest, test_X, test_y, cv = 5) #remember that cross validation already does a .fit\n"
   ]
  },
  {
   "cell_type": "code",
   "execution_count": 233,
   "metadata": {
    "collapsed": false
   },
   "outputs": [
    {
     "data": {
      "text/html": [
       "<div>\n",
       "<table border=\"1\" class=\"dataframe\">\n",
       "  <thead>\n",
       "    <tr style=\"text-align: right;\">\n",
       "      <th>True Class</th>\n",
       "      <th>Assault</th>\n",
       "      <th>Drug/Narcotic</th>\n",
       "      <th>Other</th>\n",
       "      <th>Theft</th>\n",
       "    </tr>\n",
       "    <tr>\n",
       "      <th>Hypothesized Class</th>\n",
       "      <th></th>\n",
       "      <th></th>\n",
       "      <th></th>\n",
       "      <th></th>\n",
       "    </tr>\n",
       "  </thead>\n",
       "  <tbody>\n",
       "    <tr>\n",
       "      <th>Assault</th>\n",
       "      <td>42</td>\n",
       "      <td>2</td>\n",
       "      <td>76</td>\n",
       "      <td>6</td>\n",
       "    </tr>\n",
       "    <tr>\n",
       "      <th>Drug/Narcotic</th>\n",
       "      <td>83</td>\n",
       "      <td>1764</td>\n",
       "      <td>1565</td>\n",
       "      <td>80</td>\n",
       "    </tr>\n",
       "    <tr>\n",
       "      <th>Other</th>\n",
       "      <td>26010</td>\n",
       "      <td>18935</td>\n",
       "      <td>149843</td>\n",
       "      <td>57148</td>\n",
       "    </tr>\n",
       "    <tr>\n",
       "      <th>Theft</th>\n",
       "      <td>4744</td>\n",
       "      <td>887</td>\n",
       "      <td>33075</td>\n",
       "      <td>56960</td>\n",
       "    </tr>\n",
       "  </tbody>\n",
       "</table>\n",
       "</div>"
      ],
      "text/plain": [
       "True Class          Assault  Drug/Narcotic   Other  Theft\n",
       "Hypothesized Class                                       \n",
       "Assault                  42              2      76      6\n",
       "Drug/Narcotic            83           1764    1565     80\n",
       "Other                 26010          18935  149843  57148\n",
       "Theft                  4744            887   33075  56960"
      ]
     },
     "execution_count": 233,
     "metadata": {},
     "output_type": "execute_result"
    }
   ],
   "source": [
    "pd.crosstab(test_y_hat1, test_y, rownames = ['Hypothesized Class'], colnames = ['True Class'])"
   ]
  },
  {
   "cell_type": "code",
   "execution_count": 234,
   "metadata": {
    "collapsed": true
   },
   "outputs": [],
   "source": [
    "test_y_hat2 = best_forest.predict(test_X)"
   ]
  },
  {
   "cell_type": "code",
   "execution_count": 235,
   "metadata": {
    "collapsed": false
   },
   "outputs": [
    {
     "data": {
      "text/html": [
       "<div>\n",
       "<table border=\"1\" class=\"dataframe\">\n",
       "  <thead>\n",
       "    <tr style=\"text-align: right;\">\n",
       "      <th>True Class</th>\n",
       "      <th>Assault</th>\n",
       "      <th>Drug/Narcotic</th>\n",
       "      <th>Other</th>\n",
       "      <th>Theft</th>\n",
       "    </tr>\n",
       "    <tr>\n",
       "      <th>Hypothesized Class</th>\n",
       "      <th></th>\n",
       "      <th></th>\n",
       "      <th></th>\n",
       "      <th></th>\n",
       "    </tr>\n",
       "  </thead>\n",
       "  <tbody>\n",
       "    <tr>\n",
       "      <th>Assault</th>\n",
       "      <td>141</td>\n",
       "      <td>6</td>\n",
       "      <td>237</td>\n",
       "      <td>13</td>\n",
       "    </tr>\n",
       "    <tr>\n",
       "      <th>Drug/Narcotic</th>\n",
       "      <td>92</td>\n",
       "      <td>2392</td>\n",
       "      <td>2236</td>\n",
       "      <td>81</td>\n",
       "    </tr>\n",
       "    <tr>\n",
       "      <th>Other</th>\n",
       "      <td>26063</td>\n",
       "      <td>18344</td>\n",
       "      <td>148282</td>\n",
       "      <td>53826</td>\n",
       "    </tr>\n",
       "    <tr>\n",
       "      <th>Theft</th>\n",
       "      <td>4583</td>\n",
       "      <td>846</td>\n",
       "      <td>33804</td>\n",
       "      <td>60274</td>\n",
       "    </tr>\n",
       "  </tbody>\n",
       "</table>\n",
       "</div>"
      ],
      "text/plain": [
       "True Class          Assault  Drug/Narcotic   Other  Theft\n",
       "Hypothesized Class                                       \n",
       "Assault                 141              6     237     13\n",
       "Drug/Narcotic            92           2392    2236     81\n",
       "Other                 26063          18344  148282  53826\n",
       "Theft                  4583            846   33804  60274"
      ]
     },
     "execution_count": 235,
     "metadata": {},
     "output_type": "execute_result"
    }
   ],
   "source": [
    "pd.crosstab(test_y_hat2, test_y, rownames = ['Hypothesized Class'], colnames = ['True Class'])"
   ]
  },
  {
   "cell_type": "code",
   "execution_count": 236,
   "metadata": {
    "collapsed": false
   },
   "outputs": [
    {
     "data": {
      "text/plain": [
       "0.59395535561756163"
      ]
     },
     "execution_count": 236,
     "metadata": {},
     "output_type": "execute_result"
    }
   ],
   "source": [
    "metrics.accuracy_score(test_y, test_y_hat1)"
   ]
  },
  {
   "cell_type": "code",
   "execution_count": 237,
   "metadata": {
    "collapsed": false
   },
   "outputs": [
    {
     "data": {
      "text/plain": [
       "0.60101645692158756"
      ]
     },
     "execution_count": 237,
     "metadata": {},
     "output_type": "execute_result"
    }
   ],
   "source": [
    "metrics.accuracy_score(test_y, test_y_hat2)"
   ]
  },
  {
   "cell_type": "code",
   "execution_count": null,
   "metadata": {
    "collapsed": true
   },
   "outputs": [],
   "source": []
  }
 ],
 "metadata": {
  "kernelspec": {
   "display_name": "Python 2",
   "language": "python",
   "name": "python2"
  },
  "language_info": {
   "codemirror_mode": {
    "name": "ipython",
    "version": 2
   },
   "file_extension": ".py",
   "mimetype": "text/x-python",
   "name": "python",
   "nbconvert_exporter": "python",
   "pygments_lexer": "ipython2",
   "version": "2.7.13"
  }
 },
 "nbformat": 4,
 "nbformat_minor": 2
}
