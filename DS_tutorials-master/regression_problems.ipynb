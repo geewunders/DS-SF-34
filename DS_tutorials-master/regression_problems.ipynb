{
 "cells": [
  {
   "cell_type": "markdown",
   "metadata": {},
   "source": [
    "# Regression Workbook \n",
    "\n",
    "The purpose of this problem set is to put your regression skills to the test. As a GA student of data science, you have covered a number of sklearn regression techniques, so now is your chance to apply them. We'll be using the Boston Housing Dataset. Just kidding. I know you hate that one. \n",
    "\n",
    "We'll be exploring the relationships between sugar, economics, and teeth. You are given a dataset containing sugar consuption, healthcare spending, per capita GDP, literacy rate and the number of bad teeth per child across several hundred countries. What do you think? If you get richer, do your teeth get worse from more sugary foods, or better with health care assistance? Does education improve health, or drive excess? \n",
    "\n",
    "<img src='https://raw.githubusercontent.com/momonala/DS_tutorials/master/files/brush.gif' width='150'>\n",
    "\n",
    "You'll be implementing some of the techniques you've learned in class with hypothesis testing, exploratory analysis, and regression. A few questions to consider: \n",
    " \n",
    "    1) What questions are relevant to ask? How do explore these your initial analysis?\n",
    "    2) How can you optimize on the default regression techniques? \n",
    "    3) How can you effectively visualize and explain the relationships?\n",
    "    \n",
    "I've provided some imports and starter code to get you going.\n",
    "\n",
    "If you get stuck, remember the options you have. Talk to your neighbors, check out StackOverflow and blogs (I recommend Googling your question with the term blog.yhat), and run '?' on functions for docstrings. "
   ]
  },
  {
   "cell_type": "code",
   "execution_count": 1,
   "metadata": {
    "collapsed": false
   },
   "outputs": [],
   "source": [
    "# ex. \n",
    "max?"
   ]
  },
  {
   "cell_type": "markdown",
   "metadata": {},
   "source": [
    "# Exploratory Analysis "
   ]
  },
  {
   "cell_type": "code",
   "execution_count": 11,
   "metadata": {
    "collapsed": true
   },
   "outputs": [],
   "source": [
    "import pandas as pd \n",
    "import numpy as np \n",
    "import matplotlib.pyplot as plt\n",
    "\n",
    "%matplotlib inline\n",
    "plt.style.use('ggplot')"
   ]
  },
  {
   "cell_type": "code",
   "execution_count": 12,
   "metadata": {
    "collapsed": true
   },
   "outputs": [],
   "source": [
    "df = pd.read_csv(\"data/dental_economics.csv\")"
   ]
  },
  {
   "cell_type": "code",
   "execution_count": 13,
   "metadata": {
    "collapsed": false
   },
   "outputs": [],
   "source": [
    "#TO DO: \n",
    "# perform exploratory analysis. Clean the data as necessary and use correlation to find relevant features. \n",
    "# check the distributions of the data. Write a sentence about the distribution. "
   ]
  },
  {
   "cell_type": "code",
   "execution_count": 14,
   "metadata": {
    "collapsed": false
   },
   "outputs": [
    {
     "data": {
      "text/html": [
       "<div>\n",
       "<table border=\"1\" class=\"dataframe\">\n",
       "  <thead>\n",
       "    <tr style=\"text-align: right;\">\n",
       "      <th></th>\n",
       "      <th>Country</th>\n",
       "      <th>badteeth</th>\n",
       "      <th>literacy_avg</th>\n",
       "      <th>GDP_avg</th>\n",
       "      <th>sugar_avg</th>\n",
       "      <th>health_avg</th>\n",
       "    </tr>\n",
       "  </thead>\n",
       "  <tbody>\n",
       "    <tr>\n",
       "      <th>0</th>\n",
       "      <td>Saudi Arabia</td>\n",
       "      <td>5.9</td>\n",
       "      <td>80.046624</td>\n",
       "      <td>10460.159370</td>\n",
       "      <td>63.511591</td>\n",
       "      <td>282.826662</td>\n",
       "    </tr>\n",
       "    <tr>\n",
       "      <th>1</th>\n",
       "      <td>Guatemala</td>\n",
       "      <td>5.2</td>\n",
       "      <td>69.723543</td>\n",
       "      <td>1487.355625</td>\n",
       "      <td>97.758182</td>\n",
       "      <td>44.111681</td>\n",
       "    </tr>\n",
       "    <tr>\n",
       "      <th>2</th>\n",
       "      <td>Mauritius</td>\n",
       "      <td>4.9</td>\n",
       "      <td>84.339633</td>\n",
       "      <td>3074.829677</td>\n",
       "      <td>120.550000</td>\n",
       "      <td>100.265111</td>\n",
       "    </tr>\n",
       "    <tr>\n",
       "      <th>3</th>\n",
       "      <td>Brunei</td>\n",
       "      <td>4.8</td>\n",
       "      <td>88.439129</td>\n",
       "      <td>20991.519650</td>\n",
       "      <td>108.220000</td>\n",
       "      <td>549.706067</td>\n",
       "    </tr>\n",
       "    <tr>\n",
       "      <th>4</th>\n",
       "      <td>Bosnia and Herzegovina</td>\n",
       "      <td>4.8</td>\n",
       "      <td>97.332859</td>\n",
       "      <td>1590.190034</td>\n",
       "      <td>45.101538</td>\n",
       "      <td>132.698130</td>\n",
       "    </tr>\n",
       "  </tbody>\n",
       "</table>\n",
       "</div>"
      ],
      "text/plain": [
       "                  Country  badteeth  literacy_avg       GDP_avg   sugar_avg  \\\n",
       "0            Saudi Arabia       5.9     80.046624  10460.159370   63.511591   \n",
       "1               Guatemala       5.2     69.723543   1487.355625   97.758182   \n",
       "2               Mauritius       4.9     84.339633   3074.829677  120.550000   \n",
       "3                  Brunei       4.8     88.439129  20991.519650  108.220000   \n",
       "4  Bosnia and Herzegovina       4.8     97.332859   1590.190034   45.101538   \n",
       "\n",
       "   health_avg  \n",
       "0  282.826662  \n",
       "1   44.111681  \n",
       "2  100.265111  \n",
       "3  549.706067  \n",
       "4  132.698130  "
      ]
     },
     "execution_count": 14,
     "metadata": {},
     "output_type": "execute_result"
    }
   ],
   "source": [
    "df.head()"
   ]
  },
  {
   "cell_type": "code",
   "execution_count": 15,
   "metadata": {
    "collapsed": false
   },
   "outputs": [
    {
     "data": {
      "text/html": [
       "<div>\n",
       "<table border=\"1\" class=\"dataframe\">\n",
       "  <thead>\n",
       "    <tr style=\"text-align: right;\">\n",
       "      <th></th>\n",
       "      <th>badteeth</th>\n",
       "      <th>literacy_avg</th>\n",
       "      <th>GDP_avg</th>\n",
       "      <th>sugar_avg</th>\n",
       "      <th>health_avg</th>\n",
       "    </tr>\n",
       "  </thead>\n",
       "  <tbody>\n",
       "    <tr>\n",
       "      <th>badteeth</th>\n",
       "      <td>1.000000</td>\n",
       "      <td>0.386415</td>\n",
       "      <td>0.130030</td>\n",
       "      <td>0.341168</td>\n",
       "      <td>0.042692</td>\n",
       "    </tr>\n",
       "    <tr>\n",
       "      <th>literacy_avg</th>\n",
       "      <td>0.386415</td>\n",
       "      <td>1.000000</td>\n",
       "      <td>0.270349</td>\n",
       "      <td>0.594290</td>\n",
       "      <td>0.380230</td>\n",
       "    </tr>\n",
       "    <tr>\n",
       "      <th>GDP_avg</th>\n",
       "      <td>0.130030</td>\n",
       "      <td>0.270349</td>\n",
       "      <td>1.000000</td>\n",
       "      <td>0.381424</td>\n",
       "      <td>0.704342</td>\n",
       "    </tr>\n",
       "    <tr>\n",
       "      <th>sugar_avg</th>\n",
       "      <td>0.341168</td>\n",
       "      <td>0.594290</td>\n",
       "      <td>0.381424</td>\n",
       "      <td>1.000000</td>\n",
       "      <td>0.370900</td>\n",
       "    </tr>\n",
       "    <tr>\n",
       "      <th>health_avg</th>\n",
       "      <td>0.042692</td>\n",
       "      <td>0.380230</td>\n",
       "      <td>0.704342</td>\n",
       "      <td>0.370900</td>\n",
       "      <td>1.000000</td>\n",
       "    </tr>\n",
       "  </tbody>\n",
       "</table>\n",
       "</div>"
      ],
      "text/plain": [
       "              badteeth  literacy_avg   GDP_avg  sugar_avg  health_avg\n",
       "badteeth      1.000000      0.386415  0.130030   0.341168    0.042692\n",
       "literacy_avg  0.386415      1.000000  0.270349   0.594290    0.380230\n",
       "GDP_avg       0.130030      0.270349  1.000000   0.381424    0.704342\n",
       "sugar_avg     0.341168      0.594290  0.381424   1.000000    0.370900\n",
       "health_avg    0.042692      0.380230  0.704342   0.370900    1.000000"
      ]
     },
     "execution_count": 15,
     "metadata": {},
     "output_type": "execute_result"
    }
   ],
   "source": [
    "df.corr()"
   ]
  },
  {
   "cell_type": "code",
   "execution_count": 19,
   "metadata": {
    "collapsed": false
   },
   "outputs": [
    {
     "data": {
      "text/plain": [
       "<matplotlib.axes._subplots.AxesSubplot at 0x1155adcd0>"
      ]
     },
     "execution_count": 19,
     "metadata": {},
     "output_type": "execute_result"
    },
    {
     "data": {
      "image/png": "[encoded data removed]",
      "text/plain": [
       "<matplotlib.figure.Figure at 0x11537a6d0>"
      ]
     },
     "metadata": {},
     "output_type": "display_data"
    },
    {
     "data": {
      "image/png": "[encoded data removed]",
      "text/plain": [
       "<matplotlib.figure.Figure at 0x11564ac10>"
      ]
     },
     "metadata": {},
     "output_type": "display_data"
    },
    {
     "data": {
      "image/png": "[encoded data removed]",
      "text/plain": [
       "<matplotlib.figure.Figure at 0x1157657d0>"
      ]
     },
     "metadata": {},
     "output_type": "display_data"
    },
    {
     "data": {
      "image/png": "[encoded data removed]",
      "text/plain": [
       "<matplotlib.figure.Figure at 0x1152b6c10>"
      ]
     },
     "metadata": {},
     "output_type": "display_data"
    },
    {
     "data": {
      "image/png": "[encoded data removed]",
      "text/plain": [
       "<matplotlib.figure.Figure at 0x1151ae210>"
      ]
     },
     "metadata": {},
     "output_type": "display_data"
    }
   ],
   "source": [
    "df.plot(kind = 'scatter', x = 'literacy_avg', y = 'badteeth')\n",
    "\n",
    "df.plot(kind = 'scatter', x = 'sugar_avg', y = 'badteeth')\n",
    "\n",
    "df.plot(kind = 'scatter', x = 'GDP_avg', y = 'badteeth')\n",
    "\n",
    "df.plot(kind = 'scatter', x = 'health_avg', y = 'badteeth')\n",
    "\n",
    "df.plot(kind = 'scatter', x = 'health_avg', y = 'GDP_avg')"
   ]
  },
  {
   "cell_type": "code",
   "execution_count": 21,
   "metadata": {
    "collapsed": false
   },
   "outputs": [
    {
     "data": {
      "text/html": [
       "<div>\n",
       "<table border=\"1\" class=\"dataframe\">\n",
       "  <thead>\n",
       "    <tr style=\"text-align: right;\">\n",
       "      <th></th>\n",
       "      <th>badteeth</th>\n",
       "      <th>literacy_avg</th>\n",
       "      <th>GDP_avg</th>\n",
       "      <th>sugar_avg</th>\n",
       "      <th>health_avg</th>\n",
       "    </tr>\n",
       "  </thead>\n",
       "  <tbody>\n",
       "    <tr>\n",
       "      <th>badteeth</th>\n",
       "      <td>1.000000</td>\n",
       "      <td>0.386415</td>\n",
       "      <td>0.130030</td>\n",
       "      <td>0.341168</td>\n",
       "      <td>0.042692</td>\n",
       "    </tr>\n",
       "    <tr>\n",
       "      <th>literacy_avg</th>\n",
       "      <td>0.386415</td>\n",
       "      <td>1.000000</td>\n",
       "      <td>0.270349</td>\n",
       "      <td>0.594290</td>\n",
       "      <td>0.380230</td>\n",
       "    </tr>\n",
       "    <tr>\n",
       "      <th>GDP_avg</th>\n",
       "      <td>0.130030</td>\n",
       "      <td>0.270349</td>\n",
       "      <td>1.000000</td>\n",
       "      <td>0.381424</td>\n",
       "      <td>0.704342</td>\n",
       "    </tr>\n",
       "    <tr>\n",
       "      <th>sugar_avg</th>\n",
       "      <td>0.341168</td>\n",
       "      <td>0.594290</td>\n",
       "      <td>0.381424</td>\n",
       "      <td>1.000000</td>\n",
       "      <td>0.370900</td>\n",
       "    </tr>\n",
       "    <tr>\n",
       "      <th>health_avg</th>\n",
       "      <td>0.042692</td>\n",
       "      <td>0.380230</td>\n",
       "      <td>0.704342</td>\n",
       "      <td>0.370900</td>\n",
       "      <td>1.000000</td>\n",
       "    </tr>\n",
       "  </tbody>\n",
       "</table>\n",
       "</div>"
      ],
      "text/plain": [
       "              badteeth  literacy_avg   GDP_avg  sugar_avg  health_avg\n",
       "badteeth      1.000000      0.386415  0.130030   0.341168    0.042692\n",
       "literacy_avg  0.386415      1.000000  0.270349   0.594290    0.380230\n",
       "GDP_avg       0.130030      0.270349  1.000000   0.381424    0.704342\n",
       "sugar_avg     0.341168      0.594290  0.381424   1.000000    0.370900\n",
       "health_avg    0.042692      0.380230  0.704342   0.370900    1.000000"
      ]
     },
     "execution_count": 21,
     "metadata": {},
     "output_type": "execute_result"
    }
   ],
   "source": [
    "df.corr()"
   ]
  },
  {
   "cell_type": "code",
   "execution_count": 23,
   "metadata": {
    "collapsed": false
   },
   "outputs": [
    {
     "data": {
      "text/html": [
       "<div>\n",
       "<table border=\"1\" class=\"dataframe\">\n",
       "  <thead>\n",
       "    <tr style=\"text-align: right;\">\n",
       "      <th></th>\n",
       "      <th>badteeth</th>\n",
       "      <th>literacy_avg</th>\n",
       "      <th>GDP_avg</th>\n",
       "      <th>sugar_avg</th>\n",
       "      <th>health_avg</th>\n",
       "    </tr>\n",
       "  </thead>\n",
       "  <tbody>\n",
       "    <tr>\n",
       "      <th>count</th>\n",
       "      <td>121.000000</td>\n",
       "      <td>121.000000</td>\n",
       "      <td>121.000000</td>\n",
       "      <td>121.000000</td>\n",
       "      <td>121.000000</td>\n",
       "    </tr>\n",
       "    <tr>\n",
       "      <th>mean</th>\n",
       "      <td>2.078099</td>\n",
       "      <td>78.165821</td>\n",
       "      <td>3038.871018</td>\n",
       "      <td>69.238413</td>\n",
       "      <td>170.912344</td>\n",
       "    </tr>\n",
       "    <tr>\n",
       "      <th>std</th>\n",
       "      <td>1.217042</td>\n",
       "      <td>20.786888</td>\n",
       "      <td>4993.960158</td>\n",
       "      <td>39.086482</td>\n",
       "      <td>279.593892</td>\n",
       "    </tr>\n",
       "    <tr>\n",
       "      <th>min</th>\n",
       "      <td>0.300000</td>\n",
       "      <td>18.201399</td>\n",
       "      <td>139.937213</td>\n",
       "      <td>2.677727</td>\n",
       "      <td>2.155842</td>\n",
       "    </tr>\n",
       "    <tr>\n",
       "      <th>25%</th>\n",
       "      <td>1.180000</td>\n",
       "      <td>66.641822</td>\n",
       "      <td>447.218705</td>\n",
       "      <td>36.740682</td>\n",
       "      <td>16.922464</td>\n",
       "    </tr>\n",
       "    <tr>\n",
       "      <th>50%</th>\n",
       "      <td>1.900000</td>\n",
       "      <td>83.755499</td>\n",
       "      <td>1277.797569</td>\n",
       "      <td>70.110682</td>\n",
       "      <td>66.530291</td>\n",
       "    </tr>\n",
       "    <tr>\n",
       "      <th>75%</th>\n",
       "      <td>2.800000</td>\n",
       "      <td>96.273284</td>\n",
       "      <td>3240.432619</td>\n",
       "      <td>98.567727</td>\n",
       "      <td>180.832570</td>\n",
       "    </tr>\n",
       "    <tr>\n",
       "      <th>max</th>\n",
       "      <td>5.900000</td>\n",
       "      <td>99.763509</td>\n",
       "      <td>38226.277040</td>\n",
       "      <td>156.538636</td>\n",
       "      <td>1705.243078</td>\n",
       "    </tr>\n",
       "  </tbody>\n",
       "</table>\n",
       "</div>"
      ],
      "text/plain": [
       "         badteeth  literacy_avg       GDP_avg   sugar_avg   health_avg\n",
       "count  121.000000    121.000000    121.000000  121.000000   121.000000\n",
       "mean     2.078099     78.165821   3038.871018   69.238413   170.912344\n",
       "std      1.217042     20.786888   4993.960158   39.086482   279.593892\n",
       "min      0.300000     18.201399    139.937213    2.677727     2.155842\n",
       "25%      1.180000     66.641822    447.218705   36.740682    16.922464\n",
       "50%      1.900000     83.755499   1277.797569   70.110682    66.530291\n",
       "75%      2.800000     96.273284   3240.432619   98.567727   180.832570\n",
       "max      5.900000     99.763509  38226.277040  156.538636  1705.243078"
      ]
     },
     "execution_count": 23,
     "metadata": {},
     "output_type": "execute_result"
    }
   ],
   "source": [
    "df.describe()"
   ]
  },
  {
   "cell_type": "code",
   "execution_count": 27,
   "metadata": {
    "collapsed": false
   },
   "outputs": [
    {
     "data": {
      "text/plain": [
       "<matplotlib.axes._subplots.AxesSubplot at 0x115f7d450>"
      ]
     },
     "execution_count": 27,
     "metadata": {},
     "output_type": "execute_result"
    },
    {
     "data": {
      "image/png": "[encoded data removed]",
      "text/plain": [
       "<matplotlib.figure.Figure at 0x115ea3190>"
      ]
     },
     "metadata": {},
     "output_type": "display_data"
    }
   ],
   "source": [
    "df[ ['badteeth'] ].boxplot(figsize = (8, 8))"
   ]
  },
  {
   "cell_type": "code",
   "execution_count": 28,
   "metadata": {
    "collapsed": false
   },
   "outputs": [
    {
     "data": {
      "text/plain": [
       "<matplotlib.axes._subplots.AxesSubplot at 0x115f8a9d0>"
      ]
     },
     "execution_count": 28,
     "metadata": {},
     "output_type": "execute_result"
    },
    {
     "data": {
      "image/png": "[encoded data removed]",
      "text/plain": [
       "<matplotlib.figure.Figure at 0x115ea3350>"
      ]
     },
     "metadata": {},
     "output_type": "display_data"
    }
   ],
   "source": [
    "df[ ['literacy_avg'] ].boxplot(figsize = (8, 8))\n"
   ]
  },
  {
   "cell_type": "code",
   "execution_count": 29,
   "metadata": {
    "collapsed": false
   },
   "outputs": [
    {
     "data": {
      "text/plain": [
       "<matplotlib.axes._subplots.AxesSubplot at 0x11619fcd0>"
      ]
     },
     "execution_count": 29,
     "metadata": {},
     "output_type": "execute_result"
    },
    {
     "data": {
      "image/png": "[encoded data removed]",
      "text/plain": [
       "<matplotlib.figure.Figure at 0x1162586d0>"
      ]
     },
     "metadata": {},
     "output_type": "display_data"
    }
   ],
   "source": [
    "df[ ['GDP_avg'] ].boxplot(figsize = (8, 8))\n"
   ]
  },
  {
   "cell_type": "code",
   "execution_count": 31,
   "metadata": {
    "collapsed": false
   },
   "outputs": [
    {
     "data": {
      "text/plain": [
       "<matplotlib.axes._subplots.AxesSubplot at 0x11554cfd0>"
      ]
     },
     "execution_count": 31,
     "metadata": {},
     "output_type": "execute_result"
    },
    {
     "data": {
      "image/png": "[encoded data removed]",
      "text/plain": [
       "<matplotlib.figure.Figure at 0x115554e10>"
      ]
     },
     "metadata": {},
     "output_type": "display_data"
    }
   ],
   "source": [
    "df.sugar_avg.plot(kind = 'hist', figsize = (8, 8))"
   ]
  },
  {
   "cell_type": "markdown",
   "metadata": {},
   "source": [
    "### Exercises:\n",
    "##### --Double click this cell to answer-- \n",
    "\n",
    "1)  Describe the features of the data set. Did you find anything unique to them?\n",
    "\n",
    "Answer: \n",
    "The higher the badteeth number, the worse your teeth is.\n",
    "Health average: spent on healthcare.\n",
    "\n",
    "\n",
    "2)  Describe the correlations you found. \n",
    "\n",
    "Answer: Sugar average has high correlation with literacy average. \n",
    "GDP average has high correlation with health average.\n",
    "Literacy average and sugar average has high correlation with bad teeth.\n",
    "\n",
    "\n",
    "3)  Describe the distributions of the data. \n",
    "\n",
    "Answer: Nothing is anywhere near normally distributed.\n",
    "\n",
    "4)  Describe any assumptions you are making. How will these affect your research?\n",
    "\n",
    "Answer: \n",
    "\n",
    "1) In your own words, explain the difference between correlation and regression. Explain a few advantages and disadvantages to each. Compare results with your table: \n",
    "\n",
    "Answer:  "
   ]
  },
  {
   "cell_type": "markdown",
   "metadata": {},
   "source": [
    "# Hypothesis\n",
    "You've seen the data. What are the features and what is the output? Explain your hypotheses here: \n",
    "\n",
    "### H0: literacy_avg, GDP_avg, sugar_avg, health_avg will have significant predictive power.\n",
    "\n",
    "### H1: literacy_avg GDP_avg sugar_avg\thealth_avg will not have significant predictive power.\n",
    "\n",
    "\n"
   ]
  },
  {
   "cell_type": "markdown",
   "metadata": {},
   "source": [
    "# Build your models "
   ]
  },
  {
   "cell_type": "code",
   "execution_count": 46,
   "metadata": {
    "collapsed": true
   },
   "outputs": [],
   "source": [
    "from sklearn import linear_model, preprocessing, neighbors\n",
    "from sklearn.ensemble import RandomForestClassifier\n",
    "from sklearn.neighbors import KNeighborsRegressor\n",
    "from sklearn.model_selection import  train_test_split"
   ]
  },
  {
   "cell_type": "code",
   "execution_count": 54,
   "metadata": {
    "collapsed": false
   },
   "outputs": [],
   "source": [
    "\n",
    "columns_X = ['literacy_avg', 'GDP_avg', 'sugar_avg']\n",
    "X = df[columns_X]\n",
    "\n",
    "scaler = preprocessing.MinMaxScaler().fit(X)\n",
    "\n",
    "X = scaler.transform(X)\n",
    "\n",
    "\n",
    "#literacy_avg, GDP_avg, sugar_avg"
   ]
  },
  {
   "cell_type": "code",
   "execution_count": 55,
   "metadata": {
    "collapsed": false,
    "scrolled": false
   },
   "outputs": [
    {
     "data": {
      "text/plain": [
       "array([[  7.58259259e-01,   2.70969124e-01,   3.95382193e-01],\n",
       "       [  6.31692144e-01,   3.53779969e-02,   6.17963686e-01],\n",
       "       [  8.10894103e-01,   7.70589266e-02,   7.66096297e-01],\n",
       "       [  8.61156369e-01,   5.47481920e-01,   6.85958983e-01],\n",
       "       [  9.70198789e-01,   3.80780308e-02,   2.75728328e-01],\n",
       "       [  8.03732268e-01,   2.26655713e-02,   4.75097047e-01],\n",
       "       [  7.78216851e-01,   1.08701007e-01,   2.32705749e-01],\n",
       "       [  9.81786801e-01,   4.26473191e-02,   5.55637618e-01],\n",
       "       [  9.97683561e-01,   2.16911483e-02,   7.26370107e-01],\n",
       "       [  4.52421291e-01,   5.29433465e-03,   3.50874757e-01],\n",
       "       [  8.88888030e-01,   2.72834345e-02,   3.71090773e-01],\n",
       "       [  7.99001836e-01,   2.41680714e-02,   5.67371947e-01],\n",
       "       [  9.93869884e-01,   1.02060530e-01,   5.94862720e-01],\n",
       "       [  8.89014944e-01,   8.56569103e-02,   5.65753012e-01],\n",
       "       [  9.77270490e-01,   1.40018681e-01,   8.46903547e-01],\n",
       "       [  8.75541841e-01,   1.23155773e-01,   5.41065720e-01],\n",
       "       [  9.98743631e-01,   8.44864613e-02,   6.15410749e-01],\n",
       "       [  9.49783801e-01,   8.72777185e-02,   6.68960159e-01],\n",
       "       [  9.57207770e-01,   1.82291969e-01,   7.07005146e-01],\n",
       "       [  9.90388152e-01,   9.39605480e-02,   7.27240364e-01],\n",
       "       [  8.56742923e-01,   4.59994456e-02,   6.13106879e-01],\n",
       "       [  9.95216882e-01,   1.16231416e-01,   7.41002794e-01],\n",
       "       [  6.05454403e-01,   4.60812116e-03,   1.49346813e-01],\n",
       "       [  2.81217315e-01,   2.46166501e-03,   1.13730229e-01],\n",
       "       [  9.52070688e-01,   4.50390565e-02,   5.77054428e-01],\n",
       "       [  9.68148569e-01,   2.78742667e-02,   3.04343652e-01],\n",
       "       [  8.53453555e-01,   2.91835091e-02,   6.37390914e-01],\n",
       "       [  9.91093751e-01,   5.47902131e-02,   6.78424705e-01],\n",
       "       [  8.45428063e-01,   5.26638781e-02,   5.69800351e-01],\n",
       "       [  8.98689322e-01,   2.23065065e-02,   3.93357046e-01],\n",
       "       [  7.07522330e-01,   2.52201033e-02,   5.03041413e-01],\n",
       "       [  9.69017359e-01,   4.93330656e-02,   3.97801733e-01],\n",
       "       [  8.49503316e-01,   7.81396868e-02,   8.32063493e-01],\n",
       "       [  1.00000000e+00,   1.28439480e-01,   7.15406158e-01],\n",
       "       [  9.91011506e-01,   3.88622782e-02,   6.35958778e-01],\n",
       "       [  7.93885309e-01,   8.06170245e-02,   4.08732503e-01],\n",
       "       [  7.79289869e-01,   5.77338987e-01,   6.54389738e-01],\n",
       "       [  9.93010719e-01,   1.72766543e-02,   2.07249896e-01],\n",
       "       [  3.94925064e-01,   2.52741914e-02,   5.47135252e-01],\n",
       "       [  9.66394440e-01,   1.42764589e-01,   5.93679651e-01],\n",
       "       [  9.83812145e-01,   3.30234517e-02,   4.05884595e-01],\n",
       "       [  9.99128279e-01,   2.96793730e-02,   4.01731243e-01],\n",
       "       [  9.93582661e-01,   1.85496808e-02,   2.62039641e-01],\n",
       "       [  3.15846406e-01,   1.17141674e-02,   3.99844606e-01],\n",
       "       [  6.73186228e-01,   5.94137206e-03,   8.29704514e-02],\n",
       "       [  9.70213490e-01,   1.30584122e-02,   4.71574544e-01],\n",
       "       [  9.00845214e-01,   5.20302677e-02,   8.73350783e-01],\n",
       "       [  9.36509417e-01,   8.14070194e-02,   9.98772504e-01],\n",
       "       [  5.84744453e-01,   8.12676335e-03,   2.19365779e-01],\n",
       "       [  5.62143654e-01,   4.13374045e-02,   4.24523034e-01],\n",
       "       [  7.06944732e-01,   2.22631088e-02,   5.26102383e-01],\n",
       "       [  6.94519905e-02,   1.72143195e-03,   9.67314044e-02],\n",
       "       [  9.30620048e-01,   2.40252923e-01,   4.89268643e-01],\n",
       "       [  8.43136066e-01,   1.06723573e-02,   2.18556311e-01],\n",
       "       [  9.24429980e-01,   6.94494511e-02,   5.41468977e-01],\n",
       "       [  9.89717145e-01,   3.93137502e-02,   3.72964002e-01],\n",
       "       [  9.00410570e-01,   1.40401785e-01,   6.88387387e-01],\n",
       "       [  4.50079026e-01,   1.00678597e-02,   4.05911183e-01],\n",
       "       [  8.91967472e-01,   1.18283658e-01,   7.42621730e-01],\n",
       "       [  8.68563343e-01,   6.72037493e-03,   1.14944430e-01],\n",
       "       [  9.73012738e-01,   1.03974682e-02,   2.55375280e-01],\n",
       "       [  9.16645197e-01,   5.52390318e-02,   6.50342399e-01],\n",
       "       [  9.98289402e-01,   2.66083586e-01,   2.94916487e-01],\n",
       "       [  6.21397841e-01,   6.39580352e-03,   1.97914882e-01],\n",
       "       [  9.01766881e-01,   3.71876437e-01,   6.97696266e-01],\n",
       "       [  8.01327206e-01,   6.41726156e-02,   6.23225227e-01],\n",
       "       [  8.97191861e-01,   2.96040735e-02,   2.70343049e-01],\n",
       "       [  6.54633319e-01,   1.00000000e+00,   6.49128197e-01],\n",
       "       [  8.72994268e-01,   1.79320176e-01,   8.87111736e-01],\n",
       "       [  1.80604936e-01,   0.00000000e+00,   4.16875927e-02],\n",
       "       [  8.50939983e-01,   1.95245845e-01,   4.68219525e-01],\n",
       "       [  5.48018621e-01,   1.20473264e-02,   7.97325802e-02],\n",
       "       [  7.25075091e-01,   2.98758127e-02,   6.92029991e-01],\n",
       "       [  8.67154176e-01,   1.25212759e-01,   5.71824020e-01],\n",
       "       [  9.92600519e-01,   7.24099955e-02,   1.00000000e+00],\n",
       "       [  8.80315180e-01,   1.21918137e-02,   3.57347545e-01],\n",
       "       [  9.91102215e-01,   1.35914162e-02,   1.82597260e-01],\n",
       "       [  5.93908404e-01,   4.75462748e-03,   2.82898663e-01],\n",
       "       [  7.78887959e-01,   4.74074122e-02,   5.84775505e-01],\n",
       "       [  3.54862422e-01,   6.99576693e-03,   4.92902385e-01],\n",
       "       [  7.23272765e-01,   6.56369126e-03,   3.07178266e-01],\n",
       "       [  2.55676883e-01,   2.85646198e-03,   8.62083227e-02],\n",
       "       [  6.26095915e-01,   4.06799550e-02,   4.38272170e-01],\n",
       "       [  7.77670186e-01,   8.61512316e-03,   3.59371215e-01],\n",
       "       [  1.01821499e-02,   2.40674045e-03,   5.82816830e-02],\n",
       "       [  8.18917171e-01,   1.77328826e-02,   7.15907815e-01],\n",
       "       [  9.90035424e-01,   3.08527543e-03,   2.27802924e-01],\n",
       "       [  7.46834784e-01,   5.29761398e-02,   5.38635840e-01],\n",
       "       [  2.60307090e-01,   1.00529536e-02,   2.68337105e-01],\n",
       "       [  6.51427281e-01,   3.17504905e-02,   2.21387971e-01],\n",
       "       [  5.14211640e-01,   2.37455878e-02,   4.12382494e-01],\n",
       "       [  6.26225063e-01,   3.79626976e-02,   4.49189646e-01],\n",
       "       [  9.61395473e-01,   2.78742540e-01,   5.68587626e-01],\n",
       "       [  7.36329490e-01,   1.78148063e-01,   5.89632312e-01],\n",
       "       [  9.64459122e-01,   2.66412749e-01,   4.92499128e-01],\n",
       "       [  8.00372044e-01,   7.95553824e-02,   8.51896931e-01],\n",
       "       [  9.77793153e-01,   3.68142021e-01,   5.15566007e-01],\n",
       "       [  8.19919287e-01,   7.85467778e-02,   6.55199206e-01],\n",
       "       [  7.86300269e-01,   1.21269128e-02,   7.28521037e-02],\n",
       "       [  2.97200570e-01,   4.62381347e-03,   1.38823731e-01],\n",
       "       [  4.08704390e-01,   1.55961928e-04,   1.01183477e-02],\n",
       "       [  6.00859029e-01,   2.82940871e-03,   1.00778743e-01],\n",
       "       [  6.72076239e-01,   2.75858989e-02,   7.30479713e-01],\n",
       "       [  1.05080677e-01,   4.50197021e-03,   3.76402536e-02],\n",
       "       [  5.63838632e-01,   2.06526757e-03,   2.22603650e-02],\n",
       "       [  9.90025897e-01,   2.27550243e-01,   6.22415759e-01],\n",
       "       [  0.00000000e+00,   9.99061356e-04,   3.60213179e-02],\n",
       "       [  4.87875363e-01,   4.11455106e-05,   1.38823731e-01],\n",
       "       [  3.57843533e-01,   7.12670952e-03,   3.79999350e-01],\n",
       "       [  9.69586417e-01,   1.55173011e-01,   8.67266480e-01],\n",
       "       [  6.38740509e-01,   5.48464925e-02,   7.85919396e-01],\n",
       "       [  2.65815026e-01,   1.04247356e-03,   2.10461633e-02],\n",
       "       [  7.36683049e-01,   4.61286744e-02,   3.46416775e-01],\n",
       "       [  2.53332497e-01,   7.61122897e-04,   3.76402536e-02],\n",
       "       [  4.36041502e-01,   6.02080532e-03,   9.14698636e-02],\n",
       "       [  5.70067092e-01,   3.23562677e-03,   8.17562497e-02],\n",
       "       [  7.70283158e-01,   4.09631799e-03,   2.66307527e-01],\n",
       "       [  3.07989961e-01,   8.06802368e-03,   6.15195543e-02],\n",
       "       [  4.74373748e-01,   3.53793853e-03,   6.31384899e-02],\n",
       "       [  5.79277183e-01,   5.25898059e-03,   9.83503400e-02],\n",
       "       [  4.72131557e-01,   2.55215798e-03,   0.00000000e+00]])"
      ]
     },
     "execution_count": 55,
     "metadata": {},
     "output_type": "execute_result"
    }
   ],
   "source": [
    "X"
   ]
  },
  {
   "cell_type": "code",
   "execution_count": 57,
   "metadata": {
    "collapsed": false
   },
   "outputs": [
    {
     "ename": "ValueError",
     "evalue": "Unknown label type: 'continuous'",
     "output_type": "error",
     "traceback": [
      "\u001b[0;31m---------------------------------------------------------------------------\u001b[0m",
      "\u001b[0;31mValueError\u001b[0m                                Traceback (most recent call last)",
      "\u001b[0;32m<ipython-input-57-4176266646bc>\u001b[0m in \u001b[0;36m<module>\u001b[0;34m()\u001b[0m\n\u001b[1;32m      1\u001b[0m \u001b[0mc\u001b[0m \u001b[0;34m=\u001b[0m \u001b[0mdf\u001b[0m\u001b[0;34m.\u001b[0m\u001b[0mbadteeth\u001b[0m\u001b[0;34m\u001b[0m\u001b[0m\n\u001b[1;32m      2\u001b[0m \u001b[0;34m\u001b[0m\u001b[0m\n\u001b[0;32m----> 3\u001b[0;31m \u001b[0mmodel\u001b[0m \u001b[0;34m=\u001b[0m \u001b[0mneighbors\u001b[0m\u001b[0;34m.\u001b[0m\u001b[0mKNeighborsClassifier\u001b[0m\u001b[0;34m(\u001b[0m\u001b[0mn_neighbors\u001b[0m \u001b[0;34m=\u001b[0m \u001b[0;36m1\u001b[0m\u001b[0;34m)\u001b[0m\u001b[0;34m.\u001b[0m    \u001b[0mfit\u001b[0m\u001b[0;34m(\u001b[0m\u001b[0mX\u001b[0m\u001b[0;34m,\u001b[0m \u001b[0mc\u001b[0m\u001b[0;34m)\u001b[0m\u001b[0;34m\u001b[0m\u001b[0m\n\u001b[0m",
      "\u001b[0;32m/Users/grady/anaconda/lib/python2.7/site-packages/sklearn/neighbors/base.pyc\u001b[0m in \u001b[0;36mfit\u001b[0;34m(self, X, y)\u001b[0m\n\u001b[1;32m    773\u001b[0m             \u001b[0mself\u001b[0m\u001b[0;34m.\u001b[0m\u001b[0moutputs_2d_\u001b[0m \u001b[0;34m=\u001b[0m \u001b[0mTrue\u001b[0m\u001b[0;34m\u001b[0m\u001b[0m\n\u001b[1;32m    774\u001b[0m \u001b[0;34m\u001b[0m\u001b[0m\n\u001b[0;32m--> 775\u001b[0;31m         \u001b[0mcheck_classification_targets\u001b[0m\u001b[0;34m(\u001b[0m\u001b[0my\u001b[0m\u001b[0;34m)\u001b[0m\u001b[0;34m\u001b[0m\u001b[0m\n\u001b[0m\u001b[1;32m    776\u001b[0m         \u001b[0mself\u001b[0m\u001b[0;34m.\u001b[0m\u001b[0mclasses_\u001b[0m \u001b[0;34m=\u001b[0m \u001b[0;34m[\u001b[0m\u001b[0;34m]\u001b[0m\u001b[0;34m\u001b[0m\u001b[0m\n\u001b[1;32m    777\u001b[0m         \u001b[0mself\u001b[0m\u001b[0;34m.\u001b[0m\u001b[0m_y\u001b[0m \u001b[0;34m=\u001b[0m \u001b[0mnp\u001b[0m\u001b[0;34m.\u001b[0m\u001b[0mempty\u001b[0m\u001b[0;34m(\u001b[0m\u001b[0my\u001b[0m\u001b[0;34m.\u001b[0m\u001b[0mshape\u001b[0m\u001b[0;34m,\u001b[0m \u001b[0mdtype\u001b[0m\u001b[0;34m=\u001b[0m\u001b[0mnp\u001b[0m\u001b[0;34m.\u001b[0m\u001b[0mint\u001b[0m\u001b[0;34m)\u001b[0m\u001b[0;34m\u001b[0m\u001b[0m\n",
      "\u001b[0;32m/Users/grady/anaconda/lib/python2.7/site-packages/sklearn/utils/multiclass.pyc\u001b[0m in \u001b[0;36mcheck_classification_targets\u001b[0;34m(y)\u001b[0m\n\u001b[1;32m    170\u001b[0m     if y_type not in ['binary', 'multiclass', 'multiclass-multioutput',\n\u001b[1;32m    171\u001b[0m             'multilabel-indicator', 'multilabel-sequences']:\n\u001b[0;32m--> 172\u001b[0;31m         \u001b[0;32mraise\u001b[0m \u001b[0mValueError\u001b[0m\u001b[0;34m(\u001b[0m\u001b[0;34m\"Unknown label type: %r\"\u001b[0m \u001b[0;34m%\u001b[0m \u001b[0my_type\u001b[0m\u001b[0;34m)\u001b[0m\u001b[0;34m\u001b[0m\u001b[0m\n\u001b[0m\u001b[1;32m    173\u001b[0m \u001b[0;34m\u001b[0m\u001b[0m\n\u001b[1;32m    174\u001b[0m \u001b[0;34m\u001b[0m\u001b[0m\n",
      "\u001b[0;31mValueError\u001b[0m: Unknown label type: 'continuous'"
     ]
    }
   ],
   "source": [
    "c = df.badteeth\n",
    "\n",
    "model = neighbors.KNeighborsClassifier(n_neighbors = 1).\\\n",
    "    fit(X, c)"
   ]
  },
  {
   "cell_type": "markdown",
   "metadata": {},
   "source": [
    "# Spot Check \n",
    "\n",
    "How's the model building coming? Have you identifyed some features of interest and noticed any trends? If so, put them into words. \n",
    "\n",
    "### Noticeable Trends: \n",
    "\n",
    "1) \n",
    "\n",
    "2) \n",
    "\n",
    "3) \n"
   ]
  },
  {
   "cell_type": "markdown",
   "metadata": {},
   "source": [
    "# Optimization\n",
    "\n",
    "Time to fine tune the model. What hyperparameters exist in your model? How do you tune these hyperparameters? Also, how can you test for overfitting, and how will you reduce it if you see it? Implement below. "
   ]
  },
  {
   "cell_type": "code",
   "execution_count": null,
   "metadata": {
    "collapsed": true
   },
   "outputs": [],
   "source": []
  },
  {
   "cell_type": "code",
   "execution_count": null,
   "metadata": {
    "collapsed": true
   },
   "outputs": [],
   "source": []
  },
  {
   "cell_type": "markdown",
   "metadata": {},
   "source": [
    "Evaluate your models again. How do different hyperparameters change your predictive performance? Again, explain in a few words."
   ]
  },
  {
   "cell_type": "code",
   "execution_count": null,
   "metadata": {
    "collapsed": true
   },
   "outputs": [],
   "source": [
    "# TO DO:\n",
    "# fill in the correct values for the hyperparameter testing. \n",
    "\n",
    "for INPUT HYPERPARAMTER in range(INPUT RANGE):\n",
    "    model = \n",
    "    #TO DO: test hyperparameters "
   ]
  },
  {
   "cell_type": "code",
   "execution_count": null,
   "metadata": {
    "collapsed": true
   },
   "outputs": [],
   "source": []
  },
  {
   "cell_type": "markdown",
   "metadata": {},
   "source": [
    "# Final Conclusions\n",
    "\n",
    "If a data scientist makes a brilliant conclusion but can't communicate effectively, did they ever make a conclusion?  \n",
    "\n",
    "Explain your findings to a person with a math/stats background. Reference your H1/H0 hypotheses:\n",
    "\n",
    "Answer: \n",
    "\n",
    "Now explain them to a person who hates math:\n",
    "\n",
    "Answer: \n"
   ]
  }
 ],
 "metadata": {
  "kernelspec": {
   "display_name": "Python 2",
   "language": "python",
   "name": "python2"
  },
  "language_info": {
   "codemirror_mode": {
    "name": "ipython",
    "version": 2
   },
   "file_extension": ".py",
   "mimetype": "text/x-python",
   "name": "python",
   "nbconvert_exporter": "python",
   "pygments_lexer": "ipython2",
   "version": "2.7.13"
  }
 },
 "nbformat": 4,
 "nbformat_minor": 2
}
