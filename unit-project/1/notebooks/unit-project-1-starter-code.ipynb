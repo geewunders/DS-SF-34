{
 "cells": [
  {
   "cell_type": "markdown",
   "metadata": {},
   "source": [
    "# DS-SF-34 | Unit Project | 1 | Research Design | Starter Code"
   ]
  },
  {
   "cell_type": "markdown",
   "metadata": {},
   "source": [
    "In this first unit project, you will create a framework to scope out data science projects.  This framework will provide you with a guide to develop a well-articulated problem statement and analysis plan that will be robust and reproducible."
   ]
  },
  {
   "cell_type": "markdown",
   "metadata": {},
   "source": [
    "## Part A.  Evaluate the following problem statement:"
   ]
  },
  {
   "cell_type": "markdown",
   "metadata": {},
   "source": [
    "> \"Determine which free-tier customers will covert to paying customers, using demographic data collected at signup (age, gender, location, and profession) and customer useage data (days since last log in, and `activity score 1 = active user`, `0 = inactive user`) based on Hooli data from January-April 2015.\""
   ]
  },
  {
   "cell_type": "markdown",
   "metadata": {},
   "source": [
    "> ### Question 1.  What is the outcome?"
   ]
  },
  {
   "cell_type": "markdown",
   "metadata": {},
   "source": [
    "Answer: Return customer indicator (yes or no). In other words, using the existing varaibles, which free-teir customer will convert to a paying customer?"
   ]
  },
  {
   "cell_type": "markdown",
   "metadata": {},
   "source": [
    "> ### Question 2.  What are the predictors/covariates?"
   ]
  },
  {
   "cell_type": "markdown",
   "metadata": {},
   "source": [
    "Answer: Age, gender, location, profession, days since last log in, and activity."
   ]
  },
  {
   "cell_type": "markdown",
   "metadata": {},
   "source": [
    "> ### Question 3.  What timeframe is this data relevent for?"
   ]
  },
  {
   "cell_type": "markdown",
   "metadata": {},
   "source": [
    "Answer: January 2015 through April 2015"
   ]
  },
  {
   "cell_type": "markdown",
   "metadata": {},
   "source": [
    "> ### Question 4.  What is the hypothesis?"
   ]
  },
  {
   "cell_type": "markdown",
   "metadata": {},
   "source": [
    "Answer: Demographic and customer usage data information will allow us to predict if a free-tier customer will covert to a paying customer."
   ]
  },
  {
   "cell_type": "markdown",
   "metadata": {},
   "source": [
    "## Part B.  Let's start exploring our UCLA dataset and answer some simple questions:"
   ]
  },
  {
   "cell_type": "code",
   "execution_count": 1,
   "metadata": {
    "collapsed": false
   },
   "outputs": [
    {
     "data": {
      "text/html": [
       "<div>\n",
       "<table border=\"1\" class=\"dataframe\">\n",
       "  <thead>\n",
       "    <tr style=\"text-align: right;\">\n",
       "      <th></th>\n",
       "      <th>admit</th>\n",
       "      <th>gre</th>\n",
       "      <th>gpa</th>\n",
       "      <th>prestige</th>\n",
       "    </tr>\n",
       "  </thead>\n",
       "  <tbody>\n",
       "    <tr>\n",
       "      <th>0</th>\n",
       "      <td>0</td>\n",
       "      <td>380.0</td>\n",
       "      <td>3.61</td>\n",
       "      <td>3.0</td>\n",
       "    </tr>\n",
       "    <tr>\n",
       "      <th>1</th>\n",
       "      <td>1</td>\n",
       "      <td>660.0</td>\n",
       "      <td>3.67</td>\n",
       "      <td>3.0</td>\n",
       "    </tr>\n",
       "    <tr>\n",
       "      <th>2</th>\n",
       "      <td>1</td>\n",
       "      <td>800.0</td>\n",
       "      <td>4.00</td>\n",
       "      <td>1.0</td>\n",
       "    </tr>\n",
       "    <tr>\n",
       "      <th>3</th>\n",
       "      <td>1</td>\n",
       "      <td>640.0</td>\n",
       "      <td>3.19</td>\n",
       "      <td>4.0</td>\n",
       "    </tr>\n",
       "    <tr>\n",
       "      <th>4</th>\n",
       "      <td>0</td>\n",
       "      <td>520.0</td>\n",
       "      <td>2.93</td>\n",
       "      <td>4.0</td>\n",
       "    </tr>\n",
       "    <tr>\n",
       "      <th>...</th>\n",
       "      <td>...</td>\n",
       "      <td>...</td>\n",
       "      <td>...</td>\n",
       "      <td>...</td>\n",
       "    </tr>\n",
       "    <tr>\n",
       "      <th>395</th>\n",
       "      <td>0</td>\n",
       "      <td>620.0</td>\n",
       "      <td>4.00</td>\n",
       "      <td>2.0</td>\n",
       "    </tr>\n",
       "    <tr>\n",
       "      <th>396</th>\n",
       "      <td>0</td>\n",
       "      <td>560.0</td>\n",
       "      <td>3.04</td>\n",
       "      <td>3.0</td>\n",
       "    </tr>\n",
       "    <tr>\n",
       "      <th>397</th>\n",
       "      <td>0</td>\n",
       "      <td>460.0</td>\n",
       "      <td>2.63</td>\n",
       "      <td>2.0</td>\n",
       "    </tr>\n",
       "    <tr>\n",
       "      <th>398</th>\n",
       "      <td>0</td>\n",
       "      <td>700.0</td>\n",
       "      <td>3.65</td>\n",
       "      <td>2.0</td>\n",
       "    </tr>\n",
       "    <tr>\n",
       "      <th>399</th>\n",
       "      <td>0</td>\n",
       "      <td>600.0</td>\n",
       "      <td>3.89</td>\n",
       "      <td>3.0</td>\n",
       "    </tr>\n",
       "  </tbody>\n",
       "</table>\n",
       "<p>400 rows × 4 columns</p>\n",
       "</div>"
      ],
      "text/plain": [
       "     admit    gre   gpa  prestige\n",
       "0        0  380.0  3.61       3.0\n",
       "1        1  660.0  3.67       3.0\n",
       "2        1  800.0  4.00       1.0\n",
       "3        1  640.0  3.19       4.0\n",
       "4        0  520.0  2.93       4.0\n",
       "..     ...    ...   ...       ...\n",
       "395      0  620.0  4.00       2.0\n",
       "396      0  560.0  3.04       3.0\n",
       "397      0  460.0  2.63       2.0\n",
       "398      0  700.0  3.65       2.0\n",
       "399      0  600.0  3.89       3.0\n",
       "\n",
       "[400 rows x 4 columns]"
      ]
     },
     "execution_count": 1,
     "metadata": {},
     "output_type": "execute_result"
    }
   ],
   "source": [
    "import os\n",
    "import pandas as pd\n",
    "\n",
    "pd.set_option('display.max_rows', 10)\n",
    "pd.set_option('display.max_columns', 10)\n",
    "pd.set_option('display.notebook_repr_html', True)\n",
    "\n",
    "df = pd.read_csv(os.path.join('..', '..', 'dataset', 'dataset-ucla-admissions.csv'))\n",
    "\n",
    "df"
   ]
  },
  {
   "cell_type": "markdown",
   "metadata": {},
   "source": [
    "> ### Question 5.  Create a data dictionary."
   ]
  },
  {
   "cell_type": "code",
   "execution_count": 10,
   "metadata": {
    "collapsed": false
   },
   "outputs": [
    {
     "data": {
      "text/plain": [
       "{2.5499999999999998: 0,\n",
       " 2.6200000000000001: 1,\n",
       " 2.6699999999999999: 0,\n",
       " 2.6800000000000002: 1,\n",
       " 2.6899999999999999: 0,\n",
       " 2.7799999999999998: 0,\n",
       " 2.79: 0,\n",
       " 2.8399999999999999: 1,\n",
       " 2.8500000000000001: 0,\n",
       " 2.8599999999999999: 0,\n",
       " 2.8799999999999999: 0,\n",
       " 2.9500000000000002: 0,\n",
       " 2.98: 0,\n",
       " 3.0: 1,\n",
       " 3.0299999999999998: 0,\n",
       " 3.04: 0,\n",
       " 3.0899999999999999: 0,\n",
       " 3.1200000000000001: 0,\n",
       " 3.1499999999999999: 0,\n",
       " 3.1600000000000001: 0,\n",
       " 3.1699999999999999: 0,\n",
       " 3.2000000000000002: 0,\n",
       " 3.21: 0,\n",
       " 3.23: 0,\n",
       " 3.2400000000000002: 0,\n",
       " 3.25: 0,\n",
       " 3.27: 0,\n",
       " 3.29: 0,\n",
       " 3.3100000000000001: 0,\n",
       " 3.3199999999999998: 0,\n",
       " 3.3300000000000001: 0,\n",
       " 3.3399999999999999: 0,\n",
       " 3.3599999999999999: 0,\n",
       " 3.3700000000000001: 1,\n",
       " 3.3999999999999999: 0,\n",
       " 3.4399999999999999: 0,\n",
       " 3.4500000000000002: 1,\n",
       " 3.48: 1,\n",
       " 3.5: 0,\n",
       " 3.52: 0,\n",
       " 3.5299999999999998: 1,\n",
       " 3.54: 0,\n",
       " 3.5699999999999998: 0,\n",
       " 3.5800000000000001: 0,\n",
       " 3.6099999999999999: 0,\n",
       " 3.6200000000000001: 0,\n",
       " 3.6299999999999999: 0,\n",
       " 3.6400000000000001: 1,\n",
       " 3.6499999999999999: 0,\n",
       " 3.6699999999999999: 0,\n",
       " 3.6899999999999999: 1,\n",
       " 3.7000000000000002: 0,\n",
       " 3.75: 1,\n",
       " 3.7599999999999998: 1,\n",
       " 3.7799999999999998: 0,\n",
       " 3.8300000000000001: 0,\n",
       " 3.8399999999999999: 1,\n",
       " 3.8799999999999999: 1,\n",
       " 3.9100000000000001: 0,\n",
       " 3.9199999999999999: 0,\n",
       " 3.9500000000000002: 0,\n",
       " 4.0: 0,\n",
       " nan: 0,\n",
       " 3.9300000000000002: 0,\n",
       " 3.9900000000000002: 1,\n",
       " nan: 1,\n",
       " 2.2599999999999998: 0,\n",
       " 2.4199999999999999: 1,\n",
       " 2.48: 0,\n",
       " 2.52: 0,\n",
       " 2.5600000000000001: 0,\n",
       " 2.6299999999999999: 0,\n",
       " 2.6499999999999999: 1,\n",
       " 2.7000000000000002: 0,\n",
       " 2.71: 0,\n",
       " 2.73: 0,\n",
       " 2.7599999999999998: 0,\n",
       " 2.8100000000000001: 1,\n",
       " 2.8199999999999998: 0,\n",
       " 2.8300000000000001: 0,\n",
       " 2.8700000000000001: 0,\n",
       " 2.8999999999999999: 0,\n",
       " 2.9100000000000001: 1,\n",
       " 2.9199999999999999: 0,\n",
       " 2.9300000000000002: 0,\n",
       " 2.9399999999999999: 1,\n",
       " 2.96: 0,\n",
       " 2.9700000000000002: 1,\n",
       " 3.0099999999999998: 0,\n",
       " 3.02: 0,\n",
       " 3.0499999999999998: 1,\n",
       " 3.0600000000000001: 0,\n",
       " 3.0699999999999998: 0,\n",
       " 3.0800000000000001: 0,\n",
       " 3.1000000000000001: 0,\n",
       " 3.1099999999999999: 0,\n",
       " 3.1299999999999999: 0,\n",
       " 3.1400000000000001: 0,\n",
       " 3.1800000000000002: 1,\n",
       " 3.1899999999999999: 1,\n",
       " 3.2200000000000002: 1,\n",
       " 3.2799999999999998: 0,\n",
       " 3.2999999999999998: 0,\n",
       " 3.3500000000000001: 0,\n",
       " 3.3799999999999999: 1,\n",
       " 3.3900000000000001: 1,\n",
       " 3.4100000000000001: 0,\n",
       " 3.4199999999999999: 1,\n",
       " 3.4300000000000002: 0,\n",
       " 3.46: 0,\n",
       " 3.4700000000000002: 1,\n",
       " 3.4900000000000002: 1,\n",
       " 3.5099999999999998: 0,\n",
       " 3.5499999999999998: 1,\n",
       " 3.5600000000000001: 1,\n",
       " 3.5899999999999999: 0,\n",
       " 3.6000000000000001: 1,\n",
       " 3.6600000000000001: 1,\n",
       " 3.71: 1,\n",
       " 3.7200000000000002: 0,\n",
       " 3.73: 0,\n",
       " 3.7400000000000002: 1,\n",
       " 3.77: 1,\n",
       " 3.7999999999999998: 0,\n",
       " 3.8100000000000001: 0,\n",
       " 3.8199999999999998: 0,\n",
       " 3.8500000000000001: 1,\n",
       " 3.8599999999999999: 1,\n",
       " 3.8700000000000001: 0,\n",
       " 3.8900000000000001: 0,\n",
       " 3.8999999999999999: 0,\n",
       " 3.9399999999999999: 0,\n",
       " 3.9700000000000002: 0,\n",
       " 3.98: 1}"
      ]
     },
     "execution_count": 10,
     "metadata": {},
     "output_type": "execute_result"
    }
   ],
   "source": [
    "df.set_index('gpa')['admit'].to_dict()\n"
   ]
  },
  {
   "cell_type": "markdown",
   "metadata": {},
   "source": [
    "Answer: TODO\n",
    "\n",
    "(Use the template below)\n",
    "\n",
    "Variable | Description | Type of Variable\n",
    "---|---|---\n",
    "Var 1 | 0 = Not thing, 1 = Thing | Categorical\n",
    "Var 2 | Thing in unit X | Continuous"
   ]
  },
  {
   "cell_type": "markdown",
   "metadata": {},
   "source": [
    "We would like to explore the association between X and Y."
   ]
  },
  {
   "cell_type": "markdown",
   "metadata": {},
   "source": [
    "> ### Question 6.  What is the outcome?"
   ]
  },
  {
   "cell_type": "markdown",
   "metadata": {},
   "source": [
    "Answer: TODO"
   ]
  },
  {
   "cell_type": "markdown",
   "metadata": {},
   "source": [
    "> ### Question 7.  What are the predictors/covariates?"
   ]
  },
  {
   "cell_type": "markdown",
   "metadata": {},
   "source": [
    "Answer: TODO"
   ]
  },
  {
   "cell_type": "markdown",
   "metadata": {},
   "source": [
    "> ### Question 8.  What timeframe is this data relevent for?"
   ]
  },
  {
   "cell_type": "markdown",
   "metadata": {},
   "source": [
    "Answer: Data does not specify timeframe."
   ]
  },
  {
   "cell_type": "markdown",
   "metadata": {},
   "source": [
    "> ### Question 9.  What is the hypothesis?"
   ]
  },
  {
   "cell_type": "markdown",
   "metadata": {},
   "source": [
    "Answer: TODO"
   ]
  },
  {
   "cell_type": "markdown",
   "metadata": {},
   "source": [
    "> ### Question 10.  What's the problem statement?\n",
    "\n",
    "> Using your answers to the above questions, write a well-formed problem statement."
   ]
  },
  {
   "cell_type": "markdown",
   "metadata": {},
   "source": [
    "Answer: TODO"
   ]
  },
  {
   "cell_type": "markdown",
   "metadata": {},
   "source": [
    "## Part C.  Create an exploratory analysis plan by answering the following questions:"
   ]
  },
  {
   "cell_type": "markdown",
   "metadata": {},
   "source": [
    "Because the answers to these questions haven't yet been covered in class yet, this section is optional.  This is by design.  By having you guess or look around for these answers will help make sense once we cover this material in class.  You will not be penalized for wrong answers but we encourage you to give it a try!"
   ]
  },
  {
   "cell_type": "markdown",
   "metadata": {},
   "source": [
    "> ### Question 11. What are the goals of the exploratory analysis?"
   ]
  },
  {
   "cell_type": "markdown",
   "metadata": {},
   "source": [
    "Answer: TODO"
   ]
  },
  {
   "cell_type": "markdown",
   "metadata": {},
   "source": [
    "> ### Question 12.  What are the assumptions of the distribution of data?"
   ]
  },
  {
   "cell_type": "markdown",
   "metadata": {},
   "source": [
    "Answer: TODO"
   ]
  },
  {
   "cell_type": "markdown",
   "metadata": {},
   "source": [
    "> ### Question 13.  How will determine the distribution of your data?"
   ]
  },
  {
   "cell_type": "markdown",
   "metadata": {},
   "source": [
    "Answer: TODO"
   ]
  },
  {
   "cell_type": "markdown",
   "metadata": {},
   "source": [
    "> ### Question 14.  How might outliers impact your analysis?"
   ]
  },
  {
   "cell_type": "markdown",
   "metadata": {},
   "source": [
    "Answer: TODO"
   ]
  },
  {
   "cell_type": "markdown",
   "metadata": {},
   "source": [
    "> ### Question 15.  How will you test for outliers?"
   ]
  },
  {
   "cell_type": "markdown",
   "metadata": {},
   "source": [
    "Answer: TODO"
   ]
  },
  {
   "cell_type": "markdown",
   "metadata": {},
   "source": [
    "> ### Question 16.  What is colinearity?"
   ]
  },
  {
   "cell_type": "markdown",
   "metadata": {},
   "source": [
    "Answer: TODO"
   ]
  },
  {
   "cell_type": "markdown",
   "metadata": {},
   "source": [
    "> ### Question 17.  How will you test for covariance?"
   ]
  },
  {
   "cell_type": "markdown",
   "metadata": {},
   "source": [
    "Answer: TODO"
   ]
  },
  {
   "cell_type": "markdown",
   "metadata": {},
   "source": [
    "> ### Question 18.  What is your exploratory analysis plan?\n",
    "\n",
    "> Using the above information, write an exploratory analysis plan that would allow you or a colleague to reproduce your analysis one year from now."
   ]
  },
  {
   "cell_type": "markdown",
   "metadata": {},
   "source": [
    "Answer: TODO"
   ]
  }
 ],
 "metadata": {
  "kernelspec": {
   "display_name": "Python 2",
   "language": "python",
   "name": "python2"
  },
  "language_info": {
   "codemirror_mode": {
    "name": "ipython",
    "version": 2
   },
   "file_extension": ".py",
   "mimetype": "text/x-python",
   "name": "python",
   "nbconvert_exporter": "python",
   "pygments_lexer": "ipython2",
   "version": "2.7.13"
  }
 },
 "nbformat": 4,
 "nbformat_minor": 0
}
